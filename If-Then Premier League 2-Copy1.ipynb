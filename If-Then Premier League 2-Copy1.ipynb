{
 "cells": [
  {
   "cell_type": "code",
   "execution_count": 1,
   "metadata": {},
   "outputs": [],
   "source": [
    "import pandas as pd"
   ]
  },
  {
   "cell_type": "code",
   "execution_count": 2,
   "metadata": {},
   "outputs": [],
   "source": [
    "df15 = pd.read_excel('/Users/Admin/Desktop/MS BIA/Spring 2021/Data Analytics & Machine Learning /Final Project/2010-2021 Winners/2015 Winner/2015 Chelsea.xlsx',\n",
    "                           header = 1).drop(columns = 'Matches')\n",
    "df16 = pd.read_excel('/Users/Admin/Desktop/MS BIA/Spring 2021/Data Analytics & Machine Learning /Final Project/2010-2021 Winners/2016 Winner/2016 Leicester City.xlsx',\n",
    "                           header = 1).drop(columns = 'Matches')\n",
    "df17 = pd.read_excel('/Users/Admin/Desktop/MS BIA/Spring 2021/Data Analytics & Machine Learning /Final Project/2010-2021 Winners/2017 Winner/2017 Chelsea.xlsx',\n",
    "                           header = 1).drop(columns = 'Matches')\n",
    "df18 = pd.read_excel('/Users/Admin/Desktop/MS BIA/Spring 2021/Data Analytics & Machine Learning /Final Project/2010-2021 Winners/2018 Winner/2018 Manchester City.xlsx',\n",
    "                           header = 1).drop(columns = 'Matches')\n",
    "df19 = pd.read_excel('/Users/Admin/Desktop/MS BIA/Spring 2021/Data Analytics & Machine Learning /Final Project/2010-2021 Winners/2019 Winner/2019 Manchester City.xlsx',\n",
    "                           header = 1).drop(columns = 'Matches')\n",
    "df20 = pd.read_excel('/Users/Admin/Desktop/MS BIA/Spring 2021/Data Analytics & Machine Learning /Final Project/2010-2021 Winners/2020 Winner/2020 Liverpool.xlsx',\n",
    "                           header = 1).drop(columns = 'Matches')\n",
    "df21 = pd.read_excel('/Users/Admin/Desktop/MS BIA/Spring 2021/Data Analytics & Machine Learning /Final Project/2010-2021 Winners/2021 Winner/2021 Manchester City.xlsx',\n",
    "                           header = 1).drop(columns = 'Matches')\n"
   ]
  },
  {
   "cell_type": "code",
   "execution_count": 3,
   "metadata": {},
   "outputs": [],
   "source": [
    "pl15 = pd.read_excel('/Users/Admin/Desktop/MS BIA/Spring 2021/Data Analytics & Machine Learning /Final Project/2010-2021 Winners/2015 Winner/2015 Playing Time.xlsx',\n",
    "                           header = 1).drop(columns = 'Matches')\n",
    "pl16 = pd.read_excel('/Users/Admin/Desktop/MS BIA/Spring 2021/Data Analytics & Machine Learning /Final Project/2010-2021 Winners/2016 Winner/2016 Playing Time.xlsx',\n",
    "                           header = 1).drop(columns = 'Matches')\n",
    "pl17 = pd.read_excel('/Users/Admin/Desktop/MS BIA/Spring 2021/Data Analytics & Machine Learning /Final Project/2010-2021 Winners/2017 Winner/2017 Playing Time.xlsx',\n",
    "                           header = 1).drop(columns = 'Matches')\n",
    "pl18 = pd.read_excel('/Users/Admin/Desktop/MS BIA/Spring 2021/Data Analytics & Machine Learning /Final Project/2010-2021 Winners/2018 Winner/2018 Playing Time.xlsx',\n",
    "                           header = 1).drop(columns = 'Matches')\n",
    "pl19 = pd.read_excel('/Users/Admin/Desktop/MS BIA/Spring 2021/Data Analytics & Machine Learning /Final Project/2010-2021 Winners/2019 Winner/2019 Playing Time.xlsx',\n",
    "                           header = 1).drop(columns = 'Matches')\n",
    "pl20 = pd.read_excel('/Users/Admin/Desktop/MS BIA/Spring 2021/Data Analytics & Machine Learning /Final Project/2010-2021 Winners/2020 Winner/2020 Playing Time.xlsx',\n",
    "                           header = 1).drop(columns = 'Matches')\n",
    "pl21 = pd.read_excel('/Users/Admin/Desktop/MS BIA/Spring 2021/Data Analytics & Machine Learning /Final Project/2010-2021 Winners/2021 Winner/2021 Playing Time.xlsx',\n",
    "                           header = 1).drop(columns = 'Matches')"
   ]
  },
  {
   "cell_type": "code",
   "execution_count": 4,
   "metadata": {},
   "outputs": [],
   "source": [
    "df15 = df15.rename(columns = {'Gls.1': 'Gls/90s', 'Ast.1':'Ast/90s', 'G+A':'G+A/90s', 'G-PK.1':'G-PK/90s', 'G+A-PK':'G+A-PK/90s'})\n",
    "df16 = df16.rename(columns = {'Gls.1': 'Gls/90s', 'Ast.1':'Ast/90s', 'G+A':'G+A/90s', 'G-PK.1':'G-PK/90s', 'G+A-PK':'G+A-PK/90s'})\n",
    "df17 = df17.rename(columns = {'Gls.1': 'Gls/90s', 'Ast.1':'Ast/90s', 'G+A':'G+A/90s', 'G-PK.1':'G-PK/90s', 'G+A-PK':'G+A-PK/90s'})\n",
    "df18 = df18.rename(columns = {'Gls.1': 'Gls/90s', 'Ast.1':'Ast/90s', 'G+A':'G+A/90s', 'G-PK.1':'G-PK/90s', 'G+A-PK':'G+A-PK/90s'})\n",
    "df19 = df19.rename(columns = {'Gls.1': 'Gls/90s', 'Ast.1':'Ast/90s', 'G+A':'G+A/90s', 'G-PK.1':'G-PK/90s', 'G+A-PK':'G+A-PK/90s'})\n",
    "df20 = df20.rename(columns = {'Gls.1': 'Gls/90s', 'Ast.1':'Ast/90s', 'G+A':'G+A/90s', 'G-PK.1':'G-PK/90s', 'G+A-PK':'G+A-PK/90s'})\n",
    "df21 = df21.rename(columns = {'Gls.1': 'Gls/90s', 'Ast.1':'Ast/90s', 'G+A':'G+A/90s', 'G-PK.1':'G-PK/90s', 'G+A-PK':'G+A-PK/90s'})\n"
   ]
  },
  {
   "cell_type": "code",
   "execution_count": 5,
   "metadata": {},
   "outputs": [],
   "source": [
    "df18 = df18.drop(columns = ['xG', 'npxG', 'xA', 'npxG+xA', 'xG.1', 'xA.1', 'xG+xA', 'npxG.1', 'npxG+xA.1'])\n",
    "df19 = df19.drop(columns = ['xG', 'npxG', 'xA', 'npxG+xA', 'xG.1', 'xA.1', 'xG+xA', 'npxG.1', 'npxG+xA.1'])\n",
    "df20 = df20.drop(columns = ['xG', 'npxG', 'xA', 'npxG+xA', 'xG.1', 'xA.1', 'xG+xA', 'npxG.1', 'npxG+xA.1'])\n",
    "df21 = df21.drop(columns = ['xG', 'npxG', 'xA', 'npxG+xA', 'xG.1', 'xA.1', 'xG+xA', 'npxG.1', 'npxG+xA.1'])"
   ]
  },
  {
   "cell_type": "code",
   "execution_count": 6,
   "metadata": {},
   "outputs": [],
   "source": [
    "pl18 = pl18.drop(columns = ['onxG', 'onxGA', 'xG+/-', 'xG+/-90', 'On-Off.1'])\n",
    "pl19 = pl19.drop(columns = ['onxG', 'onxGA', 'xG+/-', 'xG+/-90', 'On-Off.1'])\n",
    "pl20 = pl20.drop(columns = ['onxG', 'onxGA', 'xG+/-', 'xG+/-90', 'On-Off.1'])\n",
    "pl21 = pl21.drop(columns = ['onxG', 'onxGA', 'xG+/-', 'xG+/-90', 'On-Off.1'])"
   ]
  },
  {
   "cell_type": "code",
   "execution_count": 7,
   "metadata": {},
   "outputs": [],
   "source": [
    "df15 = df15.iloc[0:-2]\n",
    "df16 = df16.iloc[0:-2]\n",
    "df17 = df17.iloc[0:-2]\n",
    "df18 = df18.iloc[0:-2]\n",
    "df19 = df19.iloc[0:-2]\n",
    "df20 = df20.iloc[0:-2]\n",
    "df21 = df21.iloc[0:-2]"
   ]
  },
  {
   "cell_type": "code",
   "execution_count": 8,
   "metadata": {},
   "outputs": [],
   "source": [
    "pl15 = pl15.iloc[0:-2]\n",
    "pl16 = pl16.iloc[0:-2]\n",
    "pl17 = pl17.iloc[0:-2]\n",
    "pl18 = pl18.iloc[0:-2]\n",
    "pl19 = pl19.iloc[0:-2]\n",
    "pl20 = pl20.iloc[0:-2]\n",
    "pl21 = pl21.iloc[0:-2]"
   ]
  },
  {
   "cell_type": "code",
   "execution_count": 9,
   "metadata": {},
   "outputs": [],
   "source": [
    "df15['Season'] = '2015'\n",
    "df16['Season'] = '2016'\n",
    "df17['Season'] = '2017'\n",
    "df18['Season'] = '2018'\n",
    "df19['Season'] = '2019'\n",
    "df20['Season'] = '2020'\n",
    "df21['Season'] = '2021'"
   ]
  },
  {
   "cell_type": "code",
   "execution_count": 10,
   "metadata": {},
   "outputs": [],
   "source": [
    "pl15['Season'] = '2015'\n",
    "pl16['Season'] = '2016'\n",
    "pl17['Season'] = '2017'\n",
    "pl18['Season'] = '2018'\n",
    "pl19['Season'] = '2019'\n",
    "pl20['Season'] = '2020'\n",
    "pl21['Season'] = '2021'"
   ]
  },
  {
   "cell_type": "code",
   "execution_count": 11,
   "metadata": {},
   "outputs": [],
   "source": [
    "df15['Team'] = 'Chelsea'\n",
    "df16['Team'] = 'Leicester City'\n",
    "df17['Team'] = 'Chelsea'\n",
    "df18['Team'] = 'Manchester City'\n",
    "df19['Team'] = 'Manchester City'\n",
    "df20['Team'] = 'Liverpool'\n",
    "df21['Team'] = 'Manchester City'"
   ]
  },
  {
   "cell_type": "code",
   "execution_count": 12,
   "metadata": {},
   "outputs": [],
   "source": [
    "pl15['Team'] = 'Chelsea'\n",
    "pl16['Team'] = 'Leicester City'\n",
    "pl17['Team'] = 'Chelsea'\n",
    "pl18['Team'] = 'Manchester City'\n",
    "pl19['Team'] = 'Manchester City'\n",
    "pl20['Team'] = 'Liverpool'\n",
    "pl21['Team'] = 'Manchester City'"
   ]
  },
  {
   "cell_type": "code",
   "execution_count": 13,
   "metadata": {},
   "outputs": [
    {
     "data": {
      "text/html": [
       "<div>\n",
       "<style scoped>\n",
       "    .dataframe tbody tr th:only-of-type {\n",
       "        vertical-align: middle;\n",
       "    }\n",
       "\n",
       "    .dataframe tbody tr th {\n",
       "        vertical-align: top;\n",
       "    }\n",
       "\n",
       "    .dataframe thead th {\n",
       "        text-align: right;\n",
       "    }\n",
       "</style>\n",
       "<table border=\"1\" class=\"dataframe\">\n",
       "  <thead>\n",
       "    <tr style=\"text-align: right;\">\n",
       "      <th></th>\n",
       "      <th>Player</th>\n",
       "      <th>Nation</th>\n",
       "      <th>Pos</th>\n",
       "      <th>Age</th>\n",
       "      <th>MP</th>\n",
       "      <th>Starts</th>\n",
       "      <th>Min</th>\n",
       "      <th>90s</th>\n",
       "      <th>Gls</th>\n",
       "      <th>Ast</th>\n",
       "      <th>...</th>\n",
       "      <th>PKatt</th>\n",
       "      <th>CrdY</th>\n",
       "      <th>CrdR</th>\n",
       "      <th>Gls/90s</th>\n",
       "      <th>Ast/90s</th>\n",
       "      <th>G+A/90s</th>\n",
       "      <th>G-PK/90s</th>\n",
       "      <th>G+A-PK/90s</th>\n",
       "      <th>Season</th>\n",
       "      <th>Team</th>\n",
       "    </tr>\n",
       "  </thead>\n",
       "  <tbody>\n",
       "    <tr>\n",
       "      <th>0</th>\n",
       "      <td>Branislav IvanoviÄ‡</td>\n",
       "      <td>rs SRB</td>\n",
       "      <td>DF</td>\n",
       "      <td>30.0</td>\n",
       "      <td>38</td>\n",
       "      <td>38</td>\n",
       "      <td>3420.0</td>\n",
       "      <td>38.0</td>\n",
       "      <td>4.0</td>\n",
       "      <td>5.0</td>\n",
       "      <td>...</td>\n",
       "      <td>0.0</td>\n",
       "      <td>11.0</td>\n",
       "      <td>1.0</td>\n",
       "      <td>0.11</td>\n",
       "      <td>0.13</td>\n",
       "      <td>0.24</td>\n",
       "      <td>0.11</td>\n",
       "      <td>0.24</td>\n",
       "      <td>2015</td>\n",
       "      <td>Chelsea</td>\n",
       "    </tr>\n",
       "    <tr>\n",
       "      <th>1</th>\n",
       "      <td>John Terry</td>\n",
       "      <td>eng ENG</td>\n",
       "      <td>DF</td>\n",
       "      <td>33.0</td>\n",
       "      <td>38</td>\n",
       "      <td>38</td>\n",
       "      <td>3420.0</td>\n",
       "      <td>38.0</td>\n",
       "      <td>5.0</td>\n",
       "      <td>0.0</td>\n",
       "      <td>...</td>\n",
       "      <td>0.0</td>\n",
       "      <td>2.0</td>\n",
       "      <td>0.0</td>\n",
       "      <td>0.13</td>\n",
       "      <td>0.00</td>\n",
       "      <td>0.13</td>\n",
       "      <td>0.13</td>\n",
       "      <td>0.13</td>\n",
       "      <td>2015</td>\n",
       "      <td>Chelsea</td>\n",
       "    </tr>\n",
       "    <tr>\n",
       "      <th>2</th>\n",
       "      <td>Eden Hazard</td>\n",
       "      <td>be BEL</td>\n",
       "      <td>FW,MF</td>\n",
       "      <td>23.0</td>\n",
       "      <td>38</td>\n",
       "      <td>38</td>\n",
       "      <td>3367.0</td>\n",
       "      <td>37.4</td>\n",
       "      <td>14.0</td>\n",
       "      <td>9.0</td>\n",
       "      <td>...</td>\n",
       "      <td>4.0</td>\n",
       "      <td>2.0</td>\n",
       "      <td>0.0</td>\n",
       "      <td>0.37</td>\n",
       "      <td>0.24</td>\n",
       "      <td>0.61</td>\n",
       "      <td>0.29</td>\n",
       "      <td>0.53</td>\n",
       "      <td>2015</td>\n",
       "      <td>Chelsea</td>\n",
       "    </tr>\n",
       "    <tr>\n",
       "      <th>3</th>\n",
       "      <td>Nemanja MatiÄ‡</td>\n",
       "      <td>rs SRB</td>\n",
       "      <td>MF</td>\n",
       "      <td>25.0</td>\n",
       "      <td>36</td>\n",
       "      <td>35</td>\n",
       "      <td>3123.0</td>\n",
       "      <td>34.7</td>\n",
       "      <td>1.0</td>\n",
       "      <td>3.0</td>\n",
       "      <td>...</td>\n",
       "      <td>0.0</td>\n",
       "      <td>10.0</td>\n",
       "      <td>1.0</td>\n",
       "      <td>0.03</td>\n",
       "      <td>0.09</td>\n",
       "      <td>0.12</td>\n",
       "      <td>0.03</td>\n",
       "      <td>0.12</td>\n",
       "      <td>2015</td>\n",
       "      <td>Chelsea</td>\n",
       "    </tr>\n",
       "    <tr>\n",
       "      <th>4</th>\n",
       "      <td>Gary Cahill</td>\n",
       "      <td>eng ENG</td>\n",
       "      <td>DF</td>\n",
       "      <td>28.0</td>\n",
       "      <td>36</td>\n",
       "      <td>33</td>\n",
       "      <td>2986.0</td>\n",
       "      <td>33.2</td>\n",
       "      <td>1.0</td>\n",
       "      <td>1.0</td>\n",
       "      <td>...</td>\n",
       "      <td>0.0</td>\n",
       "      <td>5.0</td>\n",
       "      <td>0.0</td>\n",
       "      <td>0.03</td>\n",
       "      <td>0.03</td>\n",
       "      <td>0.06</td>\n",
       "      <td>0.03</td>\n",
       "      <td>0.06</td>\n",
       "      <td>2015</td>\n",
       "      <td>Chelsea</td>\n",
       "    </tr>\n",
       "    <tr>\n",
       "      <th>...</th>\n",
       "      <td>...</td>\n",
       "      <td>...</td>\n",
       "      <td>...</td>\n",
       "      <td>...</td>\n",
       "      <td>...</td>\n",
       "      <td>...</td>\n",
       "      <td>...</td>\n",
       "      <td>...</td>\n",
       "      <td>...</td>\n",
       "      <td>...</td>\n",
       "      <td>...</td>\n",
       "      <td>...</td>\n",
       "      <td>...</td>\n",
       "      <td>...</td>\n",
       "      <td>...</td>\n",
       "      <td>...</td>\n",
       "      <td>...</td>\n",
       "      <td>...</td>\n",
       "      <td>...</td>\n",
       "      <td>...</td>\n",
       "      <td>...</td>\n",
       "    </tr>\n",
       "    <tr>\n",
       "      <th>159</th>\n",
       "      <td>Rhian Brewster</td>\n",
       "      <td>eng ENG</td>\n",
       "      <td>FW</td>\n",
       "      <td>19.0</td>\n",
       "      <td>0</td>\n",
       "      <td>0</td>\n",
       "      <td>NaN</td>\n",
       "      <td>NaN</td>\n",
       "      <td>NaN</td>\n",
       "      <td>NaN</td>\n",
       "      <td>...</td>\n",
       "      <td>NaN</td>\n",
       "      <td>NaN</td>\n",
       "      <td>NaN</td>\n",
       "      <td>NaN</td>\n",
       "      <td>NaN</td>\n",
       "      <td>NaN</td>\n",
       "      <td>NaN</td>\n",
       "      <td>NaN</td>\n",
       "      <td>2020</td>\n",
       "      <td>Liverpool</td>\n",
       "    </tr>\n",
       "    <tr>\n",
       "      <th>160</th>\n",
       "      <td>Ki-Jana Hoever</td>\n",
       "      <td>nl NED</td>\n",
       "      <td>DF</td>\n",
       "      <td>17.0</td>\n",
       "      <td>0</td>\n",
       "      <td>0</td>\n",
       "      <td>NaN</td>\n",
       "      <td>NaN</td>\n",
       "      <td>NaN</td>\n",
       "      <td>NaN</td>\n",
       "      <td>...</td>\n",
       "      <td>NaN</td>\n",
       "      <td>NaN</td>\n",
       "      <td>NaN</td>\n",
       "      <td>NaN</td>\n",
       "      <td>NaN</td>\n",
       "      <td>NaN</td>\n",
       "      <td>NaN</td>\n",
       "      <td>NaN</td>\n",
       "      <td>2020</td>\n",
       "      <td>Liverpool</td>\n",
       "    </tr>\n",
       "    <tr>\n",
       "      <th>161</th>\n",
       "      <td>CaoimhÃ­n Kelleher</td>\n",
       "      <td>ie IRL</td>\n",
       "      <td>GK</td>\n",
       "      <td>20.0</td>\n",
       "      <td>0</td>\n",
       "      <td>0</td>\n",
       "      <td>NaN</td>\n",
       "      <td>NaN</td>\n",
       "      <td>NaN</td>\n",
       "      <td>NaN</td>\n",
       "      <td>...</td>\n",
       "      <td>NaN</td>\n",
       "      <td>NaN</td>\n",
       "      <td>NaN</td>\n",
       "      <td>NaN</td>\n",
       "      <td>NaN</td>\n",
       "      <td>NaN</td>\n",
       "      <td>NaN</td>\n",
       "      <td>NaN</td>\n",
       "      <td>2020</td>\n",
       "      <td>Liverpool</td>\n",
       "    </tr>\n",
       "    <tr>\n",
       "      <th>162</th>\n",
       "      <td>Andy Lonergan</td>\n",
       "      <td>ie IRL</td>\n",
       "      <td>GK</td>\n",
       "      <td>35.0</td>\n",
       "      <td>0</td>\n",
       "      <td>0</td>\n",
       "      <td>NaN</td>\n",
       "      <td>NaN</td>\n",
       "      <td>NaN</td>\n",
       "      <td>NaN</td>\n",
       "      <td>...</td>\n",
       "      <td>NaN</td>\n",
       "      <td>NaN</td>\n",
       "      <td>NaN</td>\n",
       "      <td>NaN</td>\n",
       "      <td>NaN</td>\n",
       "      <td>NaN</td>\n",
       "      <td>NaN</td>\n",
       "      <td>NaN</td>\n",
       "      <td>2020</td>\n",
       "      <td>Liverpool</td>\n",
       "    </tr>\n",
       "    <tr>\n",
       "      <th>163</th>\n",
       "      <td>Nathaniel Phillips</td>\n",
       "      <td>eng ENG</td>\n",
       "      <td>DF</td>\n",
       "      <td>22.0</td>\n",
       "      <td>0</td>\n",
       "      <td>0</td>\n",
       "      <td>NaN</td>\n",
       "      <td>NaN</td>\n",
       "      <td>NaN</td>\n",
       "      <td>NaN</td>\n",
       "      <td>...</td>\n",
       "      <td>NaN</td>\n",
       "      <td>NaN</td>\n",
       "      <td>NaN</td>\n",
       "      <td>NaN</td>\n",
       "      <td>NaN</td>\n",
       "      <td>NaN</td>\n",
       "      <td>NaN</td>\n",
       "      <td>NaN</td>\n",
       "      <td>2020</td>\n",
       "      <td>Liverpool</td>\n",
       "    </tr>\n",
       "  </tbody>\n",
       "</table>\n",
       "<p>164 rows × 22 columns</p>\n",
       "</div>"
      ],
      "text/plain": [
       "                  Player   Nation    Pos   Age  MP  Starts     Min   90s  \\\n",
       "0    Branislav IvanoviÄ‡   rs SRB     DF  30.0  38      38  3420.0  38.0   \n",
       "1             John Terry  eng ENG     DF  33.0  38      38  3420.0  38.0   \n",
       "2            Eden Hazard   be BEL  FW,MF  23.0  38      38  3367.0  37.4   \n",
       "3         Nemanja MatiÄ‡   rs SRB     MF  25.0  36      35  3123.0  34.7   \n",
       "4            Gary Cahill  eng ENG     DF  28.0  36      33  2986.0  33.2   \n",
       "..                   ...      ...    ...   ...  ..     ...     ...   ...   \n",
       "159       Rhian Brewster  eng ENG     FW  19.0   0       0     NaN   NaN   \n",
       "160       Ki-Jana Hoever   nl NED     DF  17.0   0       0     NaN   NaN   \n",
       "161   CaoimhÃ­n Kelleher   ie IRL     GK  20.0   0       0     NaN   NaN   \n",
       "162        Andy Lonergan   ie IRL     GK  35.0   0       0     NaN   NaN   \n",
       "163   Nathaniel Phillips  eng ENG     DF  22.0   0       0     NaN   NaN   \n",
       "\n",
       "      Gls  Ast  ...  PKatt  CrdY  CrdR  Gls/90s  Ast/90s  G+A/90s  G-PK/90s  \\\n",
       "0     4.0  5.0  ...    0.0  11.0   1.0     0.11     0.13     0.24      0.11   \n",
       "1     5.0  0.0  ...    0.0   2.0   0.0     0.13     0.00     0.13      0.13   \n",
       "2    14.0  9.0  ...    4.0   2.0   0.0     0.37     0.24     0.61      0.29   \n",
       "3     1.0  3.0  ...    0.0  10.0   1.0     0.03     0.09     0.12      0.03   \n",
       "4     1.0  1.0  ...    0.0   5.0   0.0     0.03     0.03     0.06      0.03   \n",
       "..    ...  ...  ...    ...   ...   ...      ...      ...      ...       ...   \n",
       "159   NaN  NaN  ...    NaN   NaN   NaN      NaN      NaN      NaN       NaN   \n",
       "160   NaN  NaN  ...    NaN   NaN   NaN      NaN      NaN      NaN       NaN   \n",
       "161   NaN  NaN  ...    NaN   NaN   NaN      NaN      NaN      NaN       NaN   \n",
       "162   NaN  NaN  ...    NaN   NaN   NaN      NaN      NaN      NaN       NaN   \n",
       "163   NaN  NaN  ...    NaN   NaN   NaN      NaN      NaN      NaN       NaN   \n",
       "\n",
       "     G+A-PK/90s  Season       Team  \n",
       "0          0.24    2015    Chelsea  \n",
       "1          0.13    2015    Chelsea  \n",
       "2          0.53    2015    Chelsea  \n",
       "3          0.12    2015    Chelsea  \n",
       "4          0.06    2015    Chelsea  \n",
       "..          ...     ...        ...  \n",
       "159         NaN    2020  Liverpool  \n",
       "160         NaN    2020  Liverpool  \n",
       "161         NaN    2020  Liverpool  \n",
       "162         NaN    2020  Liverpool  \n",
       "163         NaN    2020  Liverpool  \n",
       "\n",
       "[164 rows x 22 columns]"
      ]
     },
     "execution_count": 13,
     "metadata": {},
     "output_type": "execute_result"
    }
   ],
   "source": [
    "frames = [df15, df16, df17, df18, df19, df20]\n",
    "df = pd.concat(frames)\n",
    "df = df.reset_index()\n",
    "df = df.drop(columns = 'index')\n",
    "df"
   ]
  },
  {
   "cell_type": "code",
   "execution_count": 14,
   "metadata": {},
   "outputs": [
    {
     "data": {
      "text/html": [
       "<div>\n",
       "<style scoped>\n",
       "    .dataframe tbody tr th:only-of-type {\n",
       "        vertical-align: middle;\n",
       "    }\n",
       "\n",
       "    .dataframe tbody tr th {\n",
       "        vertical-align: top;\n",
       "    }\n",
       "\n",
       "    .dataframe thead th {\n",
       "        text-align: right;\n",
       "    }\n",
       "</style>\n",
       "<table border=\"1\" class=\"dataframe\">\n",
       "  <thead>\n",
       "    <tr style=\"text-align: right;\">\n",
       "      <th></th>\n",
       "      <th>Player</th>\n",
       "      <th>Nation</th>\n",
       "      <th>Pos</th>\n",
       "      <th>Age</th>\n",
       "      <th>MP</th>\n",
       "      <th>Min</th>\n",
       "      <th>Mn/MP</th>\n",
       "      <th>Min%</th>\n",
       "      <th>90s</th>\n",
       "      <th>Starts</th>\n",
       "      <th>...</th>\n",
       "      <th>Mn/Sub</th>\n",
       "      <th>unSub</th>\n",
       "      <th>PPM</th>\n",
       "      <th>onG</th>\n",
       "      <th>onGA</th>\n",
       "      <th>+/-</th>\n",
       "      <th>+/-90</th>\n",
       "      <th>On-Off</th>\n",
       "      <th>Season</th>\n",
       "      <th>Team</th>\n",
       "    </tr>\n",
       "  </thead>\n",
       "  <tbody>\n",
       "    <tr>\n",
       "      <th>0</th>\n",
       "      <td>Branislav IvanoviÄ‡</td>\n",
       "      <td>rs SRB</td>\n",
       "      <td>DF</td>\n",
       "      <td>30.0</td>\n",
       "      <td>38</td>\n",
       "      <td>3.420</td>\n",
       "      <td>90.0</td>\n",
       "      <td>100.0</td>\n",
       "      <td>38.0</td>\n",
       "      <td>38</td>\n",
       "      <td>...</td>\n",
       "      <td>NaN</td>\n",
       "      <td>0</td>\n",
       "      <td>2.29</td>\n",
       "      <td>73.0</td>\n",
       "      <td>31.0</td>\n",
       "      <td>42.0</td>\n",
       "      <td>1.11</td>\n",
       "      <td>NaN</td>\n",
       "      <td>2015</td>\n",
       "      <td>Chelsea</td>\n",
       "    </tr>\n",
       "    <tr>\n",
       "      <th>1</th>\n",
       "      <td>John Terry</td>\n",
       "      <td>eng ENG</td>\n",
       "      <td>DF</td>\n",
       "      <td>33.0</td>\n",
       "      <td>38</td>\n",
       "      <td>3.420</td>\n",
       "      <td>90.0</td>\n",
       "      <td>100.0</td>\n",
       "      <td>38.0</td>\n",
       "      <td>38</td>\n",
       "      <td>...</td>\n",
       "      <td>NaN</td>\n",
       "      <td>0</td>\n",
       "      <td>2.29</td>\n",
       "      <td>73.0</td>\n",
       "      <td>32.0</td>\n",
       "      <td>41.0</td>\n",
       "      <td>1.08</td>\n",
       "      <td>NaN</td>\n",
       "      <td>2015</td>\n",
       "      <td>Chelsea</td>\n",
       "    </tr>\n",
       "    <tr>\n",
       "      <th>2</th>\n",
       "      <td>Eden Hazard</td>\n",
       "      <td>be BEL</td>\n",
       "      <td>FW,MF</td>\n",
       "      <td>23.0</td>\n",
       "      <td>38</td>\n",
       "      <td>3.367</td>\n",
       "      <td>89.0</td>\n",
       "      <td>98.5</td>\n",
       "      <td>37.4</td>\n",
       "      <td>38</td>\n",
       "      <td>...</td>\n",
       "      <td>NaN</td>\n",
       "      <td>0</td>\n",
       "      <td>2.29</td>\n",
       "      <td>71.0</td>\n",
       "      <td>30.0</td>\n",
       "      <td>41.0</td>\n",
       "      <td>1.10</td>\n",
       "      <td>1.10</td>\n",
       "      <td>2015</td>\n",
       "      <td>Chelsea</td>\n",
       "    </tr>\n",
       "    <tr>\n",
       "      <th>3</th>\n",
       "      <td>Nemanja MatiÄ‡</td>\n",
       "      <td>rs SRB</td>\n",
       "      <td>MF</td>\n",
       "      <td>25.0</td>\n",
       "      <td>36</td>\n",
       "      <td>3.123</td>\n",
       "      <td>87.0</td>\n",
       "      <td>91.3</td>\n",
       "      <td>34.7</td>\n",
       "      <td>35</td>\n",
       "      <td>...</td>\n",
       "      <td>NaN</td>\n",
       "      <td>0</td>\n",
       "      <td>2.33</td>\n",
       "      <td>70.0</td>\n",
       "      <td>28.0</td>\n",
       "      <td>42.0</td>\n",
       "      <td>1.21</td>\n",
       "      <td>1.51</td>\n",
       "      <td>2015</td>\n",
       "      <td>Chelsea</td>\n",
       "    </tr>\n",
       "    <tr>\n",
       "      <th>4</th>\n",
       "      <td>Gary Cahill</td>\n",
       "      <td>eng ENG</td>\n",
       "      <td>DF</td>\n",
       "      <td>28.0</td>\n",
       "      <td>36</td>\n",
       "      <td>2.986</td>\n",
       "      <td>83.0</td>\n",
       "      <td>87.3</td>\n",
       "      <td>33.2</td>\n",
       "      <td>33</td>\n",
       "      <td>...</td>\n",
       "      <td>NaN</td>\n",
       "      <td>2</td>\n",
       "      <td>2.31</td>\n",
       "      <td>66.0</td>\n",
       "      <td>30.0</td>\n",
       "      <td>36.0</td>\n",
       "      <td>1.09</td>\n",
       "      <td>0.05</td>\n",
       "      <td>2015</td>\n",
       "      <td>Chelsea</td>\n",
       "    </tr>\n",
       "    <tr>\n",
       "      <th>...</th>\n",
       "      <td>...</td>\n",
       "      <td>...</td>\n",
       "      <td>...</td>\n",
       "      <td>...</td>\n",
       "      <td>...</td>\n",
       "      <td>...</td>\n",
       "      <td>...</td>\n",
       "      <td>...</td>\n",
       "      <td>...</td>\n",
       "      <td>...</td>\n",
       "      <td>...</td>\n",
       "      <td>...</td>\n",
       "      <td>...</td>\n",
       "      <td>...</td>\n",
       "      <td>...</td>\n",
       "      <td>...</td>\n",
       "      <td>...</td>\n",
       "      <td>...</td>\n",
       "      <td>...</td>\n",
       "      <td>...</td>\n",
       "      <td>...</td>\n",
       "    </tr>\n",
       "    <tr>\n",
       "      <th>159</th>\n",
       "      <td>Rhian Brewster</td>\n",
       "      <td>eng ENG</td>\n",
       "      <td>FW</td>\n",
       "      <td>19.0</td>\n",
       "      <td>0</td>\n",
       "      <td>NaN</td>\n",
       "      <td>NaN</td>\n",
       "      <td>NaN</td>\n",
       "      <td>NaN</td>\n",
       "      <td>0</td>\n",
       "      <td>...</td>\n",
       "      <td>NaN</td>\n",
       "      <td>1</td>\n",
       "      <td>NaN</td>\n",
       "      <td>NaN</td>\n",
       "      <td>NaN</td>\n",
       "      <td>NaN</td>\n",
       "      <td>NaN</td>\n",
       "      <td>NaN</td>\n",
       "      <td>2020</td>\n",
       "      <td>Liverpool</td>\n",
       "    </tr>\n",
       "    <tr>\n",
       "      <th>160</th>\n",
       "      <td>Ki-Jana Hoever</td>\n",
       "      <td>nl NED</td>\n",
       "      <td>DF</td>\n",
       "      <td>17.0</td>\n",
       "      <td>0</td>\n",
       "      <td>NaN</td>\n",
       "      <td>NaN</td>\n",
       "      <td>NaN</td>\n",
       "      <td>NaN</td>\n",
       "      <td>0</td>\n",
       "      <td>...</td>\n",
       "      <td>NaN</td>\n",
       "      <td>1</td>\n",
       "      <td>NaN</td>\n",
       "      <td>NaN</td>\n",
       "      <td>NaN</td>\n",
       "      <td>NaN</td>\n",
       "      <td>NaN</td>\n",
       "      <td>NaN</td>\n",
       "      <td>2020</td>\n",
       "      <td>Liverpool</td>\n",
       "    </tr>\n",
       "    <tr>\n",
       "      <th>161</th>\n",
       "      <td>CaoimhÃ­n Kelleher</td>\n",
       "      <td>ie IRL</td>\n",
       "      <td>GK</td>\n",
       "      <td>20.0</td>\n",
       "      <td>0</td>\n",
       "      <td>NaN</td>\n",
       "      <td>NaN</td>\n",
       "      <td>NaN</td>\n",
       "      <td>NaN</td>\n",
       "      <td>0</td>\n",
       "      <td>...</td>\n",
       "      <td>NaN</td>\n",
       "      <td>7</td>\n",
       "      <td>NaN</td>\n",
       "      <td>NaN</td>\n",
       "      <td>NaN</td>\n",
       "      <td>NaN</td>\n",
       "      <td>NaN</td>\n",
       "      <td>NaN</td>\n",
       "      <td>2020</td>\n",
       "      <td>Liverpool</td>\n",
       "    </tr>\n",
       "    <tr>\n",
       "      <th>162</th>\n",
       "      <td>Andy Lonergan</td>\n",
       "      <td>ie IRL</td>\n",
       "      <td>GK</td>\n",
       "      <td>35.0</td>\n",
       "      <td>0</td>\n",
       "      <td>NaN</td>\n",
       "      <td>NaN</td>\n",
       "      <td>NaN</td>\n",
       "      <td>NaN</td>\n",
       "      <td>0</td>\n",
       "      <td>...</td>\n",
       "      <td>NaN</td>\n",
       "      <td>2</td>\n",
       "      <td>NaN</td>\n",
       "      <td>NaN</td>\n",
       "      <td>NaN</td>\n",
       "      <td>NaN</td>\n",
       "      <td>NaN</td>\n",
       "      <td>NaN</td>\n",
       "      <td>2020</td>\n",
       "      <td>Liverpool</td>\n",
       "    </tr>\n",
       "    <tr>\n",
       "      <th>163</th>\n",
       "      <td>Nathaniel Phillips</td>\n",
       "      <td>eng ENG</td>\n",
       "      <td>DF</td>\n",
       "      <td>22.0</td>\n",
       "      <td>0</td>\n",
       "      <td>NaN</td>\n",
       "      <td>NaN</td>\n",
       "      <td>NaN</td>\n",
       "      <td>NaN</td>\n",
       "      <td>0</td>\n",
       "      <td>...</td>\n",
       "      <td>NaN</td>\n",
       "      <td>2</td>\n",
       "      <td>NaN</td>\n",
       "      <td>NaN</td>\n",
       "      <td>NaN</td>\n",
       "      <td>NaN</td>\n",
       "      <td>NaN</td>\n",
       "      <td>NaN</td>\n",
       "      <td>2020</td>\n",
       "      <td>Liverpool</td>\n",
       "    </tr>\n",
       "  </tbody>\n",
       "</table>\n",
       "<p>164 rows × 23 columns</p>\n",
       "</div>"
      ],
      "text/plain": [
       "                  Player   Nation    Pos   Age  MP    Min  Mn/MP   Min%   90s  \\\n",
       "0    Branislav IvanoviÄ‡   rs SRB     DF  30.0  38  3.420   90.0  100.0  38.0   \n",
       "1             John Terry  eng ENG     DF  33.0  38  3.420   90.0  100.0  38.0   \n",
       "2            Eden Hazard   be BEL  FW,MF  23.0  38  3.367   89.0   98.5  37.4   \n",
       "3         Nemanja MatiÄ‡   rs SRB     MF  25.0  36  3.123   87.0   91.3  34.7   \n",
       "4            Gary Cahill  eng ENG     DF  28.0  36  2.986   83.0   87.3  33.2   \n",
       "..                   ...      ...    ...   ...  ..    ...    ...    ...   ...   \n",
       "159       Rhian Brewster  eng ENG     FW  19.0   0    NaN    NaN    NaN   NaN   \n",
       "160       Ki-Jana Hoever   nl NED     DF  17.0   0    NaN    NaN    NaN   NaN   \n",
       "161   CaoimhÃ­n Kelleher   ie IRL     GK  20.0   0    NaN    NaN    NaN   NaN   \n",
       "162        Andy Lonergan   ie IRL     GK  35.0   0    NaN    NaN    NaN   NaN   \n",
       "163   Nathaniel Phillips  eng ENG     DF  22.0   0    NaN    NaN    NaN   NaN   \n",
       "\n",
       "     Starts  ...  Mn/Sub  unSub   PPM   onG  onGA   +/-  +/-90  On-Off  \\\n",
       "0        38  ...     NaN      0  2.29  73.0  31.0  42.0   1.11     NaN   \n",
       "1        38  ...     NaN      0  2.29  73.0  32.0  41.0   1.08     NaN   \n",
       "2        38  ...     NaN      0  2.29  71.0  30.0  41.0   1.10    1.10   \n",
       "3        35  ...     NaN      0  2.33  70.0  28.0  42.0   1.21    1.51   \n",
       "4        33  ...     NaN      2  2.31  66.0  30.0  36.0   1.09    0.05   \n",
       "..      ...  ...     ...    ...   ...   ...   ...   ...    ...     ...   \n",
       "159       0  ...     NaN      1   NaN   NaN   NaN   NaN    NaN     NaN   \n",
       "160       0  ...     NaN      1   NaN   NaN   NaN   NaN    NaN     NaN   \n",
       "161       0  ...     NaN      7   NaN   NaN   NaN   NaN    NaN     NaN   \n",
       "162       0  ...     NaN      2   NaN   NaN   NaN   NaN    NaN     NaN   \n",
       "163       0  ...     NaN      2   NaN   NaN   NaN   NaN    NaN     NaN   \n",
       "\n",
       "     Season       Team  \n",
       "0      2015    Chelsea  \n",
       "1      2015    Chelsea  \n",
       "2      2015    Chelsea  \n",
       "3      2015    Chelsea  \n",
       "4      2015    Chelsea  \n",
       "..      ...        ...  \n",
       "159    2020  Liverpool  \n",
       "160    2020  Liverpool  \n",
       "161    2020  Liverpool  \n",
       "162    2020  Liverpool  \n",
       "163    2020  Liverpool  \n",
       "\n",
       "[164 rows x 23 columns]"
      ]
     },
     "execution_count": 14,
     "metadata": {},
     "output_type": "execute_result"
    }
   ],
   "source": [
    "frames = [pl15, pl16, pl17, pl18, pl19, pl20]\n",
    "pl = pd.concat(frames)\n",
    "pl = pl.reset_index()\n",
    "pl = pl.drop(columns  ='index')\n",
    "pl"
   ]
  },
  {
   "cell_type": "code",
   "execution_count": null,
   "metadata": {},
   "outputs": [],
   "source": []
  },
  {
   "cell_type": "code",
   "execution_count": 15,
   "metadata": {},
   "outputs": [],
   "source": [
    "## Plot & filter columns based on correlation"
   ]
  },
  {
   "cell_type": "code",
   "execution_count": 16,
   "metadata": {},
   "outputs": [],
   "source": [
    "import seaborn as sns\n",
    "import matplotlib.pyplot as plt"
   ]
  },
  {
   "cell_type": "code",
   "execution_count": 17,
   "metadata": {
    "scrolled": false
   },
   "outputs": [
    {
     "data": {
      "image/png": "[encoded data removed]",
      "text/plain": [
       "<Figure size 1152x432 with 2 Axes>"
      ]
     },
     "metadata": {
      "needs_background": "light"
     },
     "output_type": "display_data"
    }
   ],
   "source": [
    "plt.figure(figsize=(16, 6))\n",
    "heatmap = sns.heatmap(df.corr(), vmin=-1, vmax=1, annot=True, cmap='BrBG')\n",
    "heatmap.set_title('Standard_Heatmap_2015-20', fontdict={'fontsize':18}, pad=12);\n",
    "# save heatmap as .png file\n",
    "# dpi - sets the resolution of the saved image in dots/inches\n",
    "# bbox_inches - when set to 'tight' - does not allow the labels to be cropped\n",
    "plt.savefig('Standard_Heatmap_2015-20.png', dpi=300, bbox_inches='tight')"
   ]
  },
  {
   "cell_type": "code",
   "execution_count": 18,
   "metadata": {},
   "outputs": [],
   "source": [
    "## filtered columns based on correlation annotations: 0.5 & above ; -0.5 & below\n",
    "## Target Variable : 'G+A-PK/90s'\n",
    "df1 = df[['Season', 'Team', 'Player', 'Pos', 'Gls', 'Ast', 'G-PK', 'G+A-PK/90s']]"
   ]
  },
  {
   "cell_type": "code",
   "execution_count": 19,
   "metadata": {},
   "outputs": [
    {
     "data": {
      "image/png": "[encoded data removed]",
      "text/plain": [
       "<Figure size 1152x432 with 2 Axes>"
      ]
     },
     "metadata": {
      "needs_background": "light"
     },
     "output_type": "display_data"
    }
   ],
   "source": [
    "plt.figure(figsize=(16, 6))\n",
    "heatmap = sns.heatmap(pl.corr(), vmin=-1, vmax=1, annot=True, cmap='BrBG')\n",
    "heatmap.set_title('PlayTime_Heatmap_2015-20', fontdict={'fontsize':18}, pad=12);\n",
    "# save heatmap as .png file\n",
    "# dpi - sets the resolution of the saved image in dots/inches\n",
    "# bbox_inches - when set to 'tight' - does not allow the labels to be cropped\n",
    "plt.savefig('PlayTime_Heatmap_2015-20.png', dpi=300, bbox_inches='tight')"
   ]
  },
  {
   "cell_type": "code",
   "execution_count": 20,
   "metadata": {},
   "outputs": [],
   "source": [
    "## filtered columns based on correlation annotations.\n",
    "## Target Variable: '+/-'\n",
    "pl1 = pl[['Season', 'Team', 'Player', 'Pos', 'Min%', '90s', 'Compl', 'unSub', 'onG', 'onGA', '+/-']]"
   ]
  },
  {
   "cell_type": "code",
   "execution_count": 21,
   "metadata": {},
   "outputs": [
    {
     "name": "stdout",
     "output_type": "stream",
     "text": [
      "  Season     Team               Player    Pos   Gls  Ast  G-PK  G+A-PK/90s\n",
      "0   2015  Chelsea  Branislav IvanoviÄ‡     DF   4.0  5.0   4.0        0.24\n",
      "1   2015  Chelsea           John Terry     DF   5.0  0.0   5.0        0.13\n",
      "2   2015  Chelsea          Eden Hazard  FW,MF  14.0  9.0  11.0        0.53\n",
      "3   2015  Chelsea       Nemanja MatiÄ‡     MF   1.0  3.0   1.0        0.12\n",
      "4   2015  Chelsea          Gary Cahill     DF   1.0  1.0   1.0        0.06\n"
     ]
    },
    {
     "data": {
      "text/plain": [
       "DF       53\n",
       "MF       39\n",
       "FW       26\n",
       "GK       20\n",
       "FW,MF    17\n",
       "DF,MF     4\n",
       "MF,FW     3\n",
       "MF,DF     1\n",
       "DF,FW     1\n",
       "Name: Pos, dtype: int64"
      ]
     },
     "execution_count": 21,
     "metadata": {},
     "output_type": "execute_result"
    }
   ],
   "source": [
    "print(df1.head())\n",
    "df1['Pos'].value_counts()"
   ]
  },
  {
   "cell_type": "code",
   "execution_count": 22,
   "metadata": {},
   "outputs": [
    {
     "data": {
      "text/html": [
       "<div>\n",
       "<style scoped>\n",
       "    .dataframe tbody tr th:only-of-type {\n",
       "        vertical-align: middle;\n",
       "    }\n",
       "\n",
       "    .dataframe tbody tr th {\n",
       "        vertical-align: top;\n",
       "    }\n",
       "\n",
       "    .dataframe thead th {\n",
       "        text-align: right;\n",
       "    }\n",
       "</style>\n",
       "<table border=\"1\" class=\"dataframe\">\n",
       "  <thead>\n",
       "    <tr style=\"text-align: right;\">\n",
       "      <th></th>\n",
       "      <th>Season</th>\n",
       "      <th>Team</th>\n",
       "      <th>Player</th>\n",
       "      <th>Pos</th>\n",
       "      <th>Min%</th>\n",
       "      <th>90s</th>\n",
       "      <th>Compl</th>\n",
       "      <th>unSub</th>\n",
       "      <th>onG</th>\n",
       "      <th>onGA</th>\n",
       "      <th>+/-</th>\n",
       "    </tr>\n",
       "  </thead>\n",
       "  <tbody>\n",
       "    <tr>\n",
       "      <th>0</th>\n",
       "      <td>2015</td>\n",
       "      <td>Chelsea</td>\n",
       "      <td>Branislav IvanoviÄ‡</td>\n",
       "      <td>DF</td>\n",
       "      <td>100.0</td>\n",
       "      <td>38.0</td>\n",
       "      <td>37.0</td>\n",
       "      <td>0</td>\n",
       "      <td>73.0</td>\n",
       "      <td>31.0</td>\n",
       "      <td>42.0</td>\n",
       "    </tr>\n",
       "    <tr>\n",
       "      <th>1</th>\n",
       "      <td>2015</td>\n",
       "      <td>Chelsea</td>\n",
       "      <td>John Terry</td>\n",
       "      <td>DF</td>\n",
       "      <td>100.0</td>\n",
       "      <td>38.0</td>\n",
       "      <td>38.0</td>\n",
       "      <td>0</td>\n",
       "      <td>73.0</td>\n",
       "      <td>32.0</td>\n",
       "      <td>41.0</td>\n",
       "    </tr>\n",
       "    <tr>\n",
       "      <th>2</th>\n",
       "      <td>2015</td>\n",
       "      <td>Chelsea</td>\n",
       "      <td>Eden Hazard</td>\n",
       "      <td>FW,MF</td>\n",
       "      <td>98.5</td>\n",
       "      <td>37.4</td>\n",
       "      <td>26.0</td>\n",
       "      <td>0</td>\n",
       "      <td>71.0</td>\n",
       "      <td>30.0</td>\n",
       "      <td>41.0</td>\n",
       "    </tr>\n",
       "    <tr>\n",
       "      <th>3</th>\n",
       "      <td>2015</td>\n",
       "      <td>Chelsea</td>\n",
       "      <td>Nemanja MatiÄ‡</td>\n",
       "      <td>MF</td>\n",
       "      <td>91.3</td>\n",
       "      <td>34.7</td>\n",
       "      <td>33.0</td>\n",
       "      <td>0</td>\n",
       "      <td>70.0</td>\n",
       "      <td>28.0</td>\n",
       "      <td>42.0</td>\n",
       "    </tr>\n",
       "    <tr>\n",
       "      <th>4</th>\n",
       "      <td>2015</td>\n",
       "      <td>Chelsea</td>\n",
       "      <td>Gary Cahill</td>\n",
       "      <td>DF</td>\n",
       "      <td>87.3</td>\n",
       "      <td>33.2</td>\n",
       "      <td>32.0</td>\n",
       "      <td>2</td>\n",
       "      <td>66.0</td>\n",
       "      <td>30.0</td>\n",
       "      <td>36.0</td>\n",
       "    </tr>\n",
       "  </tbody>\n",
       "</table>\n",
       "</div>"
      ],
      "text/plain": [
       "  Season     Team               Player    Pos   Min%   90s  Compl  unSub  \\\n",
       "0   2015  Chelsea  Branislav IvanoviÄ‡     DF  100.0  38.0   37.0      0   \n",
       "1   2015  Chelsea           John Terry     DF  100.0  38.0   38.0      0   \n",
       "2   2015  Chelsea          Eden Hazard  FW,MF   98.5  37.4   26.0      0   \n",
       "3   2015  Chelsea       Nemanja MatiÄ‡     MF   91.3  34.7   33.0      0   \n",
       "4   2015  Chelsea          Gary Cahill     DF   87.3  33.2   32.0      2   \n",
       "\n",
       "    onG  onGA   +/-  \n",
       "0  73.0  31.0  42.0  \n",
       "1  73.0  32.0  41.0  \n",
       "2  71.0  30.0  41.0  \n",
       "3  70.0  28.0  42.0  \n",
       "4  66.0  30.0  36.0  "
      ]
     },
     "execution_count": 22,
     "metadata": {},
     "output_type": "execute_result"
    }
   ],
   "source": [
    "#pl1 = pl1.drop(columns = 'Min')\n",
    "pl1.head()"
   ]
  },
  {
   "cell_type": "code",
   "execution_count": 23,
   "metadata": {
    "scrolled": true
   },
   "outputs": [
    {
     "name": "stdout",
     "output_type": "stream",
     "text": [
      "Season         0\n",
      "Team           0\n",
      "Player         0\n",
      "Pos            0\n",
      "Gls           22\n",
      "Ast           22\n",
      "G-PK          22\n",
      "G+A-PK/90s    22\n",
      "dtype: int64\n",
      "Season        0\n",
      "Team          0\n",
      "Player        0\n",
      "Pos           0\n",
      "Gls           0\n",
      "Ast           0\n",
      "G-PK          0\n",
      "G+A-PK/90s    0\n",
      "dtype: int64\n",
      "Season     0\n",
      "Team       0\n",
      "Player     0\n",
      "Pos        0\n",
      "Min%      22\n",
      "90s       22\n",
      "Compl      0\n",
      "unSub      0\n",
      "onG       22\n",
      "onGA      22\n",
      "+/-       22\n",
      "dtype: int64\n",
      "Season    0\n",
      "Team      0\n",
      "Player    0\n",
      "Pos       0\n",
      "Min%      0\n",
      "90s       0\n",
      "Compl     0\n",
      "unSub     0\n",
      "onG       0\n",
      "onGA      0\n",
      "+/-       0\n",
      "dtype: int64\n"
     ]
    }
   ],
   "source": [
    "print(df1.isna().sum())\n",
    "df1 = df1.fillna(0)\n",
    "print(df1.isna().sum())\n",
    "\n",
    "print(pl1.isna().sum())\n",
    "pl1 = pl1.fillna(0)\n",
    "print(pl1.isna().sum())"
   ]
  },
  {
   "cell_type": "code",
   "execution_count": 24,
   "metadata": {},
   "outputs": [
    {
     "data": {
      "text/html": [
       "<div>\n",
       "<style scoped>\n",
       "    .dataframe tbody tr th:only-of-type {\n",
       "        vertical-align: middle;\n",
       "    }\n",
       "\n",
       "    .dataframe tbody tr th {\n",
       "        vertical-align: top;\n",
       "    }\n",
       "\n",
       "    .dataframe thead th {\n",
       "        text-align: right;\n",
       "    }\n",
       "</style>\n",
       "<table border=\"1\" class=\"dataframe\">\n",
       "  <thead>\n",
       "    <tr style=\"text-align: right;\">\n",
       "      <th></th>\n",
       "      <th>Season</th>\n",
       "      <th>Team</th>\n",
       "      <th>Player</th>\n",
       "      <th>Pos</th>\n",
       "      <th>Gls</th>\n",
       "      <th>Ast</th>\n",
       "      <th>G-PK</th>\n",
       "      <th>G+A-PK/90s</th>\n",
       "      <th>Min%</th>\n",
       "      <th>90s</th>\n",
       "      <th>Compl</th>\n",
       "      <th>unSub</th>\n",
       "      <th>onG</th>\n",
       "      <th>onGA</th>\n",
       "      <th>+/-</th>\n",
       "    </tr>\n",
       "  </thead>\n",
       "  <tbody>\n",
       "    <tr>\n",
       "      <th>0</th>\n",
       "      <td>2015</td>\n",
       "      <td>Chelsea</td>\n",
       "      <td>Branislav IvanoviÄ‡</td>\n",
       "      <td>DF</td>\n",
       "      <td>4.0</td>\n",
       "      <td>5.0</td>\n",
       "      <td>4.0</td>\n",
       "      <td>0.24</td>\n",
       "      <td>100.0</td>\n",
       "      <td>38.0</td>\n",
       "      <td>37.0</td>\n",
       "      <td>0</td>\n",
       "      <td>73.0</td>\n",
       "      <td>31.0</td>\n",
       "      <td>42.0</td>\n",
       "    </tr>\n",
       "    <tr>\n",
       "      <th>1</th>\n",
       "      <td>2015</td>\n",
       "      <td>Chelsea</td>\n",
       "      <td>John Terry</td>\n",
       "      <td>DF</td>\n",
       "      <td>5.0</td>\n",
       "      <td>0.0</td>\n",
       "      <td>5.0</td>\n",
       "      <td>0.13</td>\n",
       "      <td>100.0</td>\n",
       "      <td>38.0</td>\n",
       "      <td>38.0</td>\n",
       "      <td>0</td>\n",
       "      <td>73.0</td>\n",
       "      <td>32.0</td>\n",
       "      <td>41.0</td>\n",
       "    </tr>\n",
       "    <tr>\n",
       "      <th>2</th>\n",
       "      <td>2015</td>\n",
       "      <td>Chelsea</td>\n",
       "      <td>Eden Hazard</td>\n",
       "      <td>FW,MF</td>\n",
       "      <td>14.0</td>\n",
       "      <td>9.0</td>\n",
       "      <td>11.0</td>\n",
       "      <td>0.53</td>\n",
       "      <td>98.5</td>\n",
       "      <td>37.4</td>\n",
       "      <td>26.0</td>\n",
       "      <td>0</td>\n",
       "      <td>71.0</td>\n",
       "      <td>30.0</td>\n",
       "      <td>41.0</td>\n",
       "    </tr>\n",
       "    <tr>\n",
       "      <th>3</th>\n",
       "      <td>2015</td>\n",
       "      <td>Chelsea</td>\n",
       "      <td>Nemanja MatiÄ‡</td>\n",
       "      <td>MF</td>\n",
       "      <td>1.0</td>\n",
       "      <td>3.0</td>\n",
       "      <td>1.0</td>\n",
       "      <td>0.12</td>\n",
       "      <td>91.3</td>\n",
       "      <td>34.7</td>\n",
       "      <td>33.0</td>\n",
       "      <td>0</td>\n",
       "      <td>70.0</td>\n",
       "      <td>28.0</td>\n",
       "      <td>42.0</td>\n",
       "    </tr>\n",
       "    <tr>\n",
       "      <th>4</th>\n",
       "      <td>2015</td>\n",
       "      <td>Chelsea</td>\n",
       "      <td>Gary Cahill</td>\n",
       "      <td>DF</td>\n",
       "      <td>1.0</td>\n",
       "      <td>1.0</td>\n",
       "      <td>1.0</td>\n",
       "      <td>0.06</td>\n",
       "      <td>87.3</td>\n",
       "      <td>33.2</td>\n",
       "      <td>32.0</td>\n",
       "      <td>2</td>\n",
       "      <td>66.0</td>\n",
       "      <td>30.0</td>\n",
       "      <td>36.0</td>\n",
       "    </tr>\n",
       "  </tbody>\n",
       "</table>\n",
       "</div>"
      ],
      "text/plain": [
       "  Season     Team               Player    Pos   Gls  Ast  G-PK  G+A-PK/90s  \\\n",
       "0   2015  Chelsea  Branislav IvanoviÄ‡     DF   4.0  5.0   4.0        0.24   \n",
       "1   2015  Chelsea           John Terry     DF   5.0  0.0   5.0        0.13   \n",
       "2   2015  Chelsea          Eden Hazard  FW,MF  14.0  9.0  11.0        0.53   \n",
       "3   2015  Chelsea       Nemanja MatiÄ‡     MF   1.0  3.0   1.0        0.12   \n",
       "4   2015  Chelsea          Gary Cahill     DF   1.0  1.0   1.0        0.06   \n",
       "\n",
       "    Min%   90s  Compl  unSub   onG  onGA   +/-  \n",
       "0  100.0  38.0   37.0      0  73.0  31.0  42.0  \n",
       "1  100.0  38.0   38.0      0  73.0  32.0  41.0  \n",
       "2   98.5  37.4   26.0      0  71.0  30.0  41.0  \n",
       "3   91.3  34.7   33.0      0  70.0  28.0  42.0  \n",
       "4   87.3  33.2   32.0      2  66.0  30.0  36.0  "
      ]
     },
     "execution_count": 24,
     "metadata": {},
     "output_type": "execute_result"
    }
   ],
   "source": [
    "data = pd.merge(df1, pl1, on=[\"Season\", \"Team\", \"Player\", \"Pos\"])\n",
    "data.head()"
   ]
  },
  {
   "cell_type": "code",
   "execution_count": 25,
   "metadata": {},
   "outputs": [
    {
     "data": {
      "image/png": "[encoded data removed]",
      "text/plain": [
       "<Figure size 1152x432 with 2 Axes>"
      ]
     },
     "metadata": {
      "needs_background": "light"
     },
     "output_type": "display_data"
    }
   ],
   "source": [
    "plt.figure(figsize=(16, 6))\n",
    "heatmap = sns.heatmap(data.corr(), vmin=-1, vmax=1, annot=True, cmap='BrBG')\n",
    "heatmap.set_title('Data_Heatmap_2015-20', fontdict={'fontsize':18}, pad=12);\n",
    "# save heatmap as .png file\n",
    "# dpi - sets the resolution of the saved image in dots/inches\n",
    "# bbox_inches - when set to 'tight' - does not allow the labels to be cropped\n",
    "plt.savefig('Data_Heatmap_2015-20.png', dpi=300, bbox_inches='tight')"
   ]
  },
  {
   "cell_type": "code",
   "execution_count": 26,
   "metadata": {},
   "outputs": [],
   "source": [
    "fw = df1[df1['Pos'] == 'FW']\n",
    "fw = fw.reset_index().drop(columns = 'index')\n",
    "\n",
    "md1 = pl1[pl1['Pos'] == 'MF']\n",
    "md2 = pl1[pl1['Pos'] == 'FW,MF']\n",
    "md3 = pl1[pl1['Pos'] == 'MF,FW']\n",
    "dfn1 = data[data['Pos'] == 'DF']\n",
    "dfn2 = data[data['Pos'] == 'DF,MF']\n",
    "dfn3 = data[data['Pos'] == 'MF,DF']\n",
    "dfn4 = data[data['Pos'] == 'DF,FW']"
   ]
  },
  {
   "cell_type": "code",
   "execution_count": 27,
   "metadata": {},
   "outputs": [],
   "source": [
    "frames = [md1, md2, md3]\n",
    "md = pd.concat(frames)\n",
    "md = md.reset_index()\n",
    "md = md.drop(columns = 'index')"
   ]
  },
  {
   "cell_type": "code",
   "execution_count": 28,
   "metadata": {},
   "outputs": [],
   "source": [
    "frames = [dfn1, dfn2, dfn3, dfn4]\n",
    "dfn = pd.concat(frames)\n",
    "dfn = dfn.reset_index()\n",
    "dfn = dfn.drop(columns = 'index')"
   ]
  },
  {
   "cell_type": "markdown",
   "metadata": {},
   "source": [
    "## k-NN for dataset fw"
   ]
  },
  {
   "cell_type": "code",
   "execution_count": 29,
   "metadata": {},
   "outputs": [
    {
     "data": {
      "image/png": "[encoded data removed]",
      "text/plain": [
       "<Figure size 1152x432 with 2 Axes>"
      ]
     },
     "metadata": {
      "needs_background": "light"
     },
     "output_type": "display_data"
    }
   ],
   "source": [
    "plt.figure(figsize=(16, 6))\n",
    "heatmap = sns.heatmap(fw.corr(), vmin=-1, vmax=1, annot=True, cmap='BrBG')\n",
    "heatmap.set_title('Foward_Heatmap_2015-20', fontdict={'fontsize':18}, pad=12);\n",
    "# save heatmap as .png file\n",
    "# dpi - sets the resolution of the saved image in dots/inches\n",
    "# bbox_inches - when set to 'tight' - does not allow the labels to be cropped\n",
    "plt.savefig('Forward_Heatmap_2015-20.png', dpi=300, bbox_inches='tight')"
   ]
  },
  {
   "cell_type": "code",
   "execution_count": 30,
   "metadata": {},
   "outputs": [],
   "source": [
    "fw1 = fw[['Gls', 'Ast', 'G-PK', 'G+A-PK/90s']]"
   ]
  },
  {
   "cell_type": "raw",
   "metadata": {},
   "source": [
    "# target_col = \"G+A-PK/90s\"\n",
    "X = fw.loc[:, fw.columns != target_col]\n",
    "y = fw.loc[:, target_col]\n",
    "\n",
    "k = 59 #number of variables for heatmap\n",
    "cols = fw.corr().nlargest(k, target_col)[target_col].index\n",
    "cm = fw[cols].corr()\n",
    "plt.figure(figsize=(14,8))\n",
    "sns.heatmap(cm, annot=True, cmap = 'viridis', vmin=-1, vmax=1)"
   ]
  },
  {
   "cell_type": "code",
   "execution_count": 31,
   "metadata": {},
   "outputs": [],
   "source": [
    "X = fw1.drop(\"G+A-PK/90s\", axis=1)\n",
    "X = X.values\n",
    "y = fw1[\"G+A-PK/90s\"]\n",
    "y = y.values"
   ]
  },
  {
   "cell_type": "code",
   "execution_count": 32,
   "metadata": {},
   "outputs": [],
   "source": [
    "from sklearn.model_selection import train_test_split\n",
    "X_train, X_test, y_train, y_test = train_test_split(\n",
    "    X, y, test_size=0.2, random_state=26195\n",
    ")"
   ]
  },
  {
   "cell_type": "code",
   "execution_count": 33,
   "metadata": {},
   "outputs": [
    {
     "data": {
      "text/html": [
       "<div>\n",
       "<style scoped>\n",
       "    .dataframe tbody tr th:only-of-type {\n",
       "        vertical-align: middle;\n",
       "    }\n",
       "\n",
       "    .dataframe tbody tr th {\n",
       "        vertical-align: top;\n",
       "    }\n",
       "\n",
       "    .dataframe thead th {\n",
       "        text-align: right;\n",
       "    }\n",
       "</style>\n",
       "<table border=\"1\" class=\"dataframe\">\n",
       "  <thead>\n",
       "    <tr style=\"text-align: right;\">\n",
       "      <th></th>\n",
       "      <th>Gls</th>\n",
       "      <th>Ast</th>\n",
       "      <th>G-PK</th>\n",
       "      <th>G+A-PK/90s</th>\n",
       "    </tr>\n",
       "  </thead>\n",
       "  <tbody>\n",
       "    <tr>\n",
       "      <th>3</th>\n",
       "      <td>10.0</td>\n",
       "      <td>6.0</td>\n",
       "      <td>10.0</td>\n",
       "      <td>0.59</td>\n",
       "    </tr>\n",
       "    <tr>\n",
       "      <th>8</th>\n",
       "      <td>8.0</td>\n",
       "      <td>4.0</td>\n",
       "      <td>8.0</td>\n",
       "      <td>0.55</td>\n",
       "    </tr>\n",
       "    <tr>\n",
       "      <th>10</th>\n",
       "      <td>9.0</td>\n",
       "      <td>4.0</td>\n",
       "      <td>9.0</td>\n",
       "      <td>0.65</td>\n",
       "    </tr>\n",
       "    <tr>\n",
       "      <th>23</th>\n",
       "      <td>0.0</td>\n",
       "      <td>0.0</td>\n",
       "      <td>0.0</td>\n",
       "      <td>0.00</td>\n",
       "    </tr>\n",
       "  </tbody>\n",
       "</table>\n",
       "</div>"
      ],
      "text/plain": [
       "     Gls  Ast  G-PK  G+A-PK/90s\n",
       "3   10.0  6.0  10.0        0.59\n",
       "8    8.0  4.0   8.0        0.55\n",
       "10   9.0  4.0   9.0        0.65\n",
       "23   0.0  0.0   0.0        0.00"
      ]
     },
     "execution_count": 33,
     "metadata": {},
     "output_type": "execute_result"
    }
   ],
   "source": [
    "fw21 = df21[['Pos', 'Gls', 'Ast', 'G-PK', 'G+A-PK/90s']]\n",
    "fw21 = fw21[fw21['Pos'] == 'FW']\n",
    "fw21 = fw21.drop(columns = \"Pos\")\n",
    "fw21 = fw21.fillna(0)\n",
    "fw21"
   ]
  },
  {
   "cell_type": "code",
   "execution_count": 34,
   "metadata": {},
   "outputs": [
    {
     "data": {
      "text/plain": [
       "array([[10.,  6., 10.]])"
      ]
     },
     "execution_count": 34,
     "metadata": {},
     "output_type": "execute_result"
    }
   ],
   "source": [
    "new_X = fw21.iloc[0:1]\n",
    "new_X = new_X.drop(\"G+A-PK/90s\", axis=1)\n",
    "new_X = new_X.values\n",
    "new_X"
   ]
  },
  {
   "cell_type": "code",
   "execution_count": 35,
   "metadata": {},
   "outputs": [],
   "source": [
    "## distances\n",
    "import numpy as np\n",
    "distances = np.linalg.norm(X - new_X, axis=1)"
   ]
  },
  {
   "cell_type": "code",
   "execution_count": 36,
   "metadata": {},
   "outputs": [
    {
     "data": {
      "text/plain": [
       "array([20, 18])"
      ]
     },
     "execution_count": 36,
     "metadata": {},
     "output_type": "execute_result"
    }
   ],
   "source": [
    "## initially k set to 3\n",
    "k = 2\n",
    "nearest_neighbor_ids = distances.argsort()[:k]\n",
    "nearest_neighbor_ids"
   ]
  },
  {
   "cell_type": "code",
   "execution_count": 37,
   "metadata": {},
   "outputs": [
    {
     "data": {
      "text/plain": [
       "array([0.51, 0.96])"
      ]
     },
     "execution_count": 37,
     "metadata": {},
     "output_type": "execute_result"
    }
   ],
   "source": [
    "## on y\n",
    "nearest_neighbor_rings = y[nearest_neighbor_ids]\n",
    "nearest_neighbor_rings"
   ]
  },
  {
   "cell_type": "code",
   "execution_count": 38,
   "metadata": {},
   "outputs": [
    {
     "data": {
      "text/plain": [
       "0.735"
      ]
     },
     "execution_count": 38,
     "metadata": {},
     "output_type": "execute_result"
    }
   ],
   "source": [
    "## Average for regression\n",
    "prediction = nearest_neighbor_rings.mean()\n",
    "prediction"
   ]
  },
  {
   "cell_type": "code",
   "execution_count": 39,
   "metadata": {},
   "outputs": [],
   "source": [
    "## fitting kNN using scikit-learn"
   ]
  },
  {
   "cell_type": "code",
   "execution_count": 40,
   "metadata": {},
   "outputs": [],
   "source": [
    "from sklearn.neighbors import KNeighborsRegressor\n",
    "knn_model_fw = KNeighborsRegressor(n_neighbors=2)"
   ]
  },
  {
   "cell_type": "code",
   "execution_count": 41,
   "metadata": {},
   "outputs": [
    {
     "data": {
      "text/plain": [
       "KNeighborsRegressor(n_neighbors=2)"
      ]
     },
     "execution_count": 41,
     "metadata": {},
     "output_type": "execute_result"
    }
   ],
   "source": [
    "knn_model_fw.fit(X_train, y_train)"
   ]
  },
  {
   "cell_type": "code",
   "execution_count": 42,
   "metadata": {},
   "outputs": [
    {
     "data": {
      "text/plain": [
       "0.27307279249313726"
      ]
     },
     "execution_count": 42,
     "metadata": {},
     "output_type": "execute_result"
    }
   ],
   "source": [
    "from sklearn.metrics import mean_squared_error\n",
    "from math import sqrt\n",
    "train_preds = knn_model_fw.predict(X_train)\n",
    "mse = mean_squared_error(y_train, train_preds)\n",
    "rmse = sqrt(mse)\n",
    "rmse"
   ]
  },
  {
   "cell_type": "code",
   "execution_count": 43,
   "metadata": {},
   "outputs": [
    {
     "data": {
      "text/plain": [
       "0.48674086192415217"
      ]
     },
     "execution_count": 43,
     "metadata": {},
     "output_type": "execute_result"
    }
   ],
   "source": [
    "test_preds = knn_model_fw.predict(X_test)\n",
    "mse = mean_squared_error(y_test, test_preds)\n",
    "rmse = sqrt(mse)\n",
    "rmse"
   ]
  },
  {
   "cell_type": "code",
   "execution_count": 44,
   "metadata": {},
   "outputs": [],
   "source": [
    "## there is quite some difference in our 2 RMSEs, thus we can assume that the model might have suffered from \n",
    "## overfitting."
   ]
  },
  {
   "cell_type": "code",
   "execution_count": 45,
   "metadata": {},
   "outputs": [],
   "source": [
    "## Improving kNN Performances in scikit-learn Using GridSearchCV"
   ]
  },
  {
   "cell_type": "code",
   "execution_count": 46,
   "metadata": {
    "scrolled": false
   },
   "outputs": [
    {
     "data": {
      "text/plain": [
       "GridSearchCV(estimator=KNeighborsRegressor(),\n",
       "             param_grid={'n_neighbors': range(1, 17)})"
      ]
     },
     "execution_count": 46,
     "metadata": {},
     "output_type": "execute_result"
    }
   ],
   "source": [
    "from sklearn.model_selection import GridSearchCV\n",
    "parameters = {\"n_neighbors\": range(1, 17)}\n",
    "gridsearch_fw = GridSearchCV(KNeighborsRegressor(), parameters)\n",
    "gridsearch_fw.fit(X_train, y_train)"
   ]
  },
  {
   "cell_type": "code",
   "execution_count": 47,
   "metadata": {},
   "outputs": [
    {
     "data": {
      "text/plain": [
       "{'n_neighbors': 4}"
      ]
     },
     "execution_count": 47,
     "metadata": {},
     "output_type": "execute_result"
    }
   ],
   "source": [
    "gridsearch_fw.best_params_"
   ]
  },
  {
   "cell_type": "code",
   "execution_count": 48,
   "metadata": {},
   "outputs": [
    {
     "name": "stdout",
     "output_type": "stream",
     "text": [
      "0.29227234730641216\n"
     ]
    },
    {
     "data": {
      "text/plain": [
       "0.3693293471505706"
      ]
     },
     "execution_count": 48,
     "metadata": {},
     "output_type": "execute_result"
    }
   ],
   "source": [
    "train_preds_grid = gridsearch_fw.predict(X_train)\n",
    "train_mse = mean_squared_error(y_train, train_preds_grid)\n",
    "train_rmse = sqrt(train_mse)\n",
    "test_preds_grid = gridsearch_fw.predict(X_test)\n",
    "test_mse = mean_squared_error(y_test, test_preds_grid)\n",
    "test_rmse = sqrt(test_mse)\n",
    "print(train_rmse)\n",
    "\n",
    "test_rmse"
   ]
  },
  {
   "cell_type": "code",
   "execution_count": 49,
   "metadata": {},
   "outputs": [],
   "source": [
    "## we see major improvement in the difference between both RMSEs."
   ]
  },
  {
   "cell_type": "code",
   "execution_count": null,
   "metadata": {},
   "outputs": [],
   "source": []
  },
  {
   "cell_type": "code",
   "execution_count": 50,
   "metadata": {},
   "outputs": [
    {
     "data": {
      "text/plain": [
       "0   -0.0005\n",
       "dtype: float64"
      ]
     },
     "execution_count": 50,
     "metadata": {},
     "output_type": "execute_result"
    }
   ],
   "source": [
    "result = pd.DataFrame(train_preds_grid)\n",
    "confirm = pd.DataFrame(y_train)\n",
    "accuracy = confirm - result\n",
    "accuracy.mean()"
   ]
  },
  {
   "cell_type": "code",
   "execution_count": 51,
   "metadata": {},
   "outputs": [
    {
     "data": {
      "text/plain": [
       "0.48674086192415217"
      ]
     },
     "execution_count": 51,
     "metadata": {},
     "output_type": "execute_result"
    }
   ],
   "source": [
    "test_preds = knn_model_fw.predict(X_test)\n",
    "mse = mean_squared_error(y_test, test_preds)\n",
    "rmse = sqrt(mse)\n",
    "rmse"
   ]
  },
  {
   "cell_type": "code",
   "execution_count": 52,
   "metadata": {},
   "outputs": [],
   "source": [
    "Pred = gridsearch_fw.predict(X)"
   ]
  },
  {
   "cell_type": "code",
   "execution_count": 53,
   "metadata": {
    "scrolled": true
   },
   "outputs": [
    {
     "name": "stderr",
     "output_type": "stream",
     "text": [
      "<ipython-input-53-4f43948059a1>:1: SettingWithCopyWarning: \n",
      "A value is trying to be set on a copy of a slice from a DataFrame.\n",
      "Try using .loc[row_indexer,col_indexer] = value instead\n",
      "\n",
      "See the caveats in the documentation: https://pandas.pydata.org/pandas-docs/stable/user_guide/indexing.html#returning-a-view-versus-a-copy\n",
      "  fw1['Pred_G+A-PK/90s'] = Pred\n"
     ]
    },
    {
     "data": {
      "text/html": [
       "<div>\n",
       "<style scoped>\n",
       "    .dataframe tbody tr th:only-of-type {\n",
       "        vertical-align: middle;\n",
       "    }\n",
       "\n",
       "    .dataframe tbody tr th {\n",
       "        vertical-align: top;\n",
       "    }\n",
       "\n",
       "    .dataframe thead th {\n",
       "        text-align: right;\n",
       "    }\n",
       "</style>\n",
       "<table border=\"1\" class=\"dataframe\">\n",
       "  <thead>\n",
       "    <tr style=\"text-align: right;\">\n",
       "      <th></th>\n",
       "      <th>G+A-PK/90s</th>\n",
       "      <th>Pred_G+A-PK/90s</th>\n",
       "    </tr>\n",
       "  </thead>\n",
       "  <tbody>\n",
       "    <tr>\n",
       "      <th>0</th>\n",
       "      <td>0.96</td>\n",
       "      <td>0.9050</td>\n",
       "    </tr>\n",
       "    <tr>\n",
       "      <th>1</th>\n",
       "      <td>0.52</td>\n",
       "      <td>1.1000</td>\n",
       "    </tr>\n",
       "    <tr>\n",
       "      <th>2</th>\n",
       "      <td>0.94</td>\n",
       "      <td>1.1000</td>\n",
       "    </tr>\n",
       "    <tr>\n",
       "      <th>3</th>\n",
       "      <td>0.00</td>\n",
       "      <td>0.0000</td>\n",
       "    </tr>\n",
       "    <tr>\n",
       "      <th>4</th>\n",
       "      <td>0.00</td>\n",
       "      <td>0.0000</td>\n",
       "    </tr>\n",
       "    <tr>\n",
       "      <th>5</th>\n",
       "      <td>0.72</td>\n",
       "      <td>0.8800</td>\n",
       "    </tr>\n",
       "    <tr>\n",
       "      <th>6</th>\n",
       "      <td>0.55</td>\n",
       "      <td>1.1000</td>\n",
       "    </tr>\n",
       "    <tr>\n",
       "      <th>7</th>\n",
       "      <td>0.00</td>\n",
       "      <td>0.0000</td>\n",
       "    </tr>\n",
       "    <tr>\n",
       "      <th>8</th>\n",
       "      <td>0.79</td>\n",
       "      <td>0.9050</td>\n",
       "    </tr>\n",
       "    <tr>\n",
       "      <th>9</th>\n",
       "      <td>2.13</td>\n",
       "      <td>1.1000</td>\n",
       "    </tr>\n",
       "    <tr>\n",
       "      <th>10</th>\n",
       "      <td>0.00</td>\n",
       "      <td>0.0000</td>\n",
       "    </tr>\n",
       "    <tr>\n",
       "      <th>11</th>\n",
       "      <td>0.97</td>\n",
       "      <td>0.8600</td>\n",
       "    </tr>\n",
       "    <tr>\n",
       "      <th>12</th>\n",
       "      <td>0.93</td>\n",
       "      <td>0.8425</td>\n",
       "    </tr>\n",
       "    <tr>\n",
       "      <th>13</th>\n",
       "      <td>1.05</td>\n",
       "      <td>0.8450</td>\n",
       "    </tr>\n",
       "    <tr>\n",
       "      <th>14</th>\n",
       "      <td>0.86</td>\n",
       "      <td>0.7875</td>\n",
       "    </tr>\n",
       "    <tr>\n",
       "      <th>15</th>\n",
       "      <td>0.00</td>\n",
       "      <td>0.0000</td>\n",
       "    </tr>\n",
       "    <tr>\n",
       "      <th>16</th>\n",
       "      <td>0.84</td>\n",
       "      <td>0.8600</td>\n",
       "    </tr>\n",
       "    <tr>\n",
       "      <th>17</th>\n",
       "      <td>0.99</td>\n",
       "      <td>0.8450</td>\n",
       "    </tr>\n",
       "    <tr>\n",
       "      <th>18</th>\n",
       "      <td>0.96</td>\n",
       "      <td>0.8150</td>\n",
       "    </tr>\n",
       "    <tr>\n",
       "      <th>19</th>\n",
       "      <td>0.78</td>\n",
       "      <td>1.1000</td>\n",
       "    </tr>\n",
       "    <tr>\n",
       "      <th>20</th>\n",
       "      <td>0.51</td>\n",
       "      <td>0.7950</td>\n",
       "    </tr>\n",
       "    <tr>\n",
       "      <th>21</th>\n",
       "      <td>0.81</td>\n",
       "      <td>0.8600</td>\n",
       "    </tr>\n",
       "    <tr>\n",
       "      <th>22</th>\n",
       "      <td>0.82</td>\n",
       "      <td>0.8750</td>\n",
       "    </tr>\n",
       "    <tr>\n",
       "      <th>23</th>\n",
       "      <td>0.63</td>\n",
       "      <td>1.1000</td>\n",
       "    </tr>\n",
       "    <tr>\n",
       "      <th>24</th>\n",
       "      <td>0.49</td>\n",
       "      <td>0.0000</td>\n",
       "    </tr>\n",
       "    <tr>\n",
       "      <th>25</th>\n",
       "      <td>0.00</td>\n",
       "      <td>0.0000</td>\n",
       "    </tr>\n",
       "  </tbody>\n",
       "</table>\n",
       "</div>"
      ],
      "text/plain": [
       "    G+A-PK/90s  Pred_G+A-PK/90s\n",
       "0         0.96           0.9050\n",
       "1         0.52           1.1000\n",
       "2         0.94           1.1000\n",
       "3         0.00           0.0000\n",
       "4         0.00           0.0000\n",
       "5         0.72           0.8800\n",
       "6         0.55           1.1000\n",
       "7         0.00           0.0000\n",
       "8         0.79           0.9050\n",
       "9         2.13           1.1000\n",
       "10        0.00           0.0000\n",
       "11        0.97           0.8600\n",
       "12        0.93           0.8425\n",
       "13        1.05           0.8450\n",
       "14        0.86           0.7875\n",
       "15        0.00           0.0000\n",
       "16        0.84           0.8600\n",
       "17        0.99           0.8450\n",
       "18        0.96           0.8150\n",
       "19        0.78           1.1000\n",
       "20        0.51           0.7950\n",
       "21        0.81           0.8600\n",
       "22        0.82           0.8750\n",
       "23        0.63           1.1000\n",
       "24        0.49           0.0000\n",
       "25        0.00           0.0000"
      ]
     },
     "execution_count": 53,
     "metadata": {},
     "output_type": "execute_result"
    }
   ],
   "source": [
    "fw1['Pred_G+A-PK/90s'] = Pred\n",
    "fw1[['G+A-PK/90s', 'Pred_G+A-PK/90s']]"
   ]
  },
  {
   "cell_type": "code",
   "execution_count": 54,
   "metadata": {},
   "outputs": [
    {
     "data": {
      "image/png": "[encoded data removed]",
      "text/plain": [
       "<Figure size 432x288 with 1 Axes>"
      ]
     },
     "metadata": {
      "needs_background": "light"
     },
     "output_type": "display_data"
    }
   ],
   "source": [
    "fig = plt.figure()\n",
    "plt.scatter(fw1['G+A-PK/90s'].values, fw1['G+A-PK/90s'].values, s=10, color = 'black', label = 'Test')\n",
    "plt.scatter(fw1['Pred_G+A-PK/90s'].values, fw1['Pred_G+A-PK/90s'].values, s=10, color = 'red', label = 'Pred')\n",
    "\n",
    "plt.legend()\n",
    "plt.show(fig)"
   ]
  },
  {
   "cell_type": "code",
   "execution_count": 55,
   "metadata": {},
   "outputs": [
    {
     "data": {
      "text/html": [
       "<div>\n",
       "<style scoped>\n",
       "    .dataframe tbody tr th:only-of-type {\n",
       "        vertical-align: middle;\n",
       "    }\n",
       "\n",
       "    .dataframe tbody tr th {\n",
       "        vertical-align: top;\n",
       "    }\n",
       "\n",
       "    .dataframe thead th {\n",
       "        text-align: right;\n",
       "    }\n",
       "</style>\n",
       "<table border=\"1\" class=\"dataframe\">\n",
       "  <thead>\n",
       "    <tr style=\"text-align: right;\">\n",
       "      <th></th>\n",
       "      <th>Gls</th>\n",
       "      <th>Ast</th>\n",
       "      <th>G-PK</th>\n",
       "      <th>G+A-PK/90s</th>\n",
       "    </tr>\n",
       "  </thead>\n",
       "  <tbody>\n",
       "    <tr>\n",
       "      <th>3</th>\n",
       "      <td>10.0</td>\n",
       "      <td>6.0</td>\n",
       "      <td>10.0</td>\n",
       "      <td>0.59</td>\n",
       "    </tr>\n",
       "    <tr>\n",
       "      <th>8</th>\n",
       "      <td>8.0</td>\n",
       "      <td>4.0</td>\n",
       "      <td>8.0</td>\n",
       "      <td>0.55</td>\n",
       "    </tr>\n",
       "    <tr>\n",
       "      <th>10</th>\n",
       "      <td>9.0</td>\n",
       "      <td>4.0</td>\n",
       "      <td>9.0</td>\n",
       "      <td>0.65</td>\n",
       "    </tr>\n",
       "    <tr>\n",
       "      <th>23</th>\n",
       "      <td>0.0</td>\n",
       "      <td>0.0</td>\n",
       "      <td>0.0</td>\n",
       "      <td>0.00</td>\n",
       "    </tr>\n",
       "  </tbody>\n",
       "</table>\n",
       "</div>"
      ],
      "text/plain": [
       "     Gls  Ast  G-PK  G+A-PK/90s\n",
       "3   10.0  6.0  10.0        0.59\n",
       "8    8.0  4.0   8.0        0.55\n",
       "10   9.0  4.0   9.0        0.65\n",
       "23   0.0  0.0   0.0        0.00"
      ]
     },
     "execution_count": 55,
     "metadata": {},
     "output_type": "execute_result"
    }
   ],
   "source": [
    "fw21"
   ]
  },
  {
   "cell_type": "code",
   "execution_count": 56,
   "metadata": {},
   "outputs": [
    {
     "data": {
      "text/html": [
       "<div>\n",
       "<style scoped>\n",
       "    .dataframe tbody tr th:only-of-type {\n",
       "        vertical-align: middle;\n",
       "    }\n",
       "\n",
       "    .dataframe tbody tr th {\n",
       "        vertical-align: top;\n",
       "    }\n",
       "\n",
       "    .dataframe thead th {\n",
       "        text-align: right;\n",
       "    }\n",
       "</style>\n",
       "<table border=\"1\" class=\"dataframe\">\n",
       "  <thead>\n",
       "    <tr style=\"text-align: right;\">\n",
       "      <th></th>\n",
       "      <th>Gls</th>\n",
       "      <th>Ast</th>\n",
       "      <th>G-PK</th>\n",
       "      <th>G+A-PK/90s</th>\n",
       "      <th>Pred_G+A-PK/90s</th>\n",
       "    </tr>\n",
       "  </thead>\n",
       "  <tbody>\n",
       "    <tr>\n",
       "      <th>3</th>\n",
       "      <td>10.0</td>\n",
       "      <td>6.0</td>\n",
       "      <td>10.0</td>\n",
       "      <td>0.59</td>\n",
       "      <td>0.7775</td>\n",
       "    </tr>\n",
       "    <tr>\n",
       "      <th>8</th>\n",
       "      <td>8.0</td>\n",
       "      <td>4.0</td>\n",
       "      <td>8.0</td>\n",
       "      <td>0.55</td>\n",
       "      <td>0.6950</td>\n",
       "    </tr>\n",
       "    <tr>\n",
       "      <th>10</th>\n",
       "      <td>9.0</td>\n",
       "      <td>4.0</td>\n",
       "      <td>9.0</td>\n",
       "      <td>0.65</td>\n",
       "      <td>0.7725</td>\n",
       "    </tr>\n",
       "    <tr>\n",
       "      <th>23</th>\n",
       "      <td>0.0</td>\n",
       "      <td>0.0</td>\n",
       "      <td>0.0</td>\n",
       "      <td>0.00</td>\n",
       "      <td>0.0000</td>\n",
       "    </tr>\n",
       "  </tbody>\n",
       "</table>\n",
       "</div>"
      ],
      "text/plain": [
       "     Gls  Ast  G-PK  G+A-PK/90s  Pred_G+A-PK/90s\n",
       "3   10.0  6.0  10.0        0.59           0.7775\n",
       "8    8.0  4.0   8.0        0.55           0.6950\n",
       "10   9.0  4.0   9.0        0.65           0.7725\n",
       "23   0.0  0.0   0.0        0.00           0.0000"
      ]
     },
     "execution_count": 56,
     "metadata": {},
     "output_type": "execute_result"
    }
   ],
   "source": [
    "fw21['Pred_G+A-PK/90s']  = gridsearch_fw.predict(fw21.drop(columns = ['G+A-PK/90s']).values)\n",
    "fw21"
   ]
  },
  {
   "cell_type": "code",
   "execution_count": null,
   "metadata": {},
   "outputs": [],
   "source": []
  },
  {
   "cell_type": "code",
   "execution_count": 57,
   "metadata": {},
   "outputs": [],
   "source": [
    "## Further Improving on kNN in scikit-learn With Bagging\n",
    "best_k = gridsearch_fw.best_params_[\"n_neighbors\"]\n",
    "bagged_knn = KNeighborsRegressor(\n",
    "    n_neighbors=best_k\n",
    ")"
   ]
  },
  {
   "cell_type": "code",
   "execution_count": 58,
   "metadata": {},
   "outputs": [
    {
     "data": {
      "text/plain": [
       "BaggingRegressor(base_estimator=KNeighborsRegressor(n_neighbors=4),\n",
       "                 n_estimators=100)"
      ]
     },
     "execution_count": 58,
     "metadata": {},
     "output_type": "execute_result"
    }
   ],
   "source": [
    "from sklearn.ensemble import BaggingRegressor\n",
    "bagging_model_fw = BaggingRegressor(bagged_knn, n_estimators=100)\n",
    "bagging_model_fw.fit(X_train, y_train)"
   ]
  },
  {
   "cell_type": "code",
   "execution_count": 59,
   "metadata": {},
   "outputs": [
    {
     "data": {
      "text/plain": [
       "0.2682016747399861"
      ]
     },
     "execution_count": 59,
     "metadata": {},
     "output_type": "execute_result"
    }
   ],
   "source": [
    "test_preds_grid = bagging_model_fw.predict(X_test)\n",
    "test_mse = mean_squared_error(y_test, test_preds_grid)\n",
    "test_rmse = sqrt(test_mse)\n",
    "test_rmse"
   ]
  },
  {
   "cell_type": "code",
   "execution_count": 60,
   "metadata": {},
   "outputs": [
    {
     "data": {
      "text/plain": [
       "0.31462472139439385"
      ]
     },
     "execution_count": 60,
     "metadata": {},
     "output_type": "execute_result"
    }
   ],
   "source": [
    "train_preds_grid = bagging_model_fw.predict(X_train)\n",
    "train_mse = mean_squared_error(y_train, train_preds_grid)\n",
    "train_rmse = sqrt(train_mse)\n",
    "train_rmse"
   ]
  },
  {
   "cell_type": "code",
   "execution_count": 61,
   "metadata": {},
   "outputs": [],
   "source": [
    "## rmse further tuned"
   ]
  },
  {
   "cell_type": "code",
   "execution_count": 62,
   "metadata": {},
   "outputs": [],
   "source": [
    "X = fw21.drop(\"G+A-PK/90s\", axis=1)\n",
    "X = X.values"
   ]
  },
  {
   "cell_type": "code",
   "execution_count": 63,
   "metadata": {},
   "outputs": [
    {
     "data": {
      "text/html": [
       "<div>\n",
       "<style scoped>\n",
       "    .dataframe tbody tr th:only-of-type {\n",
       "        vertical-align: middle;\n",
       "    }\n",
       "\n",
       "    .dataframe tbody tr th {\n",
       "        vertical-align: top;\n",
       "    }\n",
       "\n",
       "    .dataframe thead th {\n",
       "        text-align: right;\n",
       "    }\n",
       "</style>\n",
       "<table border=\"1\" class=\"dataframe\">\n",
       "  <thead>\n",
       "    <tr style=\"text-align: right;\">\n",
       "      <th></th>\n",
       "      <th>G+A-PK/90s</th>\n",
       "      <th>Pred_G+A-PK/90s</th>\n",
       "    </tr>\n",
       "  </thead>\n",
       "  <tbody>\n",
       "    <tr>\n",
       "      <th>3</th>\n",
       "      <td>0.59</td>\n",
       "      <td>0.80820</td>\n",
       "    </tr>\n",
       "    <tr>\n",
       "      <th>8</th>\n",
       "      <td>0.55</td>\n",
       "      <td>0.85745</td>\n",
       "    </tr>\n",
       "    <tr>\n",
       "      <th>10</th>\n",
       "      <td>0.65</td>\n",
       "      <td>0.78970</td>\n",
       "    </tr>\n",
       "    <tr>\n",
       "      <th>23</th>\n",
       "      <td>0.00</td>\n",
       "      <td>0.20675</td>\n",
       "    </tr>\n",
       "  </tbody>\n",
       "</table>\n",
       "</div>"
      ],
      "text/plain": [
       "    G+A-PK/90s  Pred_G+A-PK/90s\n",
       "3         0.59          0.80820\n",
       "8         0.55          0.85745\n",
       "10        0.65          0.78970\n",
       "23        0.00          0.20675"
      ]
     },
     "execution_count": 63,
     "metadata": {},
     "output_type": "execute_result"
    }
   ],
   "source": [
    "Pred = bagging_model_fw.predict(X)\n",
    "fw21['Pred_G+A-PK/90s'] = Pred\n",
    "fw21[['G+A-PK/90s', 'Pred_G+A-PK/90s']]"
   ]
  },
  {
   "cell_type": "code",
   "execution_count": 64,
   "metadata": {},
   "outputs": [
    {
     "name": "stdout",
     "output_type": "stream",
     "text": [
      "     Gls  Ast  G-PK  G+A-PK/90s  Pred_G+A-PK/90s\n",
      "3   10.0  6.0  10.0        0.59           0.7775\n",
      "8    8.0  4.0   8.0        0.55           0.6950\n",
      "10   9.0  4.0   9.0        0.65           0.7725\n",
      "23   0.0  0.0   0.0        0.00           0.0000\n"
     ]
    },
    {
     "data": {
      "image/png": "[encoded data removed]",
      "text/plain": [
       "<Figure size 432x288 with 1 Axes>"
      ]
     },
     "metadata": {
      "needs_background": "light"
     },
     "output_type": "display_data"
    }
   ],
   "source": [
    "fw21['Pred_G+A-PK/90s']  = gridsearch_fw.predict(fw21.drop(columns = ['G+A-PK/90s', 'Pred_G+A-PK/90s']).values)\n",
    "print(fw21)\n",
    "\n",
    "fig = plt.figure()\n",
    "plt.scatter(fw21['G+A-PK/90s'].values, fw21['G+A-PK/90s'].values, s=10, color = 'black', label = 'Test')\n",
    "plt.scatter(fw21['Pred_G+A-PK/90s'].values, fw21['Pred_G+A-PK/90s'].values, s=10, color = 'red', label = 'Pred')\n",
    "\n",
    "plt.legend()\n",
    "plt.show(fig)"
   ]
  },
  {
   "cell_type": "code",
   "execution_count": 65,
   "metadata": {},
   "outputs": [
    {
     "name": "stdout",
     "output_type": "stream",
     "text": [
      "     Gls  Ast  G-PK  G+A-PK/90s  Pred_G+A-PK/90s\n",
      "3   10.0  6.0  10.0        0.59          0.80820\n",
      "8    8.0  4.0   8.0        0.55          0.85745\n",
      "10   9.0  4.0   9.0        0.65          0.78970\n",
      "23   0.0  0.0   0.0        0.00          0.20675\n"
     ]
    },
    {
     "data": {
      "image/png": "[encoded data removed]",
      "text/plain": [
       "<Figure size 432x288 with 1 Axes>"
      ]
     },
     "metadata": {
      "needs_background": "light"
     },
     "output_type": "display_data"
    }
   ],
   "source": [
    "fw21['Pred_G+A-PK/90s']  = bagging_model_fw.predict(fw21.drop(columns = ['G+A-PK/90s', 'Pred_G+A-PK/90s']).values)\n",
    "print(fw21)\n",
    "\n",
    "fig = plt.figure()\n",
    "plt.scatter(fw21['G+A-PK/90s'].values, fw21['G+A-PK/90s'].values, s=10, color = 'black', label = 'Test')\n",
    "plt.scatter(fw21['Pred_G+A-PK/90s'].values, fw21['Pred_G+A-PK/90s'].values, s=10, color = 'red', label = 'Pred')\n",
    "\n",
    "plt.legend()\n",
    "plt.show(fig)"
   ]
  },
  {
   "cell_type": "code",
   "execution_count": 66,
   "metadata": {},
   "outputs": [
    {
     "name": "stdout",
     "output_type": "stream",
     "text": [
      "     Gls  Ast  G-PK  G+A-PK/90s  Pred_G+A-PK/90s\n",
      "3   10.0  6.0  10.0        0.59            0.735\n",
      "8    8.0  4.0   8.0        0.55            0.645\n",
      "10   9.0  4.0   9.0        0.65            0.645\n",
      "23   0.0  0.0   0.0        0.00            0.000\n"
     ]
    },
    {
     "data": {
      "image/png": "[encoded data removed]",
      "text/plain": [
       "<Figure size 432x288 with 1 Axes>"
      ]
     },
     "metadata": {
      "needs_background": "light"
     },
     "output_type": "display_data"
    }
   ],
   "source": [
    "fw21['Pred_G+A-PK/90s']  = knn_model_fw.predict(fw21.drop(columns = ['G+A-PK/90s', 'Pred_G+A-PK/90s']).values)\n",
    "print(fw21)\n",
    "\n",
    "fig = plt.figure()\n",
    "plt.scatter(fw21['G+A-PK/90s'].values, fw21['G+A-PK/90s'].values, s=10, color = 'black', label = 'Test')\n",
    "plt.scatter(fw21['Pred_G+A-PK/90s'].values, fw21['Pred_G+A-PK/90s'].values, s=10, color = 'red', label = 'Pred')\n",
    "\n",
    "plt.legend()\n",
    "plt.savefig('knn_forward')\n",
    "fig.suptitle('Forward Data | K-NN Model')\n",
    "plt.show(fig)"
   ]
  },
  {
   "cell_type": "markdown",
   "metadata": {},
   "source": [
    "## this seems to be too fine tuned, thus we will go ahead with our kNN model."
   ]
  },
  {
   "cell_type": "code",
   "execution_count": null,
   "metadata": {},
   "outputs": [],
   "source": []
  },
  {
   "cell_type": "code",
   "execution_count": null,
   "metadata": {},
   "outputs": [],
   "source": []
  },
  {
   "cell_type": "markdown",
   "metadata": {},
   "source": [
    "## k-NN for dataset md"
   ]
  },
  {
   "cell_type": "code",
   "execution_count": 67,
   "metadata": {},
   "outputs": [
    {
     "data": {
      "image/png": "[encoded data removed]",
      "text/plain": [
       "<Figure size 1152x432 with 2 Axes>"
      ]
     },
     "metadata": {
      "needs_background": "light"
     },
     "output_type": "display_data"
    }
   ],
   "source": [
    "plt.figure(figsize=(16, 6))\n",
    "heatmap = sns.heatmap(md.corr(), vmin=-1, vmax=1, annot=True, cmap='BrBG')\n",
    "heatmap.set_title('Mid_Heatmap_2015-20', fontdict={'fontsize':18}, pad=12);\n",
    "# save heatmap as .png file\n",
    "# dpi - sets the resolution of the saved image in dots/inches\n",
    "# bbox_inches - when set to 'tight' - does not allow the labels to be cropped\n",
    "plt.savefig('Mid_Heatmap_2015-20.png', dpi=300, bbox_inches='tight')"
   ]
  },
  {
   "cell_type": "code",
   "execution_count": 68,
   "metadata": {},
   "outputs": [],
   "source": [
    "md1 = md[['Min%', '90s', 'Compl', 'unSub', 'onG', 'onGA', '+/-']]"
   ]
  },
  {
   "cell_type": "code",
   "execution_count": 69,
   "metadata": {},
   "outputs": [],
   "source": [
    "X = md1.drop(\"+/-\", axis=1)\n",
    "X = X.values\n",
    "y = md1[\"+/-\"]\n",
    "y = y.values"
   ]
  },
  {
   "cell_type": "code",
   "execution_count": 70,
   "metadata": {},
   "outputs": [],
   "source": [
    "from sklearn.model_selection import train_test_split\n",
    "X_train, X_test, y_train, y_test = train_test_split(\n",
    "    X, y, test_size=0.2, random_state=26195\n",
    ")"
   ]
  },
  {
   "cell_type": "code",
   "execution_count": 71,
   "metadata": {},
   "outputs": [],
   "source": [
    "#----"
   ]
  },
  {
   "cell_type": "code",
   "execution_count": 72,
   "metadata": {},
   "outputs": [
    {
     "name": "stderr",
     "output_type": "stream",
     "text": [
      "<ipython-input-72-6f2421152454>:4: UserWarning: Boolean Series key will be reindexed to match DataFrame index.\n",
      "  md1 = md21[pl1['Pos'] == 'MF']\n",
      "<ipython-input-72-6f2421152454>:5: UserWarning: Boolean Series key will be reindexed to match DataFrame index.\n",
      "  md2 = md21[pl1['Pos'] == 'FW,MF']\n",
      "<ipython-input-72-6f2421152454>:6: UserWarning: Boolean Series key will be reindexed to match DataFrame index.\n",
      "  md3 = md21[pl1['Pos'] == 'MF,FW']\n"
     ]
    },
    {
     "data": {
      "text/html": [
       "<div>\n",
       "<style scoped>\n",
       "    .dataframe tbody tr th:only-of-type {\n",
       "        vertical-align: middle;\n",
       "    }\n",
       "\n",
       "    .dataframe tbody tr th {\n",
       "        vertical-align: top;\n",
       "    }\n",
       "\n",
       "    .dataframe thead th {\n",
       "        text-align: right;\n",
       "    }\n",
       "</style>\n",
       "<table border=\"1\" class=\"dataframe\">\n",
       "  <thead>\n",
       "    <tr style=\"text-align: right;\">\n",
       "      <th></th>\n",
       "      <th>Min%</th>\n",
       "      <th>90s</th>\n",
       "      <th>Compl</th>\n",
       "      <th>unSub</th>\n",
       "      <th>onG</th>\n",
       "      <th>onGA</th>\n",
       "      <th>+/-</th>\n",
       "    </tr>\n",
       "  </thead>\n",
       "  <tbody>\n",
       "    <tr>\n",
       "      <th>3</th>\n",
       "      <td>75.5</td>\n",
       "      <td>27.2</td>\n",
       "      <td>24</td>\n",
       "      <td>5</td>\n",
       "      <td>53.0</td>\n",
       "      <td>23.0</td>\n",
       "      <td>30.0</td>\n",
       "    </tr>\n",
       "    <tr>\n",
       "      <th>9</th>\n",
       "      <td>57.3</td>\n",
       "      <td>20.6</td>\n",
       "      <td>19</td>\n",
       "      <td>9</td>\n",
       "      <td>43.0</td>\n",
       "      <td>20.0</td>\n",
       "      <td>23.0</td>\n",
       "    </tr>\n",
       "    <tr>\n",
       "      <th>11</th>\n",
       "      <td>54.1</td>\n",
       "      <td>19.5</td>\n",
       "      <td>19</td>\n",
       "      <td>12</td>\n",
       "      <td>46.0</td>\n",
       "      <td>9.0</td>\n",
       "      <td>37.0</td>\n",
       "    </tr>\n",
       "    <tr>\n",
       "      <th>15</th>\n",
       "      <td>40.1</td>\n",
       "      <td>14.4</td>\n",
       "      <td>12</td>\n",
       "      <td>8</td>\n",
       "      <td>34.0</td>\n",
       "      <td>11.0</td>\n",
       "      <td>23.0</td>\n",
       "    </tr>\n",
       "    <tr>\n",
       "      <th>20</th>\n",
       "      <td>9.5</td>\n",
       "      <td>3.4</td>\n",
       "      <td>3</td>\n",
       "      <td>16</td>\n",
       "      <td>7.0</td>\n",
       "      <td>9.0</td>\n",
       "      <td>-2.0</td>\n",
       "    </tr>\n",
       "    <tr>\n",
       "      <th>25</th>\n",
       "      <td>0.0</td>\n",
       "      <td>0.0</td>\n",
       "      <td>0</td>\n",
       "      <td>5</td>\n",
       "      <td>0.0</td>\n",
       "      <td>0.0</td>\n",
       "      <td>0.0</td>\n",
       "    </tr>\n",
       "    <tr>\n",
       "      <th>2</th>\n",
       "      <td>81.0</td>\n",
       "      <td>29.1</td>\n",
       "      <td>27</td>\n",
       "      <td>4</td>\n",
       "      <td>60.0</td>\n",
       "      <td>24.0</td>\n",
       "      <td>36.0</td>\n",
       "    </tr>\n",
       "    <tr>\n",
       "      <th>5</th>\n",
       "      <td>61.4</td>\n",
       "      <td>22.1</td>\n",
       "      <td>17</td>\n",
       "      <td>9</td>\n",
       "      <td>50.0</td>\n",
       "      <td>15.0</td>\n",
       "      <td>35.0</td>\n",
       "    </tr>\n",
       "    <tr>\n",
       "      <th>8</th>\n",
       "      <td>61.0</td>\n",
       "      <td>22.0</td>\n",
       "      <td>18</td>\n",
       "      <td>1</td>\n",
       "      <td>50.0</td>\n",
       "      <td>17.0</td>\n",
       "      <td>33.0</td>\n",
       "    </tr>\n",
       "    <tr>\n",
       "      <th>18</th>\n",
       "      <td>24.6</td>\n",
       "      <td>8.9</td>\n",
       "      <td>8</td>\n",
       "      <td>5</td>\n",
       "      <td>16.0</td>\n",
       "      <td>13.0</td>\n",
       "      <td>3.0</td>\n",
       "    </tr>\n",
       "    <tr>\n",
       "      <th>21</th>\n",
       "      <td>2.8</td>\n",
       "      <td>1.0</td>\n",
       "      <td>1</td>\n",
       "      <td>3</td>\n",
       "      <td>4.0</td>\n",
       "      <td>3.0</td>\n",
       "      <td>1.0</td>\n",
       "    </tr>\n",
       "    <tr>\n",
       "      <th>24</th>\n",
       "      <td>0.0</td>\n",
       "      <td>0.0</td>\n",
       "      <td>0</td>\n",
       "      <td>5</td>\n",
       "      <td>0.0</td>\n",
       "      <td>0.0</td>\n",
       "      <td>0.0</td>\n",
       "    </tr>\n",
       "    <tr>\n",
       "      <th>28</th>\n",
       "      <td>0.0</td>\n",
       "      <td>0.0</td>\n",
       "      <td>0</td>\n",
       "      <td>1</td>\n",
       "      <td>0.0</td>\n",
       "      <td>0.0</td>\n",
       "      <td>0.0</td>\n",
       "    </tr>\n",
       "  </tbody>\n",
       "</table>\n",
       "</div>"
      ],
      "text/plain": [
       "    Min%   90s  Compl  unSub   onG  onGA   +/-\n",
       "3   75.5  27.2     24      5  53.0  23.0  30.0\n",
       "9   57.3  20.6     19      9  43.0  20.0  23.0\n",
       "11  54.1  19.5     19     12  46.0   9.0  37.0\n",
       "15  40.1  14.4     12      8  34.0  11.0  23.0\n",
       "20   9.5   3.4      3     16   7.0   9.0  -2.0\n",
       "25   0.0   0.0      0      5   0.0   0.0   0.0\n",
       "2   81.0  29.1     27      4  60.0  24.0  36.0\n",
       "5   61.4  22.1     17      9  50.0  15.0  35.0\n",
       "8   61.0  22.0     18      1  50.0  17.0  33.0\n",
       "18  24.6   8.9      8      5  16.0  13.0   3.0\n",
       "21   2.8   1.0      1      3   4.0   3.0   1.0\n",
       "24   0.0   0.0      0      5   0.0   0.0   0.0\n",
       "28   0.0   0.0      0      1   0.0   0.0   0.0"
      ]
     },
     "execution_count": 72,
     "metadata": {},
     "output_type": "execute_result"
    }
   ],
   "source": [
    "md21 = pl21[['Pos', 'Min%', '90s', 'Compl', 'unSub', 'onG', 'onGA', '+/-']]\n",
    "\n",
    "#--\n",
    "md1 = md21[pl1['Pos'] == 'MF']\n",
    "md2 = md21[pl1['Pos'] == 'FW,MF']\n",
    "md3 = md21[pl1['Pos'] == 'MF,FW']\n",
    "\n",
    "frames = [md1, md2, md3]\n",
    "md21 = pd.concat(frames)\n",
    "#--\n",
    "\n",
    "md21 = md21.drop(columns = \"Pos\")\n",
    "md21 = md21.fillna(0)\n",
    "md21"
   ]
  },
  {
   "cell_type": "code",
   "execution_count": 73,
   "metadata": {},
   "outputs": [
    {
     "data": {
      "text/plain": [
       "array([[75.5, 27.2, 24. ,  5. , 53. , 23. ]])"
      ]
     },
     "execution_count": 73,
     "metadata": {},
     "output_type": "execute_result"
    }
   ],
   "source": [
    "new_X = md21.iloc[0:1]\n",
    "new_X = new_X.drop(\"+/-\", axis=1)\n",
    "new_X = new_X.values\n",
    "new_X"
   ]
  },
  {
   "cell_type": "code",
   "execution_count": 74,
   "metadata": {},
   "outputs": [],
   "source": [
    "#---"
   ]
  },
  {
   "cell_type": "code",
   "execution_count": 75,
   "metadata": {},
   "outputs": [],
   "source": [
    "## distances\n",
    "import numpy as np\n",
    "distances = np.linalg.norm(X - new_X, axis=1)"
   ]
  },
  {
   "cell_type": "code",
   "execution_count": 76,
   "metadata": {},
   "outputs": [
    {
     "data": {
      "text/plain": [
       "array([15,  8, 40])"
      ]
     },
     "execution_count": 76,
     "metadata": {},
     "output_type": "execute_result"
    }
   ],
   "source": [
    "## initially k set to 3\n",
    "k = 3\n",
    "nearest_neighbor_ids = distances.argsort()[:k]\n",
    "nearest_neighbor_ids"
   ]
  },
  {
   "cell_type": "code",
   "execution_count": 77,
   "metadata": {},
   "outputs": [
    {
     "data": {
      "text/plain": [
       "array([35., 32., 37.])"
      ]
     },
     "execution_count": 77,
     "metadata": {},
     "output_type": "execute_result"
    }
   ],
   "source": [
    "## on y\n",
    "nearest_neighbor_rings = y[nearest_neighbor_ids]\n",
    "nearest_neighbor_rings"
   ]
  },
  {
   "cell_type": "code",
   "execution_count": 78,
   "metadata": {},
   "outputs": [
    {
     "data": {
      "text/plain": [
       "34.666666666666664"
      ]
     },
     "execution_count": 78,
     "metadata": {},
     "output_type": "execute_result"
    }
   ],
   "source": [
    "## Average for regression\n",
    "prediction = nearest_neighbor_rings.mean()\n",
    "prediction"
   ]
  },
  {
   "cell_type": "code",
   "execution_count": 79,
   "metadata": {},
   "outputs": [],
   "source": [
    "## fitting kNN using scikit-learn"
   ]
  },
  {
   "cell_type": "code",
   "execution_count": 80,
   "metadata": {},
   "outputs": [],
   "source": [
    "from sklearn.neighbors import KNeighborsRegressor\n",
    "knn_model_md = KNeighborsRegressor(n_neighbors=3)"
   ]
  },
  {
   "cell_type": "code",
   "execution_count": 81,
   "metadata": {},
   "outputs": [
    {
     "data": {
      "text/plain": [
       "KNeighborsRegressor(n_neighbors=3)"
      ]
     },
     "execution_count": 81,
     "metadata": {},
     "output_type": "execute_result"
    }
   ],
   "source": [
    "knn_model_md.fit(X_train, y_train)"
   ]
  },
  {
   "cell_type": "code",
   "execution_count": 82,
   "metadata": {},
   "outputs": [
    {
     "data": {
      "text/plain": [
       "3.5054837149315246"
      ]
     },
     "execution_count": 82,
     "metadata": {},
     "output_type": "execute_result"
    }
   ],
   "source": [
    "from sklearn.metrics import mean_squared_error\n",
    "from math import sqrt\n",
    "train_preds = knn_model_md.predict(X_train)\n",
    "mse = mean_squared_error(y_train, train_preds)\n",
    "rmse = sqrt(mse)\n",
    "rmse"
   ]
  },
  {
   "cell_type": "code",
   "execution_count": 83,
   "metadata": {},
   "outputs": [
    {
     "data": {
      "text/plain": [
       "5.523518738925329"
      ]
     },
     "execution_count": 83,
     "metadata": {},
     "output_type": "execute_result"
    }
   ],
   "source": [
    "test_preds = knn_model_md.predict(X_test)\n",
    "mse = mean_squared_error(y_test, test_preds)\n",
    "rmse = sqrt(mse)\n",
    "rmse"
   ]
  },
  {
   "cell_type": "code",
   "execution_count": 84,
   "metadata": {},
   "outputs": [],
   "source": [
    "## there is quite some difference in our 2 RMSEs, thus we can assume that the model might have suffered from \n",
    "## overfitting."
   ]
  },
  {
   "cell_type": "code",
   "execution_count": 85,
   "metadata": {},
   "outputs": [],
   "source": [
    "## Improving kNN Performances in scikit-learn Using GridSearchCV"
   ]
  },
  {
   "cell_type": "code",
   "execution_count": 86,
   "metadata": {},
   "outputs": [
    {
     "data": {
      "text/plain": [
       "GridSearchCV(estimator=KNeighborsRegressor(),\n",
       "             param_grid={'n_neighbors': range(1, 38)})"
      ]
     },
     "execution_count": 86,
     "metadata": {},
     "output_type": "execute_result"
    }
   ],
   "source": [
    "from sklearn.model_selection import GridSearchCV\n",
    "parameters = {\"n_neighbors\": range(1, 38)}\n",
    "gridsearch_md = GridSearchCV(KNeighborsRegressor(), parameters)\n",
    "gridsearch_md.fit(X_train, y_train)"
   ]
  },
  {
   "cell_type": "code",
   "execution_count": 87,
   "metadata": {},
   "outputs": [
    {
     "data": {
      "text/plain": [
       "{'n_neighbors': 5}"
      ]
     },
     "execution_count": 87,
     "metadata": {},
     "output_type": "execute_result"
    }
   ],
   "source": [
    "gridsearch_md.best_params_"
   ]
  },
  {
   "cell_type": "code",
   "execution_count": 88,
   "metadata": {},
   "outputs": [
    {
     "name": "stdout",
     "output_type": "stream",
     "text": [
      "4.399613135797379\n"
     ]
    },
    {
     "data": {
      "text/plain": [
       "5.2115256883181535"
      ]
     },
     "execution_count": 88,
     "metadata": {},
     "output_type": "execute_result"
    }
   ],
   "source": [
    "train_preds_grid = gridsearch_md.predict(X_train)\n",
    "train_mse = mean_squared_error(y_train, train_preds_grid)\n",
    "train_rmse = sqrt(train_mse)\n",
    "test_preds_grid = gridsearch_md.predict(X_test)\n",
    "test_mse = mean_squared_error(y_test, test_preds_grid)\n",
    "test_rmse = sqrt(test_mse)\n",
    "print(train_rmse)\n",
    "\n",
    "test_rmse"
   ]
  },
  {
   "cell_type": "code",
   "execution_count": 89,
   "metadata": {},
   "outputs": [],
   "source": [
    "## we see major improvement in the difference between both RMSEs."
   ]
  },
  {
   "cell_type": "code",
   "execution_count": null,
   "metadata": {},
   "outputs": [],
   "source": []
  },
  {
   "cell_type": "code",
   "execution_count": 90,
   "metadata": {},
   "outputs": [
    {
     "data": {
      "text/plain": [
       "0    0.119149\n",
       "dtype: float64"
      ]
     },
     "execution_count": 90,
     "metadata": {},
     "output_type": "execute_result"
    }
   ],
   "source": [
    "result = pd.DataFrame(train_preds_grid)\n",
    "confirm = pd.DataFrame(y_train)\n",
    "accuracy = confirm - result\n",
    "accuracy.mean()"
   ]
  },
  {
   "cell_type": "code",
   "execution_count": 91,
   "metadata": {},
   "outputs": [
    {
     "data": {
      "text/plain": [
       "array([37.6, 34.2, 18.8,  5.4, -1.2, -0.4, 38.4, 34.6, 37.4, 35.6, 15.4,\n",
       "        1.4, -0.6, -0.4, 46. , 35.8, 51.6, 50.6, 20.8,  2.2,  2. , -0.8,\n",
       "        0.4, 56.6, 56.6, 55.2, 22.4,  2. ,  1.2, 44.8, 53. , 40. , 15.4,\n",
       "        3.2, 47.8, 35.2, 35.2,  6.8,  1.4, 40.8, 35.4, 31.6,  3.6, -0.4,\n",
       "       -0.4, -0.4, 25.4,  0.6,  0.4, 44.4, 34.2, 22.4, 25.8,  0.2, 20.8,\n",
       "        0.6, 52.2, 20.8,  3.2])"
      ]
     },
     "execution_count": 91,
     "metadata": {},
     "output_type": "execute_result"
    }
   ],
   "source": [
    "Pred = gridsearch_md.predict(X)\n",
    "Pred"
   ]
  },
  {
   "cell_type": "code",
   "execution_count": 92,
   "metadata": {},
   "outputs": [],
   "source": [
    "md1 = md[[ 'Min%', '90s', 'Compl', 'unSub', 'onG', 'onGA', '+/-']]"
   ]
  },
  {
   "cell_type": "code",
   "execution_count": 93,
   "metadata": {
    "scrolled": true
   },
   "outputs": [
    {
     "name": "stderr",
     "output_type": "stream",
     "text": [
      "<ipython-input-93-8bf3d9f27448>:1: SettingWithCopyWarning: \n",
      "A value is trying to be set on a copy of a slice from a DataFrame.\n",
      "Try using .loc[row_indexer,col_indexer] = value instead\n",
      "\n",
      "See the caveats in the documentation: https://pandas.pydata.org/pandas-docs/stable/user_guide/indexing.html#returning-a-view-versus-a-copy\n",
      "  md1['Pred_+/-'] = Pred\n"
     ]
    },
    {
     "data": {
      "text/html": [
       "<div>\n",
       "<style scoped>\n",
       "    .dataframe tbody tr th:only-of-type {\n",
       "        vertical-align: middle;\n",
       "    }\n",
       "\n",
       "    .dataframe tbody tr th {\n",
       "        vertical-align: top;\n",
       "    }\n",
       "\n",
       "    .dataframe thead th {\n",
       "        text-align: right;\n",
       "    }\n",
       "</style>\n",
       "<table border=\"1\" class=\"dataframe\">\n",
       "  <thead>\n",
       "    <tr style=\"text-align: right;\">\n",
       "      <th></th>\n",
       "      <th>+/-</th>\n",
       "      <th>Pred_+/-</th>\n",
       "    </tr>\n",
       "  </thead>\n",
       "  <tbody>\n",
       "    <tr>\n",
       "      <th>0</th>\n",
       "      <td>42.0</td>\n",
       "      <td>37.6</td>\n",
       "    </tr>\n",
       "    <tr>\n",
       "      <th>1</th>\n",
       "      <td>32.0</td>\n",
       "      <td>34.2</td>\n",
       "    </tr>\n",
       "    <tr>\n",
       "      <th>2</th>\n",
       "      <td>11.0</td>\n",
       "      <td>18.8</td>\n",
       "    </tr>\n",
       "    <tr>\n",
       "      <th>3</th>\n",
       "      <td>6.0</td>\n",
       "      <td>5.4</td>\n",
       "    </tr>\n",
       "    <tr>\n",
       "      <th>4</th>\n",
       "      <td>-3.0</td>\n",
       "      <td>-1.2</td>\n",
       "    </tr>\n",
       "    <tr>\n",
       "      <th>5</th>\n",
       "      <td>0.0</td>\n",
       "      <td>-0.4</td>\n",
       "    </tr>\n",
       "    <tr>\n",
       "      <th>6</th>\n",
       "      <td>36.0</td>\n",
       "      <td>38.4</td>\n",
       "    </tr>\n",
       "    <tr>\n",
       "      <th>7</th>\n",
       "      <td>30.0</td>\n",
       "      <td>34.6</td>\n",
       "    </tr>\n",
       "    <tr>\n",
       "      <th>8</th>\n",
       "      <td>32.0</td>\n",
       "      <td>37.4</td>\n",
       "    </tr>\n",
       "    <tr>\n",
       "      <th>9</th>\n",
       "      <td>30.0</td>\n",
       "      <td>35.6</td>\n",
       "    </tr>\n",
       "    <tr>\n",
       "      <th>10</th>\n",
       "      <td>8.0</td>\n",
       "      <td>15.4</td>\n",
       "    </tr>\n",
       "    <tr>\n",
       "      <th>11</th>\n",
       "      <td>-4.0</td>\n",
       "      <td>1.4</td>\n",
       "    </tr>\n",
       "    <tr>\n",
       "      <th>12</th>\n",
       "      <td>-1.0</td>\n",
       "      <td>-0.6</td>\n",
       "    </tr>\n",
       "    <tr>\n",
       "      <th>13</th>\n",
       "      <td>0.0</td>\n",
       "      <td>-0.4</td>\n",
       "    </tr>\n",
       "    <tr>\n",
       "      <th>14</th>\n",
       "      <td>45.0</td>\n",
       "      <td>46.0</td>\n",
       "    </tr>\n",
       "    <tr>\n",
       "      <th>15</th>\n",
       "      <td>35.0</td>\n",
       "      <td>35.8</td>\n",
       "    </tr>\n",
       "    <tr>\n",
       "      <th>16</th>\n",
       "      <td>52.0</td>\n",
       "      <td>51.6</td>\n",
       "    </tr>\n",
       "    <tr>\n",
       "      <th>17</th>\n",
       "      <td>53.0</td>\n",
       "      <td>50.6</td>\n",
       "    </tr>\n",
       "    <tr>\n",
       "      <th>18</th>\n",
       "      <td>25.0</td>\n",
       "      <td>20.8</td>\n",
       "    </tr>\n",
       "    <tr>\n",
       "      <th>19</th>\n",
       "      <td>1.0</td>\n",
       "      <td>2.2</td>\n",
       "    </tr>\n",
       "    <tr>\n",
       "      <th>20</th>\n",
       "      <td>4.0</td>\n",
       "      <td>2.0</td>\n",
       "    </tr>\n",
       "    <tr>\n",
       "      <th>21</th>\n",
       "      <td>0.0</td>\n",
       "      <td>-0.8</td>\n",
       "    </tr>\n",
       "    <tr>\n",
       "      <th>22</th>\n",
       "      <td>1.0</td>\n",
       "      <td>0.4</td>\n",
       "    </tr>\n",
       "    <tr>\n",
       "      <th>23</th>\n",
       "      <td>71.0</td>\n",
       "      <td>56.6</td>\n",
       "    </tr>\n",
       "    <tr>\n",
       "      <th>24</th>\n",
       "      <td>65.0</td>\n",
       "      <td>56.6</td>\n",
       "    </tr>\n",
       "    <tr>\n",
       "      <th>25</th>\n",
       "      <td>60.0</td>\n",
       "      <td>55.2</td>\n",
       "    </tr>\n",
       "    <tr>\n",
       "      <th>26</th>\n",
       "      <td>30.0</td>\n",
       "      <td>22.4</td>\n",
       "    </tr>\n",
       "    <tr>\n",
       "      <th>27</th>\n",
       "      <td>4.0</td>\n",
       "      <td>2.0</td>\n",
       "    </tr>\n",
       "    <tr>\n",
       "      <th>28</th>\n",
       "      <td>3.0</td>\n",
       "      <td>1.2</td>\n",
       "    </tr>\n",
       "    <tr>\n",
       "      <th>29</th>\n",
       "      <td>46.0</td>\n",
       "      <td>44.8</td>\n",
       "    </tr>\n",
       "    <tr>\n",
       "      <th>30</th>\n",
       "      <td>55.0</td>\n",
       "      <td>53.0</td>\n",
       "    </tr>\n",
       "    <tr>\n",
       "      <th>31</th>\n",
       "      <td>45.0</td>\n",
       "      <td>40.0</td>\n",
       "    </tr>\n",
       "    <tr>\n",
       "      <th>32</th>\n",
       "      <td>25.0</td>\n",
       "      <td>15.4</td>\n",
       "    </tr>\n",
       "    <tr>\n",
       "      <th>33</th>\n",
       "      <td>9.0</td>\n",
       "      <td>3.2</td>\n",
       "    </tr>\n",
       "    <tr>\n",
       "      <th>34</th>\n",
       "      <td>46.0</td>\n",
       "      <td>47.8</td>\n",
       "    </tr>\n",
       "    <tr>\n",
       "      <th>35</th>\n",
       "      <td>40.0</td>\n",
       "      <td>35.2</td>\n",
       "    </tr>\n",
       "    <tr>\n",
       "      <th>36</th>\n",
       "      <td>24.0</td>\n",
       "      <td>35.2</td>\n",
       "    </tr>\n",
       "    <tr>\n",
       "      <th>37</th>\n",
       "      <td>12.0</td>\n",
       "      <td>6.8</td>\n",
       "    </tr>\n",
       "    <tr>\n",
       "      <th>38</th>\n",
       "      <td>2.0</td>\n",
       "      <td>1.4</td>\n",
       "    </tr>\n",
       "    <tr>\n",
       "      <th>39</th>\n",
       "      <td>41.0</td>\n",
       "      <td>40.8</td>\n",
       "    </tr>\n",
       "    <tr>\n",
       "      <th>40</th>\n",
       "      <td>37.0</td>\n",
       "      <td>35.4</td>\n",
       "    </tr>\n",
       "    <tr>\n",
       "      <th>41</th>\n",
       "      <td>31.0</td>\n",
       "      <td>31.6</td>\n",
       "    </tr>\n",
       "    <tr>\n",
       "      <th>42</th>\n",
       "      <td>5.0</td>\n",
       "      <td>3.6</td>\n",
       "    </tr>\n",
       "    <tr>\n",
       "      <th>43</th>\n",
       "      <td>-2.0</td>\n",
       "      <td>-0.4</td>\n",
       "    </tr>\n",
       "    <tr>\n",
       "      <th>44</th>\n",
       "      <td>0.0</td>\n",
       "      <td>-0.4</td>\n",
       "    </tr>\n",
       "    <tr>\n",
       "      <th>45</th>\n",
       "      <td>0.0</td>\n",
       "      <td>-0.4</td>\n",
       "    </tr>\n",
       "    <tr>\n",
       "      <th>46</th>\n",
       "      <td>19.0</td>\n",
       "      <td>25.4</td>\n",
       "    </tr>\n",
       "    <tr>\n",
       "      <th>47</th>\n",
       "      <td>2.0</td>\n",
       "      <td>0.6</td>\n",
       "    </tr>\n",
       "    <tr>\n",
       "      <th>48</th>\n",
       "      <td>-1.0</td>\n",
       "      <td>0.4</td>\n",
       "    </tr>\n",
       "    <tr>\n",
       "      <th>49</th>\n",
       "      <td>43.0</td>\n",
       "      <td>44.4</td>\n",
       "    </tr>\n",
       "    <tr>\n",
       "      <th>50</th>\n",
       "      <td>36.0</td>\n",
       "      <td>34.2</td>\n",
       "    </tr>\n",
       "    <tr>\n",
       "      <th>51</th>\n",
       "      <td>18.0</td>\n",
       "      <td>22.4</td>\n",
       "    </tr>\n",
       "    <tr>\n",
       "      <th>52</th>\n",
       "      <td>36.0</td>\n",
       "      <td>25.8</td>\n",
       "    </tr>\n",
       "    <tr>\n",
       "      <th>53</th>\n",
       "      <td>1.0</td>\n",
       "      <td>0.2</td>\n",
       "    </tr>\n",
       "    <tr>\n",
       "      <th>54</th>\n",
       "      <td>27.0</td>\n",
       "      <td>20.8</td>\n",
       "    </tr>\n",
       "    <tr>\n",
       "      <th>55</th>\n",
       "      <td>2.0</td>\n",
       "      <td>0.6</td>\n",
       "    </tr>\n",
       "    <tr>\n",
       "      <th>56</th>\n",
       "      <td>56.0</td>\n",
       "      <td>52.2</td>\n",
       "    </tr>\n",
       "    <tr>\n",
       "      <th>57</th>\n",
       "      <td>23.0</td>\n",
       "      <td>20.8</td>\n",
       "    </tr>\n",
       "    <tr>\n",
       "      <th>58</th>\n",
       "      <td>4.0</td>\n",
       "      <td>3.2</td>\n",
       "    </tr>\n",
       "  </tbody>\n",
       "</table>\n",
       "</div>"
      ],
      "text/plain": [
       "     +/-  Pred_+/-\n",
       "0   42.0      37.6\n",
       "1   32.0      34.2\n",
       "2   11.0      18.8\n",
       "3    6.0       5.4\n",
       "4   -3.0      -1.2\n",
       "5    0.0      -0.4\n",
       "6   36.0      38.4\n",
       "7   30.0      34.6\n",
       "8   32.0      37.4\n",
       "9   30.0      35.6\n",
       "10   8.0      15.4\n",
       "11  -4.0       1.4\n",
       "12  -1.0      -0.6\n",
       "13   0.0      -0.4\n",
       "14  45.0      46.0\n",
       "15  35.0      35.8\n",
       "16  52.0      51.6\n",
       "17  53.0      50.6\n",
       "18  25.0      20.8\n",
       "19   1.0       2.2\n",
       "20   4.0       2.0\n",
       "21   0.0      -0.8\n",
       "22   1.0       0.4\n",
       "23  71.0      56.6\n",
       "24  65.0      56.6\n",
       "25  60.0      55.2\n",
       "26  30.0      22.4\n",
       "27   4.0       2.0\n",
       "28   3.0       1.2\n",
       "29  46.0      44.8\n",
       "30  55.0      53.0\n",
       "31  45.0      40.0\n",
       "32  25.0      15.4\n",
       "33   9.0       3.2\n",
       "34  46.0      47.8\n",
       "35  40.0      35.2\n",
       "36  24.0      35.2\n",
       "37  12.0       6.8\n",
       "38   2.0       1.4\n",
       "39  41.0      40.8\n",
       "40  37.0      35.4\n",
       "41  31.0      31.6\n",
       "42   5.0       3.6\n",
       "43  -2.0      -0.4\n",
       "44   0.0      -0.4\n",
       "45   0.0      -0.4\n",
       "46  19.0      25.4\n",
       "47   2.0       0.6\n",
       "48  -1.0       0.4\n",
       "49  43.0      44.4\n",
       "50  36.0      34.2\n",
       "51  18.0      22.4\n",
       "52  36.0      25.8\n",
       "53   1.0       0.2\n",
       "54  27.0      20.8\n",
       "55   2.0       0.6\n",
       "56  56.0      52.2\n",
       "57  23.0      20.8\n",
       "58   4.0       3.2"
      ]
     },
     "execution_count": 93,
     "metadata": {},
     "output_type": "execute_result"
    }
   ],
   "source": [
    "md1['Pred_+/-'] = Pred\n",
    "md1[['+/-', 'Pred_+/-']]"
   ]
  },
  {
   "cell_type": "code",
   "execution_count": 94,
   "metadata": {},
   "outputs": [
    {
     "data": {
      "image/png": "[encoded data removed]",
      "text/plain": [
       "<Figure size 432x288 with 1 Axes>"
      ]
     },
     "metadata": {
      "needs_background": "light"
     },
     "output_type": "display_data"
    }
   ],
   "source": [
    "fig = plt.figure()\n",
    "plt.scatter(md1['+/-'].values, md1['+/-'].values, s=10, color = 'black', label = 'Test')\n",
    "plt.scatter(md1['Pred_+/-'].values, md1['Pred_+/-'].values, s=10, color = 'red', label = 'Pred')\n",
    "\n",
    "plt.legend()\n",
    "plt.show(fig)"
   ]
  },
  {
   "cell_type": "code",
   "execution_count": 95,
   "metadata": {},
   "outputs": [
    {
     "data": {
      "text/html": [
       "<div>\n",
       "<style scoped>\n",
       "    .dataframe tbody tr th:only-of-type {\n",
       "        vertical-align: middle;\n",
       "    }\n",
       "\n",
       "    .dataframe tbody tr th {\n",
       "        vertical-align: top;\n",
       "    }\n",
       "\n",
       "    .dataframe thead th {\n",
       "        text-align: right;\n",
       "    }\n",
       "</style>\n",
       "<table border=\"1\" class=\"dataframe\">\n",
       "  <thead>\n",
       "    <tr style=\"text-align: right;\">\n",
       "      <th></th>\n",
       "      <th>Min%</th>\n",
       "      <th>90s</th>\n",
       "      <th>Compl</th>\n",
       "      <th>unSub</th>\n",
       "      <th>onG</th>\n",
       "      <th>onGA</th>\n",
       "      <th>+/-</th>\n",
       "    </tr>\n",
       "  </thead>\n",
       "  <tbody>\n",
       "    <tr>\n",
       "      <th>3</th>\n",
       "      <td>75.5</td>\n",
       "      <td>27.2</td>\n",
       "      <td>24</td>\n",
       "      <td>5</td>\n",
       "      <td>53.0</td>\n",
       "      <td>23.0</td>\n",
       "      <td>30.0</td>\n",
       "    </tr>\n",
       "    <tr>\n",
       "      <th>9</th>\n",
       "      <td>57.3</td>\n",
       "      <td>20.6</td>\n",
       "      <td>19</td>\n",
       "      <td>9</td>\n",
       "      <td>43.0</td>\n",
       "      <td>20.0</td>\n",
       "      <td>23.0</td>\n",
       "    </tr>\n",
       "    <tr>\n",
       "      <th>11</th>\n",
       "      <td>54.1</td>\n",
       "      <td>19.5</td>\n",
       "      <td>19</td>\n",
       "      <td>12</td>\n",
       "      <td>46.0</td>\n",
       "      <td>9.0</td>\n",
       "      <td>37.0</td>\n",
       "    </tr>\n",
       "    <tr>\n",
       "      <th>15</th>\n",
       "      <td>40.1</td>\n",
       "      <td>14.4</td>\n",
       "      <td>12</td>\n",
       "      <td>8</td>\n",
       "      <td>34.0</td>\n",
       "      <td>11.0</td>\n",
       "      <td>23.0</td>\n",
       "    </tr>\n",
       "    <tr>\n",
       "      <th>20</th>\n",
       "      <td>9.5</td>\n",
       "      <td>3.4</td>\n",
       "      <td>3</td>\n",
       "      <td>16</td>\n",
       "      <td>7.0</td>\n",
       "      <td>9.0</td>\n",
       "      <td>-2.0</td>\n",
       "    </tr>\n",
       "    <tr>\n",
       "      <th>25</th>\n",
       "      <td>0.0</td>\n",
       "      <td>0.0</td>\n",
       "      <td>0</td>\n",
       "      <td>5</td>\n",
       "      <td>0.0</td>\n",
       "      <td>0.0</td>\n",
       "      <td>0.0</td>\n",
       "    </tr>\n",
       "    <tr>\n",
       "      <th>2</th>\n",
       "      <td>81.0</td>\n",
       "      <td>29.1</td>\n",
       "      <td>27</td>\n",
       "      <td>4</td>\n",
       "      <td>60.0</td>\n",
       "      <td>24.0</td>\n",
       "      <td>36.0</td>\n",
       "    </tr>\n",
       "    <tr>\n",
       "      <th>5</th>\n",
       "      <td>61.4</td>\n",
       "      <td>22.1</td>\n",
       "      <td>17</td>\n",
       "      <td>9</td>\n",
       "      <td>50.0</td>\n",
       "      <td>15.0</td>\n",
       "      <td>35.0</td>\n",
       "    </tr>\n",
       "    <tr>\n",
       "      <th>8</th>\n",
       "      <td>61.0</td>\n",
       "      <td>22.0</td>\n",
       "      <td>18</td>\n",
       "      <td>1</td>\n",
       "      <td>50.0</td>\n",
       "      <td>17.0</td>\n",
       "      <td>33.0</td>\n",
       "    </tr>\n",
       "    <tr>\n",
       "      <th>18</th>\n",
       "      <td>24.6</td>\n",
       "      <td>8.9</td>\n",
       "      <td>8</td>\n",
       "      <td>5</td>\n",
       "      <td>16.0</td>\n",
       "      <td>13.0</td>\n",
       "      <td>3.0</td>\n",
       "    </tr>\n",
       "    <tr>\n",
       "      <th>21</th>\n",
       "      <td>2.8</td>\n",
       "      <td>1.0</td>\n",
       "      <td>1</td>\n",
       "      <td>3</td>\n",
       "      <td>4.0</td>\n",
       "      <td>3.0</td>\n",
       "      <td>1.0</td>\n",
       "    </tr>\n",
       "    <tr>\n",
       "      <th>24</th>\n",
       "      <td>0.0</td>\n",
       "      <td>0.0</td>\n",
       "      <td>0</td>\n",
       "      <td>5</td>\n",
       "      <td>0.0</td>\n",
       "      <td>0.0</td>\n",
       "      <td>0.0</td>\n",
       "    </tr>\n",
       "    <tr>\n",
       "      <th>28</th>\n",
       "      <td>0.0</td>\n",
       "      <td>0.0</td>\n",
       "      <td>0</td>\n",
       "      <td>1</td>\n",
       "      <td>0.0</td>\n",
       "      <td>0.0</td>\n",
       "      <td>0.0</td>\n",
       "    </tr>\n",
       "  </tbody>\n",
       "</table>\n",
       "</div>"
      ],
      "text/plain": [
       "    Min%   90s  Compl  unSub   onG  onGA   +/-\n",
       "3   75.5  27.2     24      5  53.0  23.0  30.0\n",
       "9   57.3  20.6     19      9  43.0  20.0  23.0\n",
       "11  54.1  19.5     19     12  46.0   9.0  37.0\n",
       "15  40.1  14.4     12      8  34.0  11.0  23.0\n",
       "20   9.5   3.4      3     16   7.0   9.0  -2.0\n",
       "25   0.0   0.0      0      5   0.0   0.0   0.0\n",
       "2   81.0  29.1     27      4  60.0  24.0  36.0\n",
       "5   61.4  22.1     17      9  50.0  15.0  35.0\n",
       "8   61.0  22.0     18      1  50.0  17.0  33.0\n",
       "18  24.6   8.9      8      5  16.0  13.0   3.0\n",
       "21   2.8   1.0      1      3   4.0   3.0   1.0\n",
       "24   0.0   0.0      0      5   0.0   0.0   0.0\n",
       "28   0.0   0.0      0      1   0.0   0.0   0.0"
      ]
     },
     "execution_count": 95,
     "metadata": {},
     "output_type": "execute_result"
    }
   ],
   "source": [
    "md21"
   ]
  },
  {
   "cell_type": "code",
   "execution_count": 96,
   "metadata": {},
   "outputs": [
    {
     "data": {
      "text/html": [
       "<div>\n",
       "<style scoped>\n",
       "    .dataframe tbody tr th:only-of-type {\n",
       "        vertical-align: middle;\n",
       "    }\n",
       "\n",
       "    .dataframe tbody tr th {\n",
       "        vertical-align: top;\n",
       "    }\n",
       "\n",
       "    .dataframe thead th {\n",
       "        text-align: right;\n",
       "    }\n",
       "</style>\n",
       "<table border=\"1\" class=\"dataframe\">\n",
       "  <thead>\n",
       "    <tr style=\"text-align: right;\">\n",
       "      <th></th>\n",
       "      <th>Min%</th>\n",
       "      <th>90s</th>\n",
       "      <th>Compl</th>\n",
       "      <th>unSub</th>\n",
       "      <th>onG</th>\n",
       "      <th>onGA</th>\n",
       "      <th>+/-</th>\n",
       "      <th>Pred_+/-</th>\n",
       "    </tr>\n",
       "  </thead>\n",
       "  <tbody>\n",
       "    <tr>\n",
       "      <th>3</th>\n",
       "      <td>75.5</td>\n",
       "      <td>27.2</td>\n",
       "      <td>24</td>\n",
       "      <td>5</td>\n",
       "      <td>53.0</td>\n",
       "      <td>23.0</td>\n",
       "      <td>30.0</td>\n",
       "      <td>32.2</td>\n",
       "    </tr>\n",
       "    <tr>\n",
       "      <th>9</th>\n",
       "      <td>57.3</td>\n",
       "      <td>20.6</td>\n",
       "      <td>19</td>\n",
       "      <td>9</td>\n",
       "      <td>43.0</td>\n",
       "      <td>20.0</td>\n",
       "      <td>23.0</td>\n",
       "      <td>32.8</td>\n",
       "    </tr>\n",
       "    <tr>\n",
       "      <th>11</th>\n",
       "      <td>54.1</td>\n",
       "      <td>19.5</td>\n",
       "      <td>19</td>\n",
       "      <td>12</td>\n",
       "      <td>46.0</td>\n",
       "      <td>9.0</td>\n",
       "      <td>37.0</td>\n",
       "      <td>34.0</td>\n",
       "    </tr>\n",
       "    <tr>\n",
       "      <th>15</th>\n",
       "      <td>40.1</td>\n",
       "      <td>14.4</td>\n",
       "      <td>12</td>\n",
       "      <td>8</td>\n",
       "      <td>34.0</td>\n",
       "      <td>11.0</td>\n",
       "      <td>23.0</td>\n",
       "      <td>18.8</td>\n",
       "    </tr>\n",
       "    <tr>\n",
       "      <th>20</th>\n",
       "      <td>9.5</td>\n",
       "      <td>3.4</td>\n",
       "      <td>3</td>\n",
       "      <td>16</td>\n",
       "      <td>7.0</td>\n",
       "      <td>9.0</td>\n",
       "      <td>-2.0</td>\n",
       "      <td>2.0</td>\n",
       "    </tr>\n",
       "    <tr>\n",
       "      <th>25</th>\n",
       "      <td>0.0</td>\n",
       "      <td>0.0</td>\n",
       "      <td>0</td>\n",
       "      <td>5</td>\n",
       "      <td>0.0</td>\n",
       "      <td>0.0</td>\n",
       "      <td>0.0</td>\n",
       "      <td>-0.2</td>\n",
       "    </tr>\n",
       "    <tr>\n",
       "      <th>2</th>\n",
       "      <td>81.0</td>\n",
       "      <td>29.1</td>\n",
       "      <td>27</td>\n",
       "      <td>4</td>\n",
       "      <td>60.0</td>\n",
       "      <td>24.0</td>\n",
       "      <td>36.0</td>\n",
       "      <td>35.8</td>\n",
       "    </tr>\n",
       "    <tr>\n",
       "      <th>5</th>\n",
       "      <td>61.4</td>\n",
       "      <td>22.1</td>\n",
       "      <td>17</td>\n",
       "      <td>9</td>\n",
       "      <td>50.0</td>\n",
       "      <td>15.0</td>\n",
       "      <td>35.0</td>\n",
       "      <td>35.2</td>\n",
       "    </tr>\n",
       "    <tr>\n",
       "      <th>8</th>\n",
       "      <td>61.0</td>\n",
       "      <td>22.0</td>\n",
       "      <td>18</td>\n",
       "      <td>1</td>\n",
       "      <td>50.0</td>\n",
       "      <td>17.0</td>\n",
       "      <td>33.0</td>\n",
       "      <td>35.2</td>\n",
       "    </tr>\n",
       "    <tr>\n",
       "      <th>18</th>\n",
       "      <td>24.6</td>\n",
       "      <td>8.9</td>\n",
       "      <td>8</td>\n",
       "      <td>5</td>\n",
       "      <td>16.0</td>\n",
       "      <td>13.0</td>\n",
       "      <td>3.0</td>\n",
       "      <td>6.2</td>\n",
       "    </tr>\n",
       "    <tr>\n",
       "      <th>21</th>\n",
       "      <td>2.8</td>\n",
       "      <td>1.0</td>\n",
       "      <td>1</td>\n",
       "      <td>3</td>\n",
       "      <td>4.0</td>\n",
       "      <td>3.0</td>\n",
       "      <td>1.0</td>\n",
       "      <td>-1.0</td>\n",
       "    </tr>\n",
       "    <tr>\n",
       "      <th>24</th>\n",
       "      <td>0.0</td>\n",
       "      <td>0.0</td>\n",
       "      <td>0</td>\n",
       "      <td>5</td>\n",
       "      <td>0.0</td>\n",
       "      <td>0.0</td>\n",
       "      <td>0.0</td>\n",
       "      <td>-0.2</td>\n",
       "    </tr>\n",
       "    <tr>\n",
       "      <th>28</th>\n",
       "      <td>0.0</td>\n",
       "      <td>0.0</td>\n",
       "      <td>0</td>\n",
       "      <td>1</td>\n",
       "      <td>0.0</td>\n",
       "      <td>0.0</td>\n",
       "      <td>0.0</td>\n",
       "      <td>-0.4</td>\n",
       "    </tr>\n",
       "  </tbody>\n",
       "</table>\n",
       "</div>"
      ],
      "text/plain": [
       "    Min%   90s  Compl  unSub   onG  onGA   +/-  Pred_+/-\n",
       "3   75.5  27.2     24      5  53.0  23.0  30.0      32.2\n",
       "9   57.3  20.6     19      9  43.0  20.0  23.0      32.8\n",
       "11  54.1  19.5     19     12  46.0   9.0  37.0      34.0\n",
       "15  40.1  14.4     12      8  34.0  11.0  23.0      18.8\n",
       "20   9.5   3.4      3     16   7.0   9.0  -2.0       2.0\n",
       "25   0.0   0.0      0      5   0.0   0.0   0.0      -0.2\n",
       "2   81.0  29.1     27      4  60.0  24.0  36.0      35.8\n",
       "5   61.4  22.1     17      9  50.0  15.0  35.0      35.2\n",
       "8   61.0  22.0     18      1  50.0  17.0  33.0      35.2\n",
       "18  24.6   8.9      8      5  16.0  13.0   3.0       6.2\n",
       "21   2.8   1.0      1      3   4.0   3.0   1.0      -1.0\n",
       "24   0.0   0.0      0      5   0.0   0.0   0.0      -0.2\n",
       "28   0.0   0.0      0      1   0.0   0.0   0.0      -0.4"
      ]
     },
     "execution_count": 96,
     "metadata": {},
     "output_type": "execute_result"
    }
   ],
   "source": [
    "md21['Pred_+/-']  = gridsearch_md.predict(md21.drop(columns = ['+/-']).values)\n",
    "md21"
   ]
  },
  {
   "cell_type": "code",
   "execution_count": null,
   "metadata": {},
   "outputs": [],
   "source": []
  },
  {
   "cell_type": "code",
   "execution_count": 97,
   "metadata": {},
   "outputs": [],
   "source": [
    "## Further Improving on kNN in scikit-learn With Bagging\n",
    "best_k = gridsearch_md.best_params_[\"n_neighbors\"]\n",
    "bagged_knn = KNeighborsRegressor(\n",
    "    n_neighbors=best_k\n",
    ")"
   ]
  },
  {
   "cell_type": "code",
   "execution_count": 98,
   "metadata": {},
   "outputs": [
    {
     "data": {
      "text/plain": [
       "BaggingRegressor(base_estimator=KNeighborsRegressor(), n_estimators=100)"
      ]
     },
     "execution_count": 98,
     "metadata": {},
     "output_type": "execute_result"
    }
   ],
   "source": [
    "from sklearn.ensemble import BaggingRegressor\n",
    "bagging_model_md = BaggingRegressor(bagged_knn, n_estimators=100)\n",
    "bagging_model_md.fit(X_train, y_train)"
   ]
  },
  {
   "cell_type": "code",
   "execution_count": 99,
   "metadata": {},
   "outputs": [
    {
     "data": {
      "text/plain": [
       "5.394353900144114"
      ]
     },
     "execution_count": 99,
     "metadata": {},
     "output_type": "execute_result"
    }
   ],
   "source": [
    "test_preds_grid = bagging_model_md.predict(X_test)\n",
    "test_mse = mean_squared_error(y_test, test_preds_grid)\n",
    "test_rmse = sqrt(test_mse)\n",
    "test_rmse"
   ]
  },
  {
   "cell_type": "code",
   "execution_count": 100,
   "metadata": {},
   "outputs": [
    {
     "data": {
      "text/plain": [
       "4.2776625353056374"
      ]
     },
     "execution_count": 100,
     "metadata": {},
     "output_type": "execute_result"
    }
   ],
   "source": [
    "train_preds_grid = bagging_model_md.predict(X_train)\n",
    "train_mse = mean_squared_error(y_train, train_preds_grid)\n",
    "train_rmse = sqrt(train_mse)\n",
    "train_rmse"
   ]
  },
  {
   "cell_type": "code",
   "execution_count": 101,
   "metadata": {},
   "outputs": [],
   "source": [
    "## rmse further tuned"
   ]
  },
  {
   "cell_type": "code",
   "execution_count": 102,
   "metadata": {},
   "outputs": [],
   "source": [
    "X = md21.drop(\"+/-\", axis=1)\n",
    "X = X.values"
   ]
  },
  {
   "cell_type": "code",
   "execution_count": 103,
   "metadata": {},
   "outputs": [
    {
     "data": {
      "text/html": [
       "<div>\n",
       "<style scoped>\n",
       "    .dataframe tbody tr th:only-of-type {\n",
       "        vertical-align: middle;\n",
       "    }\n",
       "\n",
       "    .dataframe tbody tr th {\n",
       "        vertical-align: top;\n",
       "    }\n",
       "\n",
       "    .dataframe thead th {\n",
       "        text-align: right;\n",
       "    }\n",
       "</style>\n",
       "<table border=\"1\" class=\"dataframe\">\n",
       "  <thead>\n",
       "    <tr style=\"text-align: right;\">\n",
       "      <th></th>\n",
       "      <th>+/-</th>\n",
       "      <th>Pred_+/-</th>\n",
       "    </tr>\n",
       "  </thead>\n",
       "  <tbody>\n",
       "    <tr>\n",
       "      <th>3</th>\n",
       "      <td>30.0</td>\n",
       "      <td>32.762</td>\n",
       "    </tr>\n",
       "    <tr>\n",
       "      <th>9</th>\n",
       "      <td>23.0</td>\n",
       "      <td>30.574</td>\n",
       "    </tr>\n",
       "    <tr>\n",
       "      <th>11</th>\n",
       "      <td>37.0</td>\n",
       "      <td>33.222</td>\n",
       "    </tr>\n",
       "    <tr>\n",
       "      <th>15</th>\n",
       "      <td>23.0</td>\n",
       "      <td>20.604</td>\n",
       "    </tr>\n",
       "    <tr>\n",
       "      <th>20</th>\n",
       "      <td>-2.0</td>\n",
       "      <td>2.196</td>\n",
       "    </tr>\n",
       "    <tr>\n",
       "      <th>25</th>\n",
       "      <td>0.0</td>\n",
       "      <td>-0.178</td>\n",
       "    </tr>\n",
       "    <tr>\n",
       "      <th>2</th>\n",
       "      <td>36.0</td>\n",
       "      <td>36.348</td>\n",
       "    </tr>\n",
       "    <tr>\n",
       "      <th>5</th>\n",
       "      <td>35.0</td>\n",
       "      <td>35.874</td>\n",
       "    </tr>\n",
       "    <tr>\n",
       "      <th>8</th>\n",
       "      <td>33.0</td>\n",
       "      <td>35.164</td>\n",
       "    </tr>\n",
       "    <tr>\n",
       "      <th>18</th>\n",
       "      <td>3.0</td>\n",
       "      <td>6.612</td>\n",
       "    </tr>\n",
       "    <tr>\n",
       "      <th>21</th>\n",
       "      <td>1.0</td>\n",
       "      <td>-0.748</td>\n",
       "    </tr>\n",
       "    <tr>\n",
       "      <th>24</th>\n",
       "      <td>0.0</td>\n",
       "      <td>-0.178</td>\n",
       "    </tr>\n",
       "    <tr>\n",
       "      <th>28</th>\n",
       "      <td>0.0</td>\n",
       "      <td>-0.346</td>\n",
       "    </tr>\n",
       "  </tbody>\n",
       "</table>\n",
       "</div>"
      ],
      "text/plain": [
       "     +/-  Pred_+/-\n",
       "3   30.0    32.762\n",
       "9   23.0    30.574\n",
       "11  37.0    33.222\n",
       "15  23.0    20.604\n",
       "20  -2.0     2.196\n",
       "25   0.0    -0.178\n",
       "2   36.0    36.348\n",
       "5   35.0    35.874\n",
       "8   33.0    35.164\n",
       "18   3.0     6.612\n",
       "21   1.0    -0.748\n",
       "24   0.0    -0.178\n",
       "28   0.0    -0.346"
      ]
     },
     "execution_count": 103,
     "metadata": {},
     "output_type": "execute_result"
    }
   ],
   "source": [
    "Pred = bagging_model_md.predict(X)\n",
    "md21['Pred_+/-'] = Pred\n",
    "md21[['+/-', 'Pred_+/-']]"
   ]
  },
  {
   "cell_type": "code",
   "execution_count": 104,
   "metadata": {},
   "outputs": [
    {
     "name": "stdout",
     "output_type": "stream",
     "text": [
      "    Min%   90s  Compl  unSub   onG  onGA   +/-  Pred_+/-\n",
      "3   75.5  27.2     24      5  53.0  23.0  30.0    32.762\n",
      "9   57.3  20.6     19      9  43.0  20.0  23.0    30.574\n",
      "11  54.1  19.5     19     12  46.0   9.0  37.0    33.222\n",
      "15  40.1  14.4     12      8  34.0  11.0  23.0    20.604\n",
      "20   9.5   3.4      3     16   7.0   9.0  -2.0     2.196\n",
      "25   0.0   0.0      0      5   0.0   0.0   0.0    -0.178\n",
      "2   81.0  29.1     27      4  60.0  24.0  36.0    36.348\n",
      "5   61.4  22.1     17      9  50.0  15.0  35.0    35.874\n",
      "8   61.0  22.0     18      1  50.0  17.0  33.0    35.164\n",
      "18  24.6   8.9      8      5  16.0  13.0   3.0     6.612\n",
      "21   2.8   1.0      1      3   4.0   3.0   1.0    -0.748\n",
      "24   0.0   0.0      0      5   0.0   0.0   0.0    -0.178\n",
      "28   0.0   0.0      0      1   0.0   0.0   0.0    -0.346\n"
     ]
    },
    {
     "data": {
      "image/png": "[encoded data removed]",
      "text/plain": [
       "<Figure size 432x288 with 1 Axes>"
      ]
     },
     "metadata": {
      "needs_background": "light"
     },
     "output_type": "display_data"
    }
   ],
   "source": [
    "md21['Pred_+/-']  = bagging_model_md.predict(md21.drop(columns = ['+/-', 'Pred_+/-']).values)\n",
    "print(md21)\n",
    "\n",
    "fig = plt.figure()\n",
    "plt.scatter(md21['+/-'].values, md21['+/-'].values, s=10, color = 'black', label = 'Test')\n",
    "plt.scatter(md21['Pred_+/-'].values, md21['Pred_+/-'].values, s=10, color = 'red', label = 'Pred')\n",
    "\n",
    "plt.legend()\n",
    "plt.savefig('bagging_Mid')\n",
    "fig.suptitle('Midfield Data | Bagging Model')\n",
    "plt.show(fig)"
   ]
  },
  {
   "cell_type": "code",
   "execution_count": 105,
   "metadata": {},
   "outputs": [
    {
     "name": "stdout",
     "output_type": "stream",
     "text": [
      "    Min%   90s  Compl  unSub   onG  onGA   +/-  Pred_+/-\n",
      "3   75.5  27.2     24      5  53.0  23.0  30.0      32.2\n",
      "9   57.3  20.6     19      9  43.0  20.0  23.0      32.8\n",
      "11  54.1  19.5     19     12  46.0   9.0  37.0      34.0\n",
      "15  40.1  14.4     12      8  34.0  11.0  23.0      18.8\n",
      "20   9.5   3.4      3     16   7.0   9.0  -2.0       2.0\n",
      "25   0.0   0.0      0      5   0.0   0.0   0.0      -0.2\n",
      "2   81.0  29.1     27      4  60.0  24.0  36.0      35.8\n",
      "5   61.4  22.1     17      9  50.0  15.0  35.0      35.2\n",
      "8   61.0  22.0     18      1  50.0  17.0  33.0      35.2\n",
      "18  24.6   8.9      8      5  16.0  13.0   3.0       6.2\n",
      "21   2.8   1.0      1      3   4.0   3.0   1.0      -1.0\n",
      "24   0.0   0.0      0      5   0.0   0.0   0.0      -0.2\n",
      "28   0.0   0.0      0      1   0.0   0.0   0.0      -0.4\n"
     ]
    },
    {
     "data": {
      "image/png": "[encoded data removed]",
      "text/plain": [
       "<Figure size 432x288 with 1 Axes>"
      ]
     },
     "metadata": {
      "needs_background": "light"
     },
     "output_type": "display_data"
    }
   ],
   "source": [
    "md21['Pred_+/-']  = gridsearch_md.predict(md21.drop(columns = ['+/-', 'Pred_+/-']).values)\n",
    "print(md21)\n",
    "\n",
    "fig = plt.figure()\n",
    "plt.scatter(md21['+/-'].values, md21['+/-'].values, s=10, color = 'black', label = 'Test')\n",
    "plt.scatter(md21['Pred_+/-'].values, md21['Pred_+/-'].values, s=10, color = 'red', label = 'Pred')\n",
    "\n",
    "plt.legend()\n",
    "#plt.savefig('knn_forward')\n",
    "#fig.suptitle('Forward Data | K-NN Model')\n",
    "plt.show(fig)"
   ]
  },
  {
   "cell_type": "code",
   "execution_count": 106,
   "metadata": {},
   "outputs": [
    {
     "name": "stdout",
     "output_type": "stream",
     "text": [
      "    Min%   90s  Compl  unSub   onG  onGA   +/-   Pred_+/-\n",
      "3   75.5  27.2     24      5  53.0  23.0  30.0  30.333333\n",
      "9   57.3  20.6     19      9  43.0  20.0  23.0  27.666667\n",
      "11  54.1  19.5     19     12  46.0   9.0  37.0  40.333333\n",
      "15  40.1  14.4     12      8  34.0  11.0  23.0  25.000000\n",
      "20   9.5   3.4      3     16   7.0   9.0  -2.0   4.000000\n",
      "25   0.0   0.0      0      5   0.0   0.0   0.0   0.000000\n",
      "2   81.0  29.1     27      4  60.0  24.0  36.0  31.666667\n",
      "5   61.4  22.1     17      9  50.0  15.0  35.0  40.333333\n",
      "8   61.0  22.0     18      1  50.0  17.0  33.0  36.333333\n",
      "18  24.6   8.9      8      5  16.0  13.0   3.0   8.333333\n",
      "21   2.8   1.0      1      3   4.0   3.0   1.0  -0.666667\n",
      "24   0.0   0.0      0      5   0.0   0.0   0.0   0.000000\n",
      "28   0.0   0.0      0      1   0.0   0.0   0.0   0.333333\n"
     ]
    },
    {
     "data": {
      "image/png": "[encoded data removed]",
      "text/plain": [
       "<Figure size 432x288 with 1 Axes>"
      ]
     },
     "metadata": {
      "needs_background": "light"
     },
     "output_type": "display_data"
    }
   ],
   "source": [
    "md21['Pred_+/-']  = knn_model_md.predict(md21.drop(columns = ['+/-', 'Pred_+/-']).values)\n",
    "print(md21)\n",
    "\n",
    "fig = plt.figure()\n",
    "plt.scatter(md21['+/-'].values, md21['+/-'].values, s=10, color = 'black', label = 'Test')\n",
    "plt.scatter(md21['Pred_+/-'].values, md21['Pred_+/-'].values, s=10, color = 'red', label = 'Pred')\n",
    "\n",
    "plt.legend()\n",
    "#plt.savefig('knn_forward')\n",
    "#fig.suptitle('Forward Data | K-NN Model')\n",
    "plt.show(fig)"
   ]
  },
  {
   "cell_type": "markdown",
   "metadata": {},
   "source": [
    "## this seems to be too fine tuned, thus we will go ahead with our bagging model."
   ]
  },
  {
   "cell_type": "code",
   "execution_count": null,
   "metadata": {},
   "outputs": [],
   "source": []
  },
  {
   "cell_type": "code",
   "execution_count": null,
   "metadata": {},
   "outputs": [],
   "source": []
  },
  {
   "cell_type": "markdown",
   "metadata": {},
   "source": [
    "## k-NN for dataset dfn"
   ]
  },
  {
   "cell_type": "code",
   "execution_count": 107,
   "metadata": {},
   "outputs": [
    {
     "data": {
      "text/html": [
       "<div>\n",
       "<style scoped>\n",
       "    .dataframe tbody tr th:only-of-type {\n",
       "        vertical-align: middle;\n",
       "    }\n",
       "\n",
       "    .dataframe tbody tr th {\n",
       "        vertical-align: top;\n",
       "    }\n",
       "\n",
       "    .dataframe thead th {\n",
       "        text-align: right;\n",
       "    }\n",
       "</style>\n",
       "<table border=\"1\" class=\"dataframe\">\n",
       "  <thead>\n",
       "    <tr style=\"text-align: right;\">\n",
       "      <th></th>\n",
       "      <th>Season</th>\n",
       "      <th>Team</th>\n",
       "      <th>Player</th>\n",
       "      <th>Pos</th>\n",
       "      <th>Gls</th>\n",
       "      <th>Ast</th>\n",
       "      <th>G-PK</th>\n",
       "      <th>G+A-PK/90s</th>\n",
       "      <th>Min%</th>\n",
       "      <th>90s</th>\n",
       "      <th>Compl</th>\n",
       "      <th>unSub</th>\n",
       "      <th>onG</th>\n",
       "      <th>onGA</th>\n",
       "      <th>+/-</th>\n",
       "    </tr>\n",
       "  </thead>\n",
       "  <tbody>\n",
       "    <tr>\n",
       "      <th>42</th>\n",
       "      <td>2019</td>\n",
       "      <td>Manchester City</td>\n",
       "      <td>Philippe Sandler</td>\n",
       "      <td>DF</td>\n",
       "      <td>0.0</td>\n",
       "      <td>0.0</td>\n",
       "      <td>0.0</td>\n",
       "      <td>0.00</td>\n",
       "      <td>0.0</td>\n",
       "      <td>0.0</td>\n",
       "      <td>0.0</td>\n",
       "      <td>1</td>\n",
       "      <td>0.0</td>\n",
       "      <td>0.0</td>\n",
       "      <td>0.0</td>\n",
       "    </tr>\n",
       "    <tr>\n",
       "      <th>10</th>\n",
       "      <td>2016</td>\n",
       "      <td>Leicester City</td>\n",
       "      <td>Danny Simpson</td>\n",
       "      <td>DF</td>\n",
       "      <td>0.0</td>\n",
       "      <td>0.0</td>\n",
       "      <td>0.0</td>\n",
       "      <td>0.00</td>\n",
       "      <td>76.3</td>\n",
       "      <td>29.0</td>\n",
       "      <td>26.0</td>\n",
       "      <td>3</td>\n",
       "      <td>52.0</td>\n",
       "      <td>19.0</td>\n",
       "      <td>33.0</td>\n",
       "    </tr>\n",
       "    <tr>\n",
       "      <th>37</th>\n",
       "      <td>2019</td>\n",
       "      <td>Manchester City</td>\n",
       "      <td>Oleksandr Zinchenko</td>\n",
       "      <td>DF</td>\n",
       "      <td>0.0</td>\n",
       "      <td>3.0</td>\n",
       "      <td>0.0</td>\n",
       "      <td>0.23</td>\n",
       "      <td>33.7</td>\n",
       "      <td>12.8</td>\n",
       "      <td>12.0</td>\n",
       "      <td>7</td>\n",
       "      <td>29.0</td>\n",
       "      <td>4.0</td>\n",
       "      <td>25.0</td>\n",
       "    </tr>\n",
       "    <tr>\n",
       "      <th>39</th>\n",
       "      <td>2019</td>\n",
       "      <td>Manchester City</td>\n",
       "      <td>Benjamin Mendy</td>\n",
       "      <td>DF</td>\n",
       "      <td>0.0</td>\n",
       "      <td>5.0</td>\n",
       "      <td>0.0</td>\n",
       "      <td>0.50</td>\n",
       "      <td>26.3</td>\n",
       "      <td>10.0</td>\n",
       "      <td>10.0</td>\n",
       "      <td>1</td>\n",
       "      <td>29.0</td>\n",
       "      <td>6.0</td>\n",
       "      <td>23.0</td>\n",
       "    </tr>\n",
       "    <tr>\n",
       "      <th>15</th>\n",
       "      <td>2017</td>\n",
       "      <td>Chelsea</td>\n",
       "      <td>CÃ©sar Azpilicueta</td>\n",
       "      <td>DF</td>\n",
       "      <td>1.0</td>\n",
       "      <td>4.0</td>\n",
       "      <td>1.0</td>\n",
       "      <td>0.13</td>\n",
       "      <td>100.0</td>\n",
       "      <td>38.0</td>\n",
       "      <td>38.0</td>\n",
       "      <td>0</td>\n",
       "      <td>85.0</td>\n",
       "      <td>33.0</td>\n",
       "      <td>52.0</td>\n",
       "    </tr>\n",
       "    <tr>\n",
       "      <th>34</th>\n",
       "      <td>2019</td>\n",
       "      <td>Manchester City</td>\n",
       "      <td>Kyle Walker</td>\n",
       "      <td>DF</td>\n",
       "      <td>1.0</td>\n",
       "      <td>1.0</td>\n",
       "      <td>1.0</td>\n",
       "      <td>0.06</td>\n",
       "      <td>81.3</td>\n",
       "      <td>30.9</td>\n",
       "      <td>29.0</td>\n",
       "      <td>4</td>\n",
       "      <td>73.0</td>\n",
       "      <td>17.0</td>\n",
       "      <td>56.0</td>\n",
       "    </tr>\n",
       "    <tr>\n",
       "      <th>16</th>\n",
       "      <td>2017</td>\n",
       "      <td>Chelsea</td>\n",
       "      <td>Gary Cahill</td>\n",
       "      <td>DF</td>\n",
       "      <td>6.0</td>\n",
       "      <td>0.0</td>\n",
       "      <td>6.0</td>\n",
       "      <td>0.16</td>\n",
       "      <td>96.4</td>\n",
       "      <td>36.6</td>\n",
       "      <td>35.0</td>\n",
       "      <td>1</td>\n",
       "      <td>80.0</td>\n",
       "      <td>29.0</td>\n",
       "      <td>51.0</td>\n",
       "    </tr>\n",
       "    <tr>\n",
       "      <th>1</th>\n",
       "      <td>2015</td>\n",
       "      <td>Chelsea</td>\n",
       "      <td>John Terry</td>\n",
       "      <td>DF</td>\n",
       "      <td>5.0</td>\n",
       "      <td>0.0</td>\n",
       "      <td>5.0</td>\n",
       "      <td>0.13</td>\n",
       "      <td>100.0</td>\n",
       "      <td>38.0</td>\n",
       "      <td>38.0</td>\n",
       "      <td>0</td>\n",
       "      <td>73.0</td>\n",
       "      <td>32.0</td>\n",
       "      <td>41.0</td>\n",
       "    </tr>\n",
       "    <tr>\n",
       "      <th>53</th>\n",
       "      <td>2015</td>\n",
       "      <td>Chelsea</td>\n",
       "      <td>Nathan AkÃ©</td>\n",
       "      <td>DF,MF</td>\n",
       "      <td>0.0</td>\n",
       "      <td>0.0</td>\n",
       "      <td>0.0</td>\n",
       "      <td>0.00</td>\n",
       "      <td>0.5</td>\n",
       "      <td>0.2</td>\n",
       "      <td>0.0</td>\n",
       "      <td>9</td>\n",
       "      <td>0.0</td>\n",
       "      <td>0.0</td>\n",
       "      <td>0.0</td>\n",
       "    </tr>\n",
       "    <tr>\n",
       "      <th>57</th>\n",
       "      <td>2020</td>\n",
       "      <td>Liverpool</td>\n",
       "      <td>James Milner</td>\n",
       "      <td>MF,DF</td>\n",
       "      <td>2.0</td>\n",
       "      <td>2.0</td>\n",
       "      <td>0.0</td>\n",
       "      <td>0.19</td>\n",
       "      <td>27.4</td>\n",
       "      <td>10.4</td>\n",
       "      <td>7.0</td>\n",
       "      <td>5</td>\n",
       "      <td>26.0</td>\n",
       "      <td>9.0</td>\n",
       "      <td>17.0</td>\n",
       "    </tr>\n",
       "  </tbody>\n",
       "</table>\n",
       "</div>"
      ],
      "text/plain": [
       "   Season             Team               Player    Pos  Gls  Ast  G-PK  \\\n",
       "42   2019  Manchester City     Philippe Sandler     DF  0.0  0.0   0.0   \n",
       "10   2016   Leicester City        Danny Simpson     DF  0.0  0.0   0.0   \n",
       "37   2019  Manchester City  Oleksandr Zinchenko     DF  0.0  3.0   0.0   \n",
       "39   2019  Manchester City       Benjamin Mendy     DF  0.0  5.0   0.0   \n",
       "15   2017          Chelsea   CÃ©sar Azpilicueta     DF  1.0  4.0   1.0   \n",
       "34   2019  Manchester City          Kyle Walker     DF  1.0  1.0   1.0   \n",
       "16   2017          Chelsea          Gary Cahill     DF  6.0  0.0   6.0   \n",
       "1    2015          Chelsea           John Terry     DF  5.0  0.0   5.0   \n",
       "53   2015          Chelsea          Nathan AkÃ©  DF,MF  0.0  0.0   0.0   \n",
       "57   2020        Liverpool         James Milner  MF,DF  2.0  2.0   0.0   \n",
       "\n",
       "    G+A-PK/90s   Min%   90s  Compl  unSub   onG  onGA   +/-  \n",
       "42        0.00    0.0   0.0    0.0      1   0.0   0.0   0.0  \n",
       "10        0.00   76.3  29.0   26.0      3  52.0  19.0  33.0  \n",
       "37        0.23   33.7  12.8   12.0      7  29.0   4.0  25.0  \n",
       "39        0.50   26.3  10.0   10.0      1  29.0   6.0  23.0  \n",
       "15        0.13  100.0  38.0   38.0      0  85.0  33.0  52.0  \n",
       "34        0.06   81.3  30.9   29.0      4  73.0  17.0  56.0  \n",
       "16        0.16   96.4  36.6   35.0      1  80.0  29.0  51.0  \n",
       "1         0.13  100.0  38.0   38.0      0  73.0  32.0  41.0  \n",
       "53        0.00    0.5   0.2    0.0      9   0.0   0.0   0.0  \n",
       "57        0.19   27.4  10.4    7.0      5  26.0   9.0  17.0  "
      ]
     },
     "execution_count": 107,
     "metadata": {},
     "output_type": "execute_result"
    }
   ],
   "source": [
    "dfn.sample(10)"
   ]
  },
  {
   "cell_type": "code",
   "execution_count": 108,
   "metadata": {},
   "outputs": [
    {
     "data": {
      "image/png": "[encoded data removed]",
      "text/plain": [
       "<Figure size 1152x432 with 2 Axes>"
      ]
     },
     "metadata": {
      "needs_background": "light"
     },
     "output_type": "display_data"
    }
   ],
   "source": [
    "plt.figure(figsize=(16, 6))\n",
    "heatmap = sns.heatmap(dfn.corr(), vmin=-1, vmax=1, annot=True, cmap='BrBG')\n",
    "heatmap.set_title('Def_Heatmap_2015-20', fontdict={'fontsize':18}, pad=12);\n",
    "# save heatmap as .png file\n",
    "# dpi - sets the resolution of the saved image in dots/inches\n",
    "# bbox_inches - when set to 'tight' - does not allow the labels to be cropped\n",
    "plt.savefig('Def_Heatmap_2015-20.png', dpi=300, bbox_inches='tight')"
   ]
  },
  {
   "cell_type": "code",
   "execution_count": 109,
   "metadata": {},
   "outputs": [],
   "source": [
    "dfn_md = dfn[['Min%', '90s', 'Compl', 'unSub', 'onG', 'onGA', '+/-']]"
   ]
  },
  {
   "cell_type": "code",
   "execution_count": 110,
   "metadata": {},
   "outputs": [],
   "source": [
    "dfn_fw = dfn[['Gls', 'Ast', 'G-PK', 'G+A-PK/90s']]"
   ]
  },
  {
   "cell_type": "code",
   "execution_count": 111,
   "metadata": {},
   "outputs": [],
   "source": [
    "## the fact that we chose knn_model_fw & bagging_md for the previous data, \n",
    "## we simply fit those models to get dfn predictions."
   ]
  },
  {
   "cell_type": "code",
   "execution_count": 112,
   "metadata": {
    "scrolled": true
   },
   "outputs": [
    {
     "name": "stdout",
     "output_type": "stream",
     "text": [
      "    Gls   Ast  G-PK  G+A-PK/90s  Pred_G+A-PK/90s\n",
      "0   4.0   5.0   4.0        0.24            1.455\n",
      "1   5.0   0.0   5.0        0.13            1.340\n",
      "2   1.0   1.0   1.0        0.06            0.000\n",
      "3   0.0   3.0   0.0        0.11            0.000\n",
      "4   0.0   0.0   0.0        0.00            0.000\n",
      "5   0.0   0.0   0.0        0.00            0.000\n",
      "6   0.0   0.0   0.0        0.00            0.000\n",
      "7   2.0   0.0   2.0        0.05            0.000\n",
      "8   3.0   0.0   3.0        0.09            1.340\n",
      "9   0.0   4.0   0.0        0.13            0.000\n",
      "10  0.0   0.0   0.0        0.00            0.000\n",
      "11  1.0   0.0   1.0        0.14            0.000\n",
      "12  0.0   0.0   0.0        0.00            0.000\n",
      "13  0.0   0.0   0.0        0.00            0.000\n",
      "14  0.0   0.0   0.0        0.00            0.000\n",
      "15  1.0   4.0   1.0        0.13            0.000\n",
      "16  6.0   0.0   6.0        0.16            0.745\n",
      "17  1.0   0.0   1.0        0.03            0.000\n",
      "18  0.0   0.0   0.0        0.00            0.000\n",
      "19  1.0   0.0   1.0        0.18            0.000\n",
      "20  0.0   0.0   0.0        0.00            0.000\n",
      "21  0.0   0.0   0.0        0.00            0.000\n",
      "22  4.0   0.0   4.0        0.12            1.340\n",
      "23  0.0   6.0   0.0        0.19            0.000\n",
      "24  1.0   2.0   1.0        0.16            0.000\n",
      "25  1.0   1.0   1.0        0.13            0.000\n",
      "26  0.0   0.0   0.0        0.00            0.000\n",
      "27  3.0   2.0   3.0        0.33            1.340\n",
      "28  0.0   0.0   0.0        0.00            0.000\n",
      "29  0.0   0.0   0.0        0.00            0.000\n",
      "30  0.0   0.0   0.0        0.00            0.000\n",
      "31  0.0   1.0   0.0        0.25            0.000\n",
      "32  0.0   0.0   0.0        0.00            0.000\n",
      "33  3.0   3.0   3.0        0.18            1.340\n",
      "34  1.0   1.0   1.0        0.06            0.000\n",
      "35  0.0   0.0   0.0        0.00            0.000\n",
      "36  0.0   0.0   0.0        0.00            0.000\n",
      "37  0.0   3.0   0.0        0.23            0.000\n",
      "38  1.0   0.0   1.0        0.07            0.000\n",
      "39  0.0   5.0   0.0        0.50            0.000\n",
      "40  1.0   0.0   1.0        0.11            0.000\n",
      "41  0.0   1.0   0.0        0.12            0.000\n",
      "42  0.0   0.0   0.0        0.00            0.000\n",
      "43  5.0   1.0   5.0        0.16            1.340\n",
      "44  4.0  13.0   4.0        0.48            0.720\n",
      "45  2.0  12.0   2.0        0.41            0.645\n",
      "46  0.0   0.0   0.0        0.00            0.000\n",
      "47  0.0   1.0   0.0        0.12            0.000\n",
      "48  1.0   0.0   1.0        0.13            0.000\n",
      "49  0.0   0.0   0.0        0.00            0.000\n",
      "50  0.0   0.0   0.0        0.00            0.000\n",
      "51  0.0   0.0   0.0        0.00            0.000\n",
      "52  0.0   0.0   0.0        0.00            0.000\n",
      "53  0.0   0.0   0.0        0.00            0.000\n",
      "54  1.0   2.0   1.0        0.19            0.000\n",
      "55  0.0   0.0   0.0        0.00            0.000\n",
      "56  0.0   0.0   0.0        0.00            0.000\n",
      "57  2.0   2.0   0.0        0.19            0.000\n",
      "58  0.0   0.0   0.0        0.00            0.000\n"
     ]
    },
    {
     "name": "stderr",
     "output_type": "stream",
     "text": [
      "<ipython-input-112-a72959802e1a>:1: SettingWithCopyWarning: \n",
      "A value is trying to be set on a copy of a slice from a DataFrame.\n",
      "Try using .loc[row_indexer,col_indexer] = value instead\n",
      "\n",
      "See the caveats in the documentation: https://pandas.pydata.org/pandas-docs/stable/user_guide/indexing.html#returning-a-view-versus-a-copy\n",
      "  dfn_fw['Pred_G+A-PK/90s']  = knn_model_fw.predict(dfn_fw.drop(columns = ['G+A-PK/90s']).values)\n"
     ]
    }
   ],
   "source": [
    "dfn_fw['Pred_G+A-PK/90s']  = knn_model_fw.predict(dfn_fw.drop(columns = ['G+A-PK/90s']).values)\n",
    "print(dfn_fw)"
   ]
  },
  {
   "cell_type": "code",
   "execution_count": 113,
   "metadata": {
    "scrolled": true
   },
   "outputs": [
    {
     "name": "stdout",
     "output_type": "stream",
     "text": [
      "     Min%   90s  Compl  unSub   onG  onGA   +/-  Pred_+/-\n",
      "0   100.0  38.0   37.0      0  73.0  31.0  42.0    40.888\n",
      "1   100.0  38.0   38.0      0  73.0  32.0  41.0    40.888\n",
      "2    87.3  33.2   32.0      2  66.0  30.0  36.0    38.610\n",
      "3    72.6  27.6   26.0      6  53.0  20.0  33.0    36.776\n",
      "4    27.5  10.5    8.0     20  21.0  12.0   9.0    10.450\n",
      "5    18.9   7.2    6.0     20   9.0   3.0   6.0     3.436\n",
      "6     0.4   0.1    0.0      2   1.0   0.0   1.0    -0.306\n",
      "7   100.0  38.0   38.0      0  68.0  36.0  32.0    40.270\n",
      "8    92.1  35.0   35.0      0  61.0  32.0  29.0    37.294\n",
      "9    79.3  30.1   29.0      2  50.0  20.0  30.0    34.098\n",
      "10   76.3  29.0   26.0      3  52.0  19.0  33.0    34.138\n",
      "11   19.2   7.3    4.0      6  15.0  16.0  -1.0     4.796\n",
      "12    8.9   3.4    3.0     19   7.0   6.0   1.0     1.936\n",
      "13    3.0   1.2    0.0      7   2.0   2.0   0.0    -0.600\n",
      "14    2.0   0.8    0.0      7   0.0   1.0  -1.0    -0.454\n",
      "15  100.0  38.0   38.0      0  85.0  33.0  52.0    49.412\n",
      "16   96.4  36.6   35.0      1  80.0  29.0  51.0    48.368\n",
      "17   86.4  32.8   31.0      1  71.0  26.0  45.0    45.954\n",
      "18   17.2   6.5    6.0      6  11.0   9.0   2.0     3.374\n",
      "19   14.5   5.5    5.0     13  15.0   9.0   6.0     4.052\n",
      "20    7.3   2.8    1.0     13   6.0   8.0  -2.0     2.452\n",
      "21    2.9   1.1    1.0      8   5.0   3.0   2.0     0.410\n",
      "22   86.8  33.0   31.0      1  90.0  25.0  65.0    55.440\n",
      "23   81.4  30.9   29.0      4  87.0  22.0  65.0    57.926\n",
      "24   50.9  19.3   15.0      3  55.0  17.0  38.0    32.786\n",
      "25   40.8  15.5   14.0      5  37.0  12.0  25.0    21.780\n",
      "26   38.1  14.5   11.0      4  44.0  11.0  33.0    21.830\n",
      "27   39.4  15.0   11.0     13  40.0  11.0  29.0    21.386\n",
      "28   23.6   9.0    8.0      5  28.0   5.0  23.0    12.640\n",
      "29   15.6   5.9    3.0     12  16.0   3.0  13.0     4.000\n",
      "30   14.3   5.4    4.0     15  14.0   2.0  12.0     4.244\n",
      "31   10.6   4.0    3.0      1  14.0   1.0  13.0     2.376\n",
      "32    0.0   0.0    0.0      7   0.0   0.0   0.0     0.022\n",
      "33   89.4  34.0   33.0      1  88.0  21.0  67.0    55.312\n",
      "34   81.3  30.9   29.0      4  73.0  17.0  56.0    52.418\n",
      "35   51.6  19.6   18.0     10  48.0  15.0  33.0    31.938\n",
      "36   36.1  13.7   13.0     17  36.0   7.0  29.0    19.672\n",
      "37   33.7  12.8   12.0      7  29.0   4.0  25.0    16.760\n",
      "38   35.8  13.6   10.0      9  36.0   7.0  29.0    20.204\n",
      "39   26.3  10.0   10.0      1  29.0   6.0  23.0    15.188\n",
      "40   23.6   9.0    8.0     15  19.0   7.0  12.0     6.596\n",
      "41   21.2   8.1    5.0      6  22.0   9.0  13.0     7.038\n",
      "42    0.0   0.0    0.0      1   0.0   0.0   0.0    -0.346\n",
      "43  100.0  38.0   38.0      0  85.0  33.0  52.0    49.412\n",
      "44   92.8  35.3   31.0      0  80.0  31.0  49.0    47.444\n",
      "45   91.0  34.6   30.0      0  80.0  31.0  49.0    48.242\n",
      "46   58.6  22.3   21.0      9  53.0  16.0  37.0    36.430\n",
      "47   22.7   8.6    8.0     10  19.0  11.0   8.0     6.996\n",
      "48   20.6   7.8    7.0      7  15.0   5.0  10.0     4.746\n",
      "49    6.7   2.6    0.0      9   5.0   3.0   2.0     0.602\n",
      "50    0.2   0.1    0.0     10   0.0   0.0   0.0     0.302\n",
      "51    0.0   0.0    0.0      1   0.0   0.0   0.0    -0.346\n",
      "52    0.0   0.0    0.0      2   0.0   0.0   0.0    -0.406\n",
      "53    0.5   0.2    0.0      9   0.0   0.0   0.0     0.320\n",
      "54   40.6  15.4    9.0      1  29.0  24.0   5.0    18.296\n",
      "55    0.0   0.0    0.0      9   0.0   0.0   0.0     0.100\n",
      "56    0.8   0.3    0.0      8   2.0   0.0   2.0     0.508\n",
      "57   27.4  10.4    7.0      5  26.0   9.0  17.0    13.416\n",
      "58    9.2   3.5    0.0      3   4.0   1.0   3.0     0.164\n"
     ]
    },
    {
     "name": "stderr",
     "output_type": "stream",
     "text": [
      "<ipython-input-113-8cfba80d189f>:1: SettingWithCopyWarning: \n",
      "A value is trying to be set on a copy of a slice from a DataFrame.\n",
      "Try using .loc[row_indexer,col_indexer] = value instead\n",
      "\n",
      "See the caveats in the documentation: https://pandas.pydata.org/pandas-docs/stable/user_guide/indexing.html#returning-a-view-versus-a-copy\n",
      "  dfn_md['Pred_+/-']  = bagging_model_md.predict(dfn_md.drop(columns = ['+/-']).values)\n"
     ]
    }
   ],
   "source": [
    "dfn_md['Pred_+/-']  = bagging_model_md.predict(dfn_md.drop(columns = ['+/-']).values)\n",
    "print(dfn_md)"
   ]
  },
  {
   "cell_type": "code",
   "execution_count": 114,
   "metadata": {},
   "outputs": [],
   "source": [
    "df21 = df21[['Season', 'Team', 'Player', 'Pos', 'Gls', 'Ast', 'G-PK', 'G+A-PK/90s']]\n",
    "pl21 = pl21[['Season', 'Team', 'Player', 'Pos', 'Min%', '90s', 'Compl', 'unSub', 'onG', 'onGA', '+/-']]"
   ]
  },
  {
   "cell_type": "code",
   "execution_count": 115,
   "metadata": {},
   "outputs": [],
   "source": [
    "data21 = pd.merge(df21, pl21, on=[\"Season\", \"Team\", \"Player\", \"Pos\"])"
   ]
  },
  {
   "cell_type": "code",
   "execution_count": 116,
   "metadata": {
    "scrolled": true
   },
   "outputs": [
    {
     "name": "stderr",
     "output_type": "stream",
     "text": [
      "<ipython-input-116-86dedb40e790>:4: UserWarning: Boolean Series key will be reindexed to match DataFrame index.\n",
      "  dfn1 = data21[data['Pos'] == 'DF']\n",
      "<ipython-input-116-86dedb40e790>:5: UserWarning: Boolean Series key will be reindexed to match DataFrame index.\n",
      "  dfn2 = data21[data['Pos'] == 'DF,MF']\n",
      "<ipython-input-116-86dedb40e790>:6: UserWarning: Boolean Series key will be reindexed to match DataFrame index.\n",
      "  dfn3 = data21[data['Pos'] == 'MF,DF']\n",
      "<ipython-input-116-86dedb40e790>:7: UserWarning: Boolean Series key will be reindexed to match DataFrame index.\n",
      "  dfn4 = data21[data['Pos'] == 'DF,FW']\n"
     ]
    },
    {
     "data": {
      "text/html": [
       "<div>\n",
       "<style scoped>\n",
       "    .dataframe tbody tr th:only-of-type {\n",
       "        vertical-align: middle;\n",
       "    }\n",
       "\n",
       "    .dataframe tbody tr th {\n",
       "        vertical-align: top;\n",
       "    }\n",
       "\n",
       "    .dataframe thead th {\n",
       "        text-align: right;\n",
       "    }\n",
       "</style>\n",
       "<table border=\"1\" class=\"dataframe\">\n",
       "  <thead>\n",
       "    <tr style=\"text-align: right;\">\n",
       "      <th></th>\n",
       "      <th>Season</th>\n",
       "      <th>Team</th>\n",
       "      <th>Player</th>\n",
       "      <th>Gls</th>\n",
       "      <th>Ast</th>\n",
       "      <th>G-PK</th>\n",
       "      <th>G+A-PK/90s</th>\n",
       "      <th>Min%</th>\n",
       "      <th>90s</th>\n",
       "      <th>Compl</th>\n",
       "      <th>unSub</th>\n",
       "      <th>onG</th>\n",
       "      <th>onGA</th>\n",
       "      <th>+/-</th>\n",
       "    </tr>\n",
       "  </thead>\n",
       "  <tbody>\n",
       "    <tr>\n",
       "      <th>0</th>\n",
       "      <td>2021</td>\n",
       "      <td>Manchester City</td>\n",
       "      <td>Ederson</td>\n",
       "      <td>0.0</td>\n",
       "      <td>1.0</td>\n",
       "      <td>0.0</td>\n",
       "      <td>0.03</td>\n",
       "      <td>94.4</td>\n",
       "      <td>34.0</td>\n",
       "      <td>34</td>\n",
       "      <td>0</td>\n",
       "      <td>69.0</td>\n",
       "      <td>25.0</td>\n",
       "      <td>44.0</td>\n",
       "    </tr>\n",
       "    <tr>\n",
       "      <th>1</th>\n",
       "      <td>2021</td>\n",
       "      <td>Manchester City</td>\n",
       "      <td>RÃºben Dias</td>\n",
       "      <td>1.0</td>\n",
       "      <td>0.0</td>\n",
       "      <td>1.0</td>\n",
       "      <td>0.03</td>\n",
       "      <td>82.2</td>\n",
       "      <td>29.6</td>\n",
       "      <td>28</td>\n",
       "      <td>4</td>\n",
       "      <td>61.0</td>\n",
       "      <td>18.0</td>\n",
       "      <td>43.0</td>\n",
       "    </tr>\n",
       "    <tr>\n",
       "      <th>4</th>\n",
       "      <td>2021</td>\n",
       "      <td>Manchester City</td>\n",
       "      <td>JoÃ£o Cancelo</td>\n",
       "      <td>2.0</td>\n",
       "      <td>3.0</td>\n",
       "      <td>2.0</td>\n",
       "      <td>0.20</td>\n",
       "      <td>70.7</td>\n",
       "      <td>25.4</td>\n",
       "      <td>23</td>\n",
       "      <td>6</td>\n",
       "      <td>50.0</td>\n",
       "      <td>18.0</td>\n",
       "      <td>32.0</td>\n",
       "    </tr>\n",
       "    <tr>\n",
       "      <th>7</th>\n",
       "      <td>2021</td>\n",
       "      <td>Manchester City</td>\n",
       "      <td>Kevin De Bruyne</td>\n",
       "      <td>5.0</td>\n",
       "      <td>11.0</td>\n",
       "      <td>3.0</td>\n",
       "      <td>0.66</td>\n",
       "      <td>58.9</td>\n",
       "      <td>21.2</td>\n",
       "      <td>16</td>\n",
       "      <td>3</td>\n",
       "      <td>40.0</td>\n",
       "      <td>17.0</td>\n",
       "      <td>23.0</td>\n",
       "    </tr>\n",
       "    <tr>\n",
       "      <th>12</th>\n",
       "      <td>2021</td>\n",
       "      <td>Manchester City</td>\n",
       "      <td>Phil Foden</td>\n",
       "      <td>7.0</td>\n",
       "      <td>5.0</td>\n",
       "      <td>7.0</td>\n",
       "      <td>0.73</td>\n",
       "      <td>45.4</td>\n",
       "      <td>16.3</td>\n",
       "      <td>9</td>\n",
       "      <td>10</td>\n",
       "      <td>41.0</td>\n",
       "      <td>13.0</td>\n",
       "      <td>28.0</td>\n",
       "    </tr>\n",
       "    <tr>\n",
       "      <th>14</th>\n",
       "      <td>2021</td>\n",
       "      <td>Manchester City</td>\n",
       "      <td>FerrÃ¡n Torres</td>\n",
       "      <td>7.0</td>\n",
       "      <td>2.0</td>\n",
       "      <td>7.0</td>\n",
       "      <td>0.64</td>\n",
       "      <td>39.4</td>\n",
       "      <td>14.2</td>\n",
       "      <td>5</td>\n",
       "      <td>13</td>\n",
       "      <td>27.0</td>\n",
       "      <td>13.0</td>\n",
       "      <td>14.0</td>\n",
       "    </tr>\n",
       "    <tr>\n",
       "      <th>23</th>\n",
       "      <td>2021</td>\n",
       "      <td>Manchester City</td>\n",
       "      <td>Liam Delap</td>\n",
       "      <td>0.0</td>\n",
       "      <td>0.0</td>\n",
       "      <td>0.0</td>\n",
       "      <td>0.00</td>\n",
       "      <td>1.2</td>\n",
       "      <td>0.4</td>\n",
       "      <td>0</td>\n",
       "      <td>5</td>\n",
       "      <td>1.0</td>\n",
       "      <td>4.0</td>\n",
       "      <td>-3.0</td>\n",
       "    </tr>\n",
       "    <tr>\n",
       "      <th>32</th>\n",
       "      <td>2021</td>\n",
       "      <td>Manchester City</td>\n",
       "      <td>James Trafford</td>\n",
       "      <td>0.0</td>\n",
       "      <td>0.0</td>\n",
       "      <td>0.0</td>\n",
       "      <td>0.00</td>\n",
       "      <td>0.0</td>\n",
       "      <td>0.0</td>\n",
       "      <td>0</td>\n",
       "      <td>1</td>\n",
       "      <td>0.0</td>\n",
       "      <td>0.0</td>\n",
       "      <td>0.0</td>\n",
       "    </tr>\n",
       "    <tr>\n",
       "      <th>22</th>\n",
       "      <td>2021</td>\n",
       "      <td>Manchester City</td>\n",
       "      <td>Zack Steffen</td>\n",
       "      <td>0.0</td>\n",
       "      <td>0.0</td>\n",
       "      <td>0.0</td>\n",
       "      <td>0.00</td>\n",
       "      <td>2.8</td>\n",
       "      <td>1.0</td>\n",
       "      <td>1</td>\n",
       "      <td>32</td>\n",
       "      <td>3.0</td>\n",
       "      <td>1.0</td>\n",
       "      <td>2.0</td>\n",
       "    </tr>\n",
       "    <tr>\n",
       "      <th>19</th>\n",
       "      <td>2021</td>\n",
       "      <td>Manchester City</td>\n",
       "      <td>Sergio AgÃ¼ero</td>\n",
       "      <td>2.0</td>\n",
       "      <td>1.0</td>\n",
       "      <td>1.0</td>\n",
       "      <td>0.34</td>\n",
       "      <td>16.5</td>\n",
       "      <td>5.9</td>\n",
       "      <td>2</td>\n",
       "      <td>7</td>\n",
       "      <td>9.0</td>\n",
       "      <td>4.0</td>\n",
       "      <td>5.0</td>\n",
       "    </tr>\n",
       "  </tbody>\n",
       "</table>\n",
       "</div>"
      ],
      "text/plain": [
       "   Season             Team           Player  Gls   Ast  G-PK  G+A-PK/90s  \\\n",
       "0    2021  Manchester City          Ederson  0.0   1.0   0.0        0.03   \n",
       "1    2021  Manchester City      RÃºben Dias  1.0   0.0   1.0        0.03   \n",
       "4    2021  Manchester City    JoÃ£o Cancelo  2.0   3.0   2.0        0.20   \n",
       "7    2021  Manchester City  Kevin De Bruyne  5.0  11.0   3.0        0.66   \n",
       "12   2021  Manchester City       Phil Foden  7.0   5.0   7.0        0.73   \n",
       "14   2021  Manchester City   FerrÃ¡n Torres  7.0   2.0   7.0        0.64   \n",
       "23   2021  Manchester City       Liam Delap  0.0   0.0   0.0        0.00   \n",
       "32   2021  Manchester City   James Trafford  0.0   0.0   0.0        0.00   \n",
       "22   2021  Manchester City     Zack Steffen  0.0   0.0   0.0        0.00   \n",
       "19   2021  Manchester City   Sergio AgÃ¼ero  2.0   1.0   1.0        0.34   \n",
       "\n",
       "    Min%   90s  Compl  unSub   onG  onGA   +/-  \n",
       "0   94.4  34.0     34      0  69.0  25.0  44.0  \n",
       "1   82.2  29.6     28      4  61.0  18.0  43.0  \n",
       "4   70.7  25.4     23      6  50.0  18.0  32.0  \n",
       "7   58.9  21.2     16      3  40.0  17.0  23.0  \n",
       "12  45.4  16.3      9     10  41.0  13.0  28.0  \n",
       "14  39.4  14.2      5     13  27.0  13.0  14.0  \n",
       "23   1.2   0.4      0      5   1.0   4.0  -3.0  \n",
       "32   0.0   0.0      0      1   0.0   0.0   0.0  \n",
       "22   2.8   1.0      1     32   3.0   1.0   2.0  \n",
       "19  16.5   5.9      2      7   9.0   4.0   5.0  "
      ]
     },
     "execution_count": 116,
     "metadata": {},
     "output_type": "execute_result"
    }
   ],
   "source": [
    "dfn21 = data21[['Pos','Gls', 'Ast', 'G-PK', 'G+A-PK/90s', 'Min%', '90s', 'Compl', 'unSub', 'onG', 'onGA', '+/-']]\n",
    "\n",
    "#--\n",
    "dfn1 = data21[data['Pos'] == 'DF']\n",
    "dfn2 = data21[data['Pos'] == 'DF,MF']\n",
    "dfn3 = data21[data['Pos'] == 'MF,DF']\n",
    "dfn4 = data21[data['Pos'] == 'DF,FW']\n",
    "\n",
    "frames = [dfn1, dfn2, dfn3, dfn4]\n",
    "dfn21 = pd.concat(frames)\n",
    "#--\n",
    "\n",
    "dfn21 = dfn21.drop(columns = \"Pos\")\n",
    "dfn21 = dfn21.fillna(0)\n",
    "dfn21"
   ]
  },
  {
   "cell_type": "code",
   "execution_count": 117,
   "metadata": {},
   "outputs": [],
   "source": [
    "## the fact that we chose knn_model_fw & bagging_md for the previous data, \n",
    "## we simply fit those models to get dfn21 predictions."
   ]
  },
  {
   "cell_type": "code",
   "execution_count": 119,
   "metadata": {},
   "outputs": [
    {
     "name": "stdout",
     "output_type": "stream",
     "text": [
      "   Season             Team           Player  Gls   Ast  G-PK  G+A-PK/90s  \\\n",
      "0    2021  Manchester City          Ederson  0.0   1.0   0.0        0.03   \n",
      "1    2021  Manchester City      RÃºben Dias  1.0   0.0   1.0        0.03   \n",
      "4    2021  Manchester City    JoÃ£o Cancelo  2.0   3.0   2.0        0.20   \n",
      "7    2021  Manchester City  Kevin De Bruyne  5.0  11.0   3.0        0.66   \n",
      "12   2021  Manchester City       Phil Foden  7.0   5.0   7.0        0.73   \n",
      "14   2021  Manchester City   FerrÃ¡n Torres  7.0   2.0   7.0        0.64   \n",
      "23   2021  Manchester City       Liam Delap  0.0   0.0   0.0        0.00   \n",
      "32   2021  Manchester City   James Trafford  0.0   0.0   0.0        0.00   \n",
      "22   2021  Manchester City     Zack Steffen  0.0   0.0   0.0        0.00   \n",
      "19   2021  Manchester City   Sergio AgÃ¼ero  2.0   1.0   1.0        0.34   \n",
      "\n",
      "    Min%   90s  Compl  unSub   onG  onGA   +/-  Pred_G+A-PK/90s  \n",
      "0   94.4  34.0     34      0  69.0  25.0  44.0            0.000  \n",
      "1   82.2  29.6     28      4  61.0  18.0  43.0            0.000  \n",
      "4   70.7  25.4     23      6  50.0  18.0  32.0            0.000  \n",
      "7   58.9  21.2     16      3  40.0  17.0  23.0            0.735  \n",
      "12  45.4  16.3      9     10  41.0  13.0  28.0            0.645  \n",
      "14  39.4  14.2      5     13  27.0  13.0  14.0            0.860  \n",
      "23   1.2   0.4      0      5   1.0   4.0  -3.0            0.000  \n",
      "32   0.0   0.0      0      1   0.0   0.0   0.0            0.000  \n",
      "22   2.8   1.0      1     32   3.0   1.0   2.0            0.000  \n",
      "19  16.5   5.9      2      7   9.0   4.0   5.0            0.000  \n"
     ]
    },
    {
     "data": {
      "image/png": "[encoded data removed]",
      "text/plain": [
       "<Figure size 432x288 with 1 Axes>"
      ]
     },
     "metadata": {
      "needs_background": "light"
     },
     "output_type": "display_data"
    }
   ],
   "source": [
    "dfn21['Pred_G+A-PK/90s']  = knn_model_fw.predict(dfn21.drop(columns = ['Season', 'Team', 'Player',\n",
    "                                                                       'G+A-PK/90s', 'Min%', '90s', 'Compl', 'unSub',\n",
    "                                                                       'onG', 'onGA', '+/-']).values)\n",
    "print(dfn21)\n",
    "\n",
    "fig = plt.figure()\n",
    "plt.scatter(dfn21['G+A-PK/90s'].values, dfn21['G+A-PK/90s'].values, s=10, color = 'black', label = 'Test')\n",
    "plt.scatter(dfn21['Pred_G+A-PK/90s'].values, dfn21['Pred_G+A-PK/90s'].values, s=10, color = 'red', label = 'Pred')\n",
    "\n",
    "plt.legend()\n",
    "plt.savefig('knn_Dfn')\n",
    "fig.suptitle('Defence Data | K-NN Model')\n",
    "plt.show(fig)"
   ]
  },
  {
   "cell_type": "code",
   "execution_count": 120,
   "metadata": {},
   "outputs": [
    {
     "name": "stdout",
     "output_type": "stream",
     "text": [
      "   Season             Team           Player  Gls   Ast  G-PK  G+A-PK/90s  \\\n",
      "0    2021  Manchester City          Ederson  0.0   1.0   0.0        0.03   \n",
      "1    2021  Manchester City      RÃºben Dias  1.0   0.0   1.0        0.03   \n",
      "4    2021  Manchester City    JoÃ£o Cancelo  2.0   3.0   2.0        0.20   \n",
      "7    2021  Manchester City  Kevin De Bruyne  5.0  11.0   3.0        0.66   \n",
      "12   2021  Manchester City       Phil Foden  7.0   5.0   7.0        0.73   \n",
      "14   2021  Manchester City   FerrÃ¡n Torres  7.0   2.0   7.0        0.64   \n",
      "23   2021  Manchester City       Liam Delap  0.0   0.0   0.0        0.00   \n",
      "32   2021  Manchester City   James Trafford  0.0   0.0   0.0        0.00   \n",
      "22   2021  Manchester City     Zack Steffen  0.0   0.0   0.0        0.00   \n",
      "19   2021  Manchester City   Sergio AgÃ¼ero  2.0   1.0   1.0        0.34   \n",
      "\n",
      "    Min%   90s  Compl  unSub   onG  onGA   +/-  Pred_G+A-PK/90s  Pred_+/-  \n",
      "0   94.4  34.0     34      0  69.0  25.0  44.0            0.000    40.506  \n",
      "1   82.2  29.6     28      4  61.0  18.0  43.0            0.000    40.748  \n",
      "4   70.7  25.4     23      6  50.0  18.0  32.0            0.000    35.674  \n",
      "7   58.9  21.2     16      3  40.0  17.0  23.0            0.735    29.432  \n",
      "12  45.4  16.3      9     10  41.0  13.0  28.0            0.645    22.014  \n",
      "14  39.4  14.2      5     13  27.0  13.0  14.0            0.860    17.384  \n",
      "23   1.2   0.4      0      5   1.0   4.0  -3.0            0.000    -0.986  \n",
      "32   0.0   0.0      0      1   0.0   0.0   0.0            0.000    -0.346  \n",
      "22   2.8   1.0      1     32   3.0   1.0   2.0            0.000     1.638  \n",
      "19  16.5   5.9      2      7   9.0   4.0   5.0            0.000     3.294  \n"
     ]
    },
    {
     "data": {
      "image/png": "[encoded data removed]",
      "text/plain": [
       "<Figure size 432x288 with 1 Axes>"
      ]
     },
     "metadata": {
      "needs_background": "light"
     },
     "output_type": "display_data"
    }
   ],
   "source": [
    "dfn21['Pred_+/-']  = bagging_model_md.predict(dfn21.drop(columns = ['Season', 'Team', 'Player', 'Gls', 'Ast', 'G-PK',\n",
    "                                                                       'G+A-PK/90s', '+/-']).values)\n",
    "print(dfn21)\n",
    "\n",
    "fig = plt.figure()\n",
    "plt.scatter(dfn21['+/-'].values, dfn21['+/-'].values, s=10, color = 'black', label = 'Test')\n",
    "plt.scatter(dfn21['Pred_+/-'].values, dfn21['Pred_+/-'].values, s=10, color = 'red', label = 'Pred')\n",
    "\n",
    "plt.legend()\n",
    "plt.savefig('bagging_Dfn')\n",
    "fig.suptitle('Defence Data | Bagging Model')\n",
    "plt.show(fig)"
   ]
  },
  {
   "cell_type": "code",
   "execution_count": 121,
   "metadata": {},
   "outputs": [],
   "source": [
    "## the fact thet our 'Pred_+/-' column has double digit data & our 'Pred_G+A-PK/90s' column has single digit data,\n",
    "## we divide the 'Pred_+/-' column by 10 for further calculation"
   ]
  },
  {
   "cell_type": "code",
   "execution_count": 122,
   "metadata": {},
   "outputs": [],
   "source": [
    "dfn21['Pred_+/-_by10'] = dfn21['Pred_+/-']/10"
   ]
  },
  {
   "cell_type": "code",
   "execution_count": 123,
   "metadata": {},
   "outputs": [
    {
     "data": {
      "text/html": [
       "<div>\n",
       "<style scoped>\n",
       "    .dataframe tbody tr th:only-of-type {\n",
       "        vertical-align: middle;\n",
       "    }\n",
       "\n",
       "    .dataframe tbody tr th {\n",
       "        vertical-align: top;\n",
       "    }\n",
       "\n",
       "    .dataframe thead th {\n",
       "        text-align: right;\n",
       "    }\n",
       "</style>\n",
       "<table border=\"1\" class=\"dataframe\">\n",
       "  <thead>\n",
       "    <tr style=\"text-align: right;\">\n",
       "      <th></th>\n",
       "      <th>Season</th>\n",
       "      <th>Team</th>\n",
       "      <th>Player</th>\n",
       "      <th>Gls</th>\n",
       "      <th>Ast</th>\n",
       "      <th>G-PK</th>\n",
       "      <th>G+A-PK/90s</th>\n",
       "      <th>Min%</th>\n",
       "      <th>90s</th>\n",
       "      <th>Compl</th>\n",
       "      <th>unSub</th>\n",
       "      <th>onG</th>\n",
       "      <th>onGA</th>\n",
       "      <th>+/-</th>\n",
       "      <th>Pred_G+A-PK/90s</th>\n",
       "      <th>Pred_+/-</th>\n",
       "      <th>Pred_+/-_by10</th>\n",
       "      <th>Pred_fw+md</th>\n",
       "    </tr>\n",
       "  </thead>\n",
       "  <tbody>\n",
       "    <tr>\n",
       "      <th>0</th>\n",
       "      <td>2021</td>\n",
       "      <td>Manchester City</td>\n",
       "      <td>Ederson</td>\n",
       "      <td>0.0</td>\n",
       "      <td>1.0</td>\n",
       "      <td>0.0</td>\n",
       "      <td>0.03</td>\n",
       "      <td>94.4</td>\n",
       "      <td>34.0</td>\n",
       "      <td>34</td>\n",
       "      <td>0</td>\n",
       "      <td>69.0</td>\n",
       "      <td>25.0</td>\n",
       "      <td>44.0</td>\n",
       "      <td>0.000</td>\n",
       "      <td>40.506</td>\n",
       "      <td>4.0506</td>\n",
       "      <td>2.0253</td>\n",
       "    </tr>\n",
       "    <tr>\n",
       "      <th>1</th>\n",
       "      <td>2021</td>\n",
       "      <td>Manchester City</td>\n",
       "      <td>RÃºben Dias</td>\n",
       "      <td>1.0</td>\n",
       "      <td>0.0</td>\n",
       "      <td>1.0</td>\n",
       "      <td>0.03</td>\n",
       "      <td>82.2</td>\n",
       "      <td>29.6</td>\n",
       "      <td>28</td>\n",
       "      <td>4</td>\n",
       "      <td>61.0</td>\n",
       "      <td>18.0</td>\n",
       "      <td>43.0</td>\n",
       "      <td>0.000</td>\n",
       "      <td>40.748</td>\n",
       "      <td>4.0748</td>\n",
       "      <td>2.0374</td>\n",
       "    </tr>\n",
       "    <tr>\n",
       "      <th>4</th>\n",
       "      <td>2021</td>\n",
       "      <td>Manchester City</td>\n",
       "      <td>JoÃ£o Cancelo</td>\n",
       "      <td>2.0</td>\n",
       "      <td>3.0</td>\n",
       "      <td>2.0</td>\n",
       "      <td>0.20</td>\n",
       "      <td>70.7</td>\n",
       "      <td>25.4</td>\n",
       "      <td>23</td>\n",
       "      <td>6</td>\n",
       "      <td>50.0</td>\n",
       "      <td>18.0</td>\n",
       "      <td>32.0</td>\n",
       "      <td>0.000</td>\n",
       "      <td>35.674</td>\n",
       "      <td>3.5674</td>\n",
       "      <td>1.7837</td>\n",
       "    </tr>\n",
       "    <tr>\n",
       "      <th>7</th>\n",
       "      <td>2021</td>\n",
       "      <td>Manchester City</td>\n",
       "      <td>Kevin De Bruyne</td>\n",
       "      <td>5.0</td>\n",
       "      <td>11.0</td>\n",
       "      <td>3.0</td>\n",
       "      <td>0.66</td>\n",
       "      <td>58.9</td>\n",
       "      <td>21.2</td>\n",
       "      <td>16</td>\n",
       "      <td>3</td>\n",
       "      <td>40.0</td>\n",
       "      <td>17.0</td>\n",
       "      <td>23.0</td>\n",
       "      <td>0.735</td>\n",
       "      <td>29.432</td>\n",
       "      <td>2.9432</td>\n",
       "      <td>1.8391</td>\n",
       "    </tr>\n",
       "    <tr>\n",
       "      <th>12</th>\n",
       "      <td>2021</td>\n",
       "      <td>Manchester City</td>\n",
       "      <td>Phil Foden</td>\n",
       "      <td>7.0</td>\n",
       "      <td>5.0</td>\n",
       "      <td>7.0</td>\n",
       "      <td>0.73</td>\n",
       "      <td>45.4</td>\n",
       "      <td>16.3</td>\n",
       "      <td>9</td>\n",
       "      <td>10</td>\n",
       "      <td>41.0</td>\n",
       "      <td>13.0</td>\n",
       "      <td>28.0</td>\n",
       "      <td>0.645</td>\n",
       "      <td>22.014</td>\n",
       "      <td>2.2014</td>\n",
       "      <td>1.4232</td>\n",
       "    </tr>\n",
       "    <tr>\n",
       "      <th>14</th>\n",
       "      <td>2021</td>\n",
       "      <td>Manchester City</td>\n",
       "      <td>FerrÃ¡n Torres</td>\n",
       "      <td>7.0</td>\n",
       "      <td>2.0</td>\n",
       "      <td>7.0</td>\n",
       "      <td>0.64</td>\n",
       "      <td>39.4</td>\n",
       "      <td>14.2</td>\n",
       "      <td>5</td>\n",
       "      <td>13</td>\n",
       "      <td>27.0</td>\n",
       "      <td>13.0</td>\n",
       "      <td>14.0</td>\n",
       "      <td>0.860</td>\n",
       "      <td>17.384</td>\n",
       "      <td>1.7384</td>\n",
       "      <td>1.2992</td>\n",
       "    </tr>\n",
       "    <tr>\n",
       "      <th>23</th>\n",
       "      <td>2021</td>\n",
       "      <td>Manchester City</td>\n",
       "      <td>Liam Delap</td>\n",
       "      <td>0.0</td>\n",
       "      <td>0.0</td>\n",
       "      <td>0.0</td>\n",
       "      <td>0.00</td>\n",
       "      <td>1.2</td>\n",
       "      <td>0.4</td>\n",
       "      <td>0</td>\n",
       "      <td>5</td>\n",
       "      <td>1.0</td>\n",
       "      <td>4.0</td>\n",
       "      <td>-3.0</td>\n",
       "      <td>0.000</td>\n",
       "      <td>-0.986</td>\n",
       "      <td>-0.0986</td>\n",
       "      <td>-0.0493</td>\n",
       "    </tr>\n",
       "    <tr>\n",
       "      <th>32</th>\n",
       "      <td>2021</td>\n",
       "      <td>Manchester City</td>\n",
       "      <td>James Trafford</td>\n",
       "      <td>0.0</td>\n",
       "      <td>0.0</td>\n",
       "      <td>0.0</td>\n",
       "      <td>0.00</td>\n",
       "      <td>0.0</td>\n",
       "      <td>0.0</td>\n",
       "      <td>0</td>\n",
       "      <td>1</td>\n",
       "      <td>0.0</td>\n",
       "      <td>0.0</td>\n",
       "      <td>0.0</td>\n",
       "      <td>0.000</td>\n",
       "      <td>-0.346</td>\n",
       "      <td>-0.0346</td>\n",
       "      <td>-0.0173</td>\n",
       "    </tr>\n",
       "    <tr>\n",
       "      <th>22</th>\n",
       "      <td>2021</td>\n",
       "      <td>Manchester City</td>\n",
       "      <td>Zack Steffen</td>\n",
       "      <td>0.0</td>\n",
       "      <td>0.0</td>\n",
       "      <td>0.0</td>\n",
       "      <td>0.00</td>\n",
       "      <td>2.8</td>\n",
       "      <td>1.0</td>\n",
       "      <td>1</td>\n",
       "      <td>32</td>\n",
       "      <td>3.0</td>\n",
       "      <td>1.0</td>\n",
       "      <td>2.0</td>\n",
       "      <td>0.000</td>\n",
       "      <td>1.638</td>\n",
       "      <td>0.1638</td>\n",
       "      <td>0.0819</td>\n",
       "    </tr>\n",
       "    <tr>\n",
       "      <th>19</th>\n",
       "      <td>2021</td>\n",
       "      <td>Manchester City</td>\n",
       "      <td>Sergio AgÃ¼ero</td>\n",
       "      <td>2.0</td>\n",
       "      <td>1.0</td>\n",
       "      <td>1.0</td>\n",
       "      <td>0.34</td>\n",
       "      <td>16.5</td>\n",
       "      <td>5.9</td>\n",
       "      <td>2</td>\n",
       "      <td>7</td>\n",
       "      <td>9.0</td>\n",
       "      <td>4.0</td>\n",
       "      <td>5.0</td>\n",
       "      <td>0.000</td>\n",
       "      <td>3.294</td>\n",
       "      <td>0.3294</td>\n",
       "      <td>0.1647</td>\n",
       "    </tr>\n",
       "  </tbody>\n",
       "</table>\n",
       "</div>"
      ],
      "text/plain": [
       "   Season             Team           Player  Gls   Ast  G-PK  G+A-PK/90s  \\\n",
       "0    2021  Manchester City          Ederson  0.0   1.0   0.0        0.03   \n",
       "1    2021  Manchester City      RÃºben Dias  1.0   0.0   1.0        0.03   \n",
       "4    2021  Manchester City    JoÃ£o Cancelo  2.0   3.0   2.0        0.20   \n",
       "7    2021  Manchester City  Kevin De Bruyne  5.0  11.0   3.0        0.66   \n",
       "12   2021  Manchester City       Phil Foden  7.0   5.0   7.0        0.73   \n",
       "14   2021  Manchester City   FerrÃ¡n Torres  7.0   2.0   7.0        0.64   \n",
       "23   2021  Manchester City       Liam Delap  0.0   0.0   0.0        0.00   \n",
       "32   2021  Manchester City   James Trafford  0.0   0.0   0.0        0.00   \n",
       "22   2021  Manchester City     Zack Steffen  0.0   0.0   0.0        0.00   \n",
       "19   2021  Manchester City   Sergio AgÃ¼ero  2.0   1.0   1.0        0.34   \n",
       "\n",
       "    Min%   90s  Compl  unSub   onG  onGA   +/-  Pred_G+A-PK/90s  Pred_+/-  \\\n",
       "0   94.4  34.0     34      0  69.0  25.0  44.0            0.000    40.506   \n",
       "1   82.2  29.6     28      4  61.0  18.0  43.0            0.000    40.748   \n",
       "4   70.7  25.4     23      6  50.0  18.0  32.0            0.000    35.674   \n",
       "7   58.9  21.2     16      3  40.0  17.0  23.0            0.735    29.432   \n",
       "12  45.4  16.3      9     10  41.0  13.0  28.0            0.645    22.014   \n",
       "14  39.4  14.2      5     13  27.0  13.0  14.0            0.860    17.384   \n",
       "23   1.2   0.4      0      5   1.0   4.0  -3.0            0.000    -0.986   \n",
       "32   0.0   0.0      0      1   0.0   0.0   0.0            0.000    -0.346   \n",
       "22   2.8   1.0      1     32   3.0   1.0   2.0            0.000     1.638   \n",
       "19  16.5   5.9      2      7   9.0   4.0   5.0            0.000     3.294   \n",
       "\n",
       "    Pred_+/-_by10  Pred_fw+md  \n",
       "0          4.0506      2.0253  \n",
       "1          4.0748      2.0374  \n",
       "4          3.5674      1.7837  \n",
       "7          2.9432      1.8391  \n",
       "12         2.2014      1.4232  \n",
       "14         1.7384      1.2992  \n",
       "23        -0.0986     -0.0493  \n",
       "32        -0.0346     -0.0173  \n",
       "22         0.1638      0.0819  \n",
       "19         0.3294      0.1647  "
      ]
     },
     "execution_count": 123,
     "metadata": {},
     "output_type": "execute_result"
    }
   ],
   "source": [
    "dfn21['Pred_fw+md'] = 0.5*dfn21['Pred_G+A-PK/90s'] + 0.5*dfn21['Pred_+/-_by10']\n",
    "dfn21"
   ]
  },
  {
   "cell_type": "code",
   "execution_count": null,
   "metadata": {},
   "outputs": [],
   "source": []
  },
  {
   "cell_type": "markdown",
   "metadata": {},
   "source": [
    "## Now for the Efficiency score of Manchester City for Season 2021"
   ]
  },
  {
   "cell_type": "code",
   "execution_count": 124,
   "metadata": {},
   "outputs": [],
   "source": [
    "## for the sake of further calculations\n",
    "md21['Pred_+/-_by10'] = md21['Pred_+/-']/10"
   ]
  },
  {
   "cell_type": "code",
   "execution_count": 128,
   "metadata": {},
   "outputs": [
    {
     "name": "stdout",
     "output_type": "stream",
     "text": [
      "Forward(0.50625) + Mid(1.8743589743589741) + Defence(1.0587899999999997) = \n",
      "3.4393989743589737\n"
     ]
    }
   ],
   "source": [
    "forward = fw21['Pred_G+A-PK/90s'].mean()\n",
    "mid = md21['Pred_+/-_by10'].mean()\n",
    "defence = dfn21['Pred_fw+md'].mean()\n",
    "\n",
    "Man_City_Eff = forward + mid + defence\n",
    "print(\"Forward(\" + str(forward) + \")\" + \" + \" + \"Mid(\" + str(mid) + \")\" + \" + \" + \"Defence(\" + str(defence) + \")\"  + \" = \")\n",
    "print(Man_City_Eff)"
   ]
  },
  {
   "cell_type": "code",
   "execution_count": null,
   "metadata": {},
   "outputs": [],
   "source": []
  },
  {
   "cell_type": "code",
   "execution_count": null,
   "metadata": {},
   "outputs": [],
   "source": []
  }
 ],
 "metadata": {
  "kernelspec": {
   "display_name": "Python 3",
   "language": "python",
   "name": "python3"
  },
  "language_info": {
   "codemirror_mode": {
    "name": "ipython",
    "version": 3
   },
   "file_extension": ".py",
   "mimetype": "text/x-python",
   "name": "python",
   "nbconvert_exporter": "python",
   "pygments_lexer": "ipython3",
   "version": "3.8.5"
  }
 },
 "nbformat": 4,
 "nbformat_minor": 4
}
